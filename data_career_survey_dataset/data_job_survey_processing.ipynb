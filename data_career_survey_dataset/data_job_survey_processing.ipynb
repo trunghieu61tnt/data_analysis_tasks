{
  "nbformat": 4,
  "nbformat_minor": 0,
  "metadata": {
    "colab": {
      "provenance": []
    },
    "kernelspec": {
      "name": "python3",
      "display_name": "Python 3"
    },
    "language_info": {
      "name": "python"
    }
  },
  "cells": [
    {
      "cell_type": "code",
      "execution_count": null,
      "metadata": {
        "id": "HP_kLfG6-UiQ"
      },
      "outputs": [],
      "source": [
        "import pandas as pd\n",
        "import numpy as np\n",
        "import re"
      ]
    },
    {
      "cell_type": "code",
      "source": [
        "from google.colab import drive\n",
        "\n",
        "drive.mount('/content/drive')"
      ],
      "metadata": {
        "id": "wLLemzMJCRz4"
      },
      "execution_count": null,
      "outputs": []
    },
    {
      "cell_type": "code",
      "source": [
        "path = '/content/drive/My Drive/MyFolder/'\n",
        "file_name = 'Power BI - Final Project.xlsx'\n",
        "\n",
        "data = pd.read_excel(path+file_name)"
      ],
      "metadata": {
        "id": "9F9eewDbDKLz"
      },
      "execution_count": null,
      "outputs": []
    },
    {
      "cell_type": "code",
      "source": [
        "data.shape"
      ],
      "metadata": {
        "colab": {
          "base_uri": "https://localhost:8080/"
        },
        "id": "nxq9WMVDDs-J",
        "outputId": "a63b4fdb-3b17-4f85-9711-47f6b94f8f00"
      },
      "execution_count": null,
      "outputs": [
        {
          "output_type": "execute_result",
          "data": {
            "text/plain": [
              "(630, 28)"
            ]
          },
          "metadata": {},
          "execution_count": 8
        }
      ]
    },
    {
      "cell_type": "code",
      "source": [
        "data.columns"
      ],
      "metadata": {
        "colab": {
          "base_uri": "https://localhost:8080/"
        },
        "id": "qT9-Zs9ED0tO",
        "outputId": "31911207-ff51-4831-f5ef-3d2e298a9302"
      },
      "execution_count": null,
      "outputs": [
        {
          "output_type": "execute_result",
          "data": {
            "text/plain": [
              "Index(['Unique ID', 'Email', 'Date Taken (America/New_York)',\n",
              "       'Time Taken (America/New_York)', 'Browser', 'OS', 'City', 'Country',\n",
              "       'Referrer', 'Time Spent',\n",
              "       'Q1 - Which Title Best Fits your Current Role?',\n",
              "       'Q2 - Did you switch careers into Data?',\n",
              "       'Q3 - Current Yearly Salary (in USD)',\n",
              "       'Q4 - What Industry do you work in?',\n",
              "       'Q5 - Favorite Programming Language',\n",
              "       'Q6 - How Happy are you in your Current Position with the following? (Salary)',\n",
              "       'Q6 - How Happy are you in your Current Position with the following? (Work/Life Balance)',\n",
              "       'Q6 - How Happy are you in your Current Position with the following? (Coworkers)',\n",
              "       'Q6 - How Happy are you in your Current Position with the following? (Management)',\n",
              "       'Q6 - How Happy are you in your Current Position with the following? (Upward Mobility)',\n",
              "       'Q6 - How Happy are you in your Current Position with the following? (Learning New Things)',\n",
              "       'Q7 - How difficult was it for you to break into Data?',\n",
              "       'Q8 - If you were to look for a new job today, what would be the most important thing to you?',\n",
              "       'Q9 - Male/Female?', 'Q10 - Current Age',\n",
              "       'Q11 - Which Country do you live in?',\n",
              "       'Q12 - Highest Level of Education', 'Q13 - Ethnicity'],\n",
              "      dtype='object')"
            ]
          },
          "metadata": {},
          "execution_count": 10
        }
      ]
    },
    {
      "cell_type": "code",
      "source": [
        "data_backup = data.copy(deep=True)\n",
        "# data = data_backup.copy(deep=True)"
      ],
      "metadata": {
        "id": "XdrsTbCNE0tf"
      },
      "execution_count": null,
      "outputs": []
    },
    {
      "cell_type": "markdown",
      "source": [
        "# Drop some redundant columns"
      ],
      "metadata": {
        "id": "iVjkq7jCPyJm"
      }
    },
    {
      "cell_type": "code",
      "source": [
        "# data['Email'].value_counts() # useless info\n",
        "data.drop(['Email'], axis=1, inplace=True)"
      ],
      "metadata": {
        "id": "vdFrU1W2D7dd"
      },
      "execution_count": null,
      "outputs": []
    },
    {
      "cell_type": "code",
      "source": [
        "# data[['Date Taken (America/New_York)', 'Time Taken (America/New_York)']].tail(20) # useless info\n",
        "data.drop(['Date Taken (America/New_York)', 'Time Taken (America/New_York)'], axis=1, inplace=True)"
      ],
      "metadata": {
        "id": "FBYgtF7iFBg-"
      },
      "execution_count": null,
      "outputs": []
    },
    {
      "cell_type": "code",
      "source": [
        "# len(set(data['Unique ID']))\n",
        "data.drop(['Unique ID'], axis=1, inplace=True)"
      ],
      "metadata": {
        "id": "IBsmPmjQFYsi"
      },
      "execution_count": null,
      "outputs": []
    },
    {
      "cell_type": "code",
      "source": [
        "# data['Browser'].value_counts()\n",
        "# data['OS'].value_counts()\n",
        "# data['City'].value_counts()\n",
        "# data['Country'].value_counts()\n",
        "# data['Referrer'].value_counts()\n",
        "data.drop(['Browser', 'OS', 'City', 'Country', 'Referrer', 'Time Spent'], axis=1, inplace=True)"
      ],
      "metadata": {
        "id": "5_klhDWeFveh"
      },
      "execution_count": null,
      "outputs": []
    },
    {
      "cell_type": "code",
      "source": [
        "data.columns"
      ],
      "metadata": {
        "colab": {
          "base_uri": "https://localhost:8080/"
        },
        "id": "u5O2R8jGROq-",
        "outputId": "c50c77ba-c6c7-49bf-d7bf-21af77cdd2fc"
      },
      "execution_count": null,
      "outputs": [
        {
          "output_type": "execute_result",
          "data": {
            "text/plain": [
              "Index(['Q1 - Which Title Best Fits your Current Role?',\n",
              "       'Q2 - Did you switch careers into Data?',\n",
              "       'Q3 - Current Yearly Salary (in USD)',\n",
              "       'Q4 - What Industry do you work in?',\n",
              "       'Q5 - Favorite Programming Language',\n",
              "       'Q6 - How Happy are you in your Current Position with the following? (Salary)',\n",
              "       'Q6 - How Happy are you in your Current Position with the following? (Work/Life Balance)',\n",
              "       'Q6 - How Happy are you in your Current Position with the following? (Coworkers)',\n",
              "       'Q6 - How Happy are you in your Current Position with the following? (Management)',\n",
              "       'Q6 - How Happy are you in your Current Position with the following? (Upward Mobility)',\n",
              "       'Q6 - How Happy are you in your Current Position with the following? (Learning New Things)',\n",
              "       'Q7 - How difficult was it for you to break into Data?',\n",
              "       'Q8 - If you were to look for a new job today, what would be the most important thing to you?',\n",
              "       'Q9 - Male/Female?', 'Q10 - Current Age',\n",
              "       'Q11 - Which Country do you live in?',\n",
              "       'Q12 - Highest Level of Education', 'Q13 - Ethnicity'],\n",
              "      dtype='object')"
            ]
          },
          "metadata": {},
          "execution_count": 31
        }
      ]
    },
    {
      "cell_type": "code",
      "source": [
        "new_cols = ['job_title', 'switch_carrer', 'yearly_salary', 'industry', 'languages_use',\n",
        "            'salary_satisfaction', 'life_balance_satisfaction', 'coworker_satisfaction',\n",
        "            'management_satisfaction', 'upward_satisfaction', 'q6', 'difficulty_feeling',\n",
        "            'q8', 'sex', 'age', 'country', 'education_level', 'ethnicity']\n",
        "\n",
        "map_cols = dict(zip(data.columns, new_cols))\n",
        "map_cols"
      ],
      "metadata": {
        "id": "E07eaGwpRu3X"
      },
      "execution_count": null,
      "outputs": []
    },
    {
      "cell_type": "code",
      "source": [
        "map_cols"
      ],
      "metadata": {
        "colab": {
          "base_uri": "https://localhost:8080/"
        },
        "id": "UBCuv2iEVPU-",
        "outputId": "ee3c69e8-c685-4017-eeb2-2352fe4b312a"
      },
      "execution_count": null,
      "outputs": [
        {
          "output_type": "execute_result",
          "data": {
            "text/plain": [
              "{'Q1 - Which Title Best Fits your Current Role?': 'job_title',\n",
              " 'Q2 - Did you switch careers into Data?': 'switch_carrer',\n",
              " 'Q3 - Current Yearly Salary (in USD)': 'yearly_salary',\n",
              " 'Q4 - What Industry do you work in?': 'industry',\n",
              " 'Q5 - Favorite Programming Language': 'languages_use',\n",
              " 'Q6 - How Happy are you in your Current Position with the following? (Salary)': 'salary_satisfaction',\n",
              " 'Q6 - How Happy are you in your Current Position with the following? (Work/Life Balance)': 'life_balance_satisfaction',\n",
              " 'Q6 - How Happy are you in your Current Position with the following? (Coworkers)': 'coworker_satisfaction',\n",
              " 'Q6 - How Happy are you in your Current Position with the following? (Management)': 'management_satisfaction',\n",
              " 'Q6 - How Happy are you in your Current Position with the following? (Upward Mobility)': 'upward_satisfaction',\n",
              " 'Q6 - How Happy are you in your Current Position with the following? (Learning New Things)': 'q6',\n",
              " 'Q7 - How difficult was it for you to break into Data?': 'difficulty_feeling',\n",
              " 'Q8 - If you were to look for a new job today, what would be the most important thing to you?': 'q8',\n",
              " 'Q9 - Male/Female?': 'sex',\n",
              " 'Q10 - Current Age': 'age',\n",
              " 'Q11 - Which Country do you live in?': 'country',\n",
              " 'Q12 - Highest Level of Education': 'education_level',\n",
              " 'Q13 - Ethnicity': 'ethnicity'}"
            ]
          },
          "metadata": {},
          "execution_count": 33
        }
      ]
    },
    {
      "cell_type": "code",
      "source": [
        "data.rename(map_cols, axis=1, inplace=True)"
      ],
      "metadata": {
        "id": "tHQopt3AVSCB"
      },
      "execution_count": null,
      "outputs": []
    },
    {
      "cell_type": "code",
      "source": [
        "set(data['education_level'])\n",
        "data['education_level'].value_counts()"
      ],
      "metadata": {
        "colab": {
          "base_uri": "https://localhost:8080/"
        },
        "id": "AoOpfP4JVpJo",
        "outputId": "dea5ca33-dcaa-449b-8d2d-85953f1a218c"
      },
      "execution_count": null,
      "outputs": [
        {
          "output_type": "execute_result",
          "data": {
            "text/plain": [
              "Bachelors      329\n",
              "Masters        192\n",
              "High School     36\n",
              "Associates      16\n",
              "PhD              5\n",
              "Name: education_level, dtype: int64"
            ]
          },
          "metadata": {},
          "execution_count": 39
        }
      ]
    },
    {
      "cell_type": "code",
      "source": [
        "data.drop(['q6', 'q8'], axis=1, inplace=True)"
      ],
      "metadata": {
        "id": "KTNjbzF-V2Dv"
      },
      "execution_count": null,
      "outputs": []
    },
    {
      "cell_type": "code",
      "source": [
        "data_backup = data.copy(deep=True)"
      ],
      "metadata": {
        "id": "C1SZaYsyWIR_"
      },
      "execution_count": null,
      "outputs": []
    },
    {
      "cell_type": "markdown",
      "source": [
        "# Column Transforming"
      ],
      "metadata": {
        "id": "wB82gpc1WL_A"
      }
    },
    {
      "cell_type": "code",
      "source": [
        "data.columns"
      ],
      "metadata": {
        "colab": {
          "base_uri": "https://localhost:8080/"
        },
        "id": "26K4BC73WSbH",
        "outputId": "767ae017-6a7f-4537-a6c8-b2926a96cffe"
      },
      "execution_count": null,
      "outputs": [
        {
          "output_type": "execute_result",
          "data": {
            "text/plain": [
              "Index(['job_title', 'switch_carrer', 'yearly_salary', 'industry',\n",
              "       'languages_use', 'salary_satisfaction', 'life_balance_satisfaction',\n",
              "       'coworker_satisfaction', 'management_satisfaction',\n",
              "       'upward_satisfaction', 'difficulty_feeling', 'sex', 'age', 'country',\n",
              "       'education_level', 'ethnicity'],\n",
              "      dtype='object')"
            ]
          },
          "metadata": {},
          "execution_count": 42
        }
      ]
    },
    {
      "cell_type": "code",
      "source": [
        "set(data['job_title'])"
      ],
      "metadata": {
        "id": "8WBpusBda18Y"
      },
      "execution_count": null,
      "outputs": []
    },
    {
      "cell_type": "code",
      "source": [
        "def job_title_other1(job):\n",
        "    if job[:5] == 'Other':\n",
        "        job = job.replace('Other (Please Specify)', 'Other')\n",
        "    return job\n",
        "def job_title_replace(job):\n",
        "    ba_list = ['Other:Business Analys', 'Other:Business Analyst', 'Other:Business Analyst ',\n",
        "               'Other:Business Intelligence Analyst', 'Other:Business analyst ',\n",
        "               'Other:Senior Business Analyst']\n",
        "    ds_list = ['Other:Data Scientist Intern', 'Other:Jr. Data Scientist']\n",
        "    if job in ba_list:\n",
        "        job = 'Business Analyst'\n",
        "    if job in ds_list:\n",
        "        job = 'Data Scientist'\n",
        "    return job\n",
        "def job_title_other2(job):\n",
        "    if job[:5] == 'Other':\n",
        "        job = 'Other'\n",
        "    return job\n",
        "\n",
        "def job_title_transformer(job):\n",
        "    job = job_title_other1(job)\n",
        "    job = job_title_replace(job)\n",
        "    job = job_title_other2(job)\n",
        "    return job"
      ],
      "metadata": {
        "id": "29iYQzI_XHSB"
      },
      "execution_count": null,
      "outputs": []
    },
    {
      "cell_type": "code",
      "source": [
        "data['job_title'] = data['job_title'].apply(job_title_transformer)\n",
        "data['job_title'].replace('Student/Looking/None', 'Other', inplace=True)\n",
        "set(data['job_title'])"
      ],
      "metadata": {
        "colab": {
          "base_uri": "https://localhost:8080/"
        },
        "id": "ldH34IEufOci",
        "outputId": "dda0c1b7-d6b1-40d1-814b-190f1b6a671e"
      },
      "execution_count": null,
      "outputs": [
        {
          "output_type": "execute_result",
          "data": {
            "text/plain": [
              "{'Business Analyst',\n",
              " 'Data Analyst',\n",
              " 'Data Architect',\n",
              " 'Data Engineer',\n",
              " 'Data Scientist',\n",
              " 'Database Developer',\n",
              " 'Other'}"
            ]
          },
          "metadata": {},
          "execution_count": 55
        }
      ]
    },
    {
      "cell_type": "code",
      "source": [
        "set(data['switch_carrer'])"
      ],
      "metadata": {
        "colab": {
          "base_uri": "https://localhost:8080/"
        },
        "id": "u_TTKXS-gAj5",
        "outputId": "a5eb485f-0a1e-492a-f3a6-c8e87cc77822"
      },
      "execution_count": null,
      "outputs": [
        {
          "output_type": "execute_result",
          "data": {
            "text/plain": [
              "{'No', 'Yes'}"
            ]
          },
          "metadata": {},
          "execution_count": 56
        }
      ]
    },
    {
      "cell_type": "code",
      "source": [
        "data['switch_carrer'].replace('Yes', 1, inplace=True)\n",
        "data['switch_carrer'].replace('No', 0, inplace=True)"
      ],
      "metadata": {
        "id": "MB0xwedahQqj"
      },
      "execution_count": null,
      "outputs": []
    },
    {
      "cell_type": "code",
      "source": [
        "set(data['yearly_salary'])"
      ],
      "metadata": {
        "colab": {
          "base_uri": "https://localhost:8080/"
        },
        "id": "3igEHl23hcmS",
        "outputId": "77a65bbf-0773-4d7c-dd83-39d402190f61"
      },
      "execution_count": null,
      "outputs": [
        {
          "output_type": "execute_result",
          "data": {
            "text/plain": [
              "{'0-40k',\n",
              " '106k-125k',\n",
              " '125k-150k',\n",
              " '150k-225k',\n",
              " '225k+',\n",
              " '41k-65k',\n",
              " '66k-85k',\n",
              " '86k-105k'}"
            ]
          },
          "metadata": {},
          "execution_count": 58
        }
      ]
    },
    {
      "cell_type": "code",
      "source": [
        "data['yearly_salary_range'] = data['yearly_salary']\n",
        "data['yearly_salary_average'] = data['yearly_salary']"
      ],
      "metadata": {
        "id": "lsa9wUjmhmCz"
      },
      "execution_count": null,
      "outputs": []
    },
    {
      "cell_type": "code",
      "source": [
        "def salary_average(salary):\n",
        "    number = re.findall(r'\\d+', salary)\n",
        "    if len(number) == 2:\n",
        "        min = int(number[0])\n",
        "        max = int(number[1])\n",
        "        salary = (min + max) // 2\n",
        "    else:\n",
        "        salary = 225\n",
        "    return salary"
      ],
      "metadata": {
        "id": "HFMmhJUvhtap"
      },
      "execution_count": null,
      "outputs": []
    },
    {
      "cell_type": "code",
      "source": [
        "data['yearly_salary_average'] = data['yearly_salary_average'].apply(salary_average)\n",
        "data.drop(['yearly_salary'], axis=1, inplace=True)"
      ],
      "metadata": {
        "id": "7ONnhxi3icd3"
      },
      "execution_count": null,
      "outputs": []
    },
    {
      "cell_type": "code",
      "source": [
        "set(data['industry'])"
      ],
      "metadata": {
        "id": "lRPW-0k1iwJL"
      },
      "execution_count": null,
      "outputs": []
    },
    {
      "cell_type": "code",
      "source": [
        "data['industry'] = data['industry'].apply(job_title_other2)\n",
        "set(data['industry'])"
      ],
      "metadata": {
        "colab": {
          "base_uri": "https://localhost:8080/"
        },
        "id": "jr2uiumGjZQi",
        "outputId": "6f887e02-17d7-4fad-e32d-31df2c3c4ca3"
      },
      "execution_count": null,
      "outputs": [
        {
          "output_type": "execute_result",
          "data": {
            "text/plain": [
              "{'Agriculture',\n",
              " 'Construction',\n",
              " 'Education',\n",
              " 'Finance',\n",
              " 'Healthcare',\n",
              " 'Other',\n",
              " 'Real Estate',\n",
              " 'Tech',\n",
              " 'Telecommunication'}"
            ]
          },
          "metadata": {},
          "execution_count": 68
        }
      ]
    },
    {
      "cell_type": "code",
      "source": [
        "set(data['languages_use'])\n",
        "data.drop(['languages_use'], axis=1, inplace=True)"
      ],
      "metadata": {
        "id": "avSpHUV7js1C"
      },
      "execution_count": null,
      "outputs": []
    },
    {
      "cell_type": "code",
      "source": [
        "data[['salary_satisfaction', 'life_balance_satisfaction', 'coworker_satisfaction',\n",
        "     'management_satisfaction', 'upward_satisfaction']].dtypes"
      ],
      "metadata": {
        "colab": {
          "base_uri": "https://localhost:8080/"
        },
        "id": "IeTM6owemUNh",
        "outputId": "0078ae56-89c4-4606-8777-e3f8dc3feaf9"
      },
      "execution_count": null,
      "outputs": [
        {
          "output_type": "execute_result",
          "data": {
            "text/plain": [
              "salary_satisfaction          float64\n",
              "life_balance_satisfaction    float64\n",
              "coworker_satisfaction        float64\n",
              "management_satisfaction      float64\n",
              "upward_satisfaction          float64\n",
              "dtype: object"
            ]
          },
          "metadata": {},
          "execution_count": 72
        }
      ]
    },
    {
      "cell_type": "code",
      "source": [
        "set(data['difficulty_feeling'])\n",
        "data['difficulty_feeling'].value_counts()"
      ],
      "metadata": {
        "colab": {
          "base_uri": "https://localhost:8080/"
        },
        "id": "4j8cRAJxmuZH",
        "outputId": "02761ee3-ff1f-409a-da13-b40a325d0431"
      },
      "execution_count": null,
      "outputs": [
        {
          "output_type": "execute_result",
          "data": {
            "text/plain": [
              "{'Difficult',\n",
              " 'Easy',\n",
              " 'Neither easy nor difficult',\n",
              " 'Very Difficult',\n",
              " 'Very Easy'}"
            ]
          },
          "metadata": {},
          "execution_count": 74
        }
      ]
    },
    {
      "cell_type": "code",
      "source": [
        "feeling_map = {'Very Easy': 1, 'Easy': 2, 'Neither easy nor difficult': 3, 'Difficult': 4, 'Very Difficult': 5}\n",
        "data['difficulty_feeling'] = data['difficulty_feeling'].replace(feeling_map, inplace=False)"
      ],
      "metadata": {
        "id": "VJYLGU9Bmn13"
      },
      "execution_count": null,
      "outputs": []
    },
    {
      "cell_type": "code",
      "source": [
        "data['sex'].replace('Male', 1, inplace=True)\n",
        "data['sex'].replace('Female', 0, inplace=True)"
      ],
      "metadata": {
        "id": "fD07WH3ZzTmT"
      },
      "execution_count": null,
      "outputs": []
    },
    {
      "cell_type": "code",
      "source": [
        "print(set(data['age']))"
      ],
      "metadata": {
        "colab": {
          "base_uri": "https://localhost:8080/"
        },
        "id": "LXzP0UoT18Dk",
        "outputId": "c45ad4c5-af27-4b16-ce85-17b1cd251a7a"
      },
      "execution_count": null,
      "outputs": [
        {
          "output_type": "stream",
          "name": "stdout",
          "text": [
            "{18, 19, 20, 21, 22, 23, 24, 25, 26, 27, 28, 29, 30, 31, 32, 33, 34, 35, 36, 37, 38, 39, 40, 41, 42, 43, 44, 45, 47, 48, 50, 51, 52, 53, 54, 55, 56, 58, 60, 66, 92}\n"
          ]
        }
      ]
    },
    {
      "cell_type": "code",
      "source": [
        "data['age'].dtypes"
      ],
      "metadata": {
        "colab": {
          "base_uri": "https://localhost:8080/"
        },
        "id": "LYJA75mI2FKA",
        "outputId": "a810be96-e0dd-4e02-bd0b-be799cd870f0"
      },
      "execution_count": null,
      "outputs": [
        {
          "output_type": "execute_result",
          "data": {
            "text/plain": [
              "dtype('int64')"
            ]
          },
          "metadata": {},
          "execution_count": 84
        }
      ]
    },
    {
      "cell_type": "code",
      "source": [
        "data['country'].value_counts()"
      ],
      "metadata": {
        "colab": {
          "base_uri": "https://localhost:8080/"
        },
        "id": "OK_NoLUY2W53",
        "outputId": "a062ebc6-418a-4cf4-8e83-4ee96efebd32"
      },
      "execution_count": null,
      "outputs": [
        {
          "output_type": "execute_result",
          "data": {
            "text/plain": [
              "United States                       261\n",
              "India                                73\n",
              "United Kingdom                       40\n",
              "Canada                               32\n",
              "Other (Please Specify):Nigeria       18\n",
              "                                   ... \n",
              "Other (Please Specify):Ire            1\n",
              "Other (Please Specify):Antigua        1\n",
              "Other (Please Specify):Venezuela      1\n",
              "Other (Please Specify):Brazik         1\n",
              "Other (Please Specify):Oman           1\n",
              "Name: country, Length: 98, dtype: int64"
            ]
          },
          "metadata": {},
          "execution_count": 88
        }
      ]
    },
    {
      "cell_type": "code",
      "source": [
        "data['country'] = data['country'].apply(job_title_other2)\n",
        "set(data['country'])"
      ],
      "metadata": {
        "colab": {
          "base_uri": "https://localhost:8080/"
        },
        "id": "gm4XhYmL3zEl",
        "outputId": "c9e146da-9f8e-4638-9745-3dc20e561b57"
      },
      "execution_count": null,
      "outputs": [
        {
          "output_type": "execute_result",
          "data": {
            "text/plain": [
              "{'Canada', 'India', 'Other', 'United Kingdom', 'United States'}"
            ]
          },
          "metadata": {},
          "execution_count": 89
        }
      ]
    },
    {
      "cell_type": "code",
      "source": [
        "set(data['education_level'])"
      ],
      "metadata": {
        "colab": {
          "base_uri": "https://localhost:8080/"
        },
        "id": "LLEqX7C4382V",
        "outputId": "08e4e4a0-cf31-4193-e9b1-d83d9b99a6e1"
      },
      "execution_count": null,
      "outputs": [
        {
          "output_type": "execute_result",
          "data": {
            "text/plain": [
              "{'Associates', 'Bachelors', 'High School', 'Masters', 'PhD', nan}"
            ]
          },
          "metadata": {},
          "execution_count": 90
        }
      ]
    },
    {
      "cell_type": "code",
      "source": [
        "data['education_level'].value_counts().sum()"
      ],
      "metadata": {
        "colab": {
          "base_uri": "https://localhost:8080/"
        },
        "id": "_P2pFBXb4DYG",
        "outputId": "482a1e6e-a5da-40ab-bd77-005e31cd73d4"
      },
      "execution_count": null,
      "outputs": [
        {
          "output_type": "execute_result",
          "data": {
            "text/plain": [
              "578"
            ]
          },
          "metadata": {},
          "execution_count": 92
        }
      ]
    },
    {
      "cell_type": "code",
      "source": [
        "data['ethnicity'] = data['ethnicity'].apply(job_title_other2)\n",
        "set(data['ethnicity'])"
      ],
      "metadata": {
        "colab": {
          "base_uri": "https://localhost:8080/"
        },
        "id": "7c8yDvOZ4MKn",
        "outputId": "ca064e9e-a587-43f5-96b5-805d9ba6c8c1"
      },
      "execution_count": null,
      "outputs": [
        {
          "output_type": "execute_result",
          "data": {
            "text/plain": [
              "{'American Indian or Alaska Native',\n",
              " 'Asian or Asian American',\n",
              " 'Black or African American',\n",
              " 'Hispanic or Latino',\n",
              " 'Native Hawaiian or other Pacific Islander',\n",
              " 'Other',\n",
              " 'White or Caucasian'}"
            ]
          },
          "metadata": {},
          "execution_count": 94
        }
      ]
    },
    {
      "cell_type": "code",
      "source": [
        "data.shape"
      ],
      "metadata": {
        "colab": {
          "base_uri": "https://localhost:8080/"
        },
        "id": "NpYVV9dH4zWq",
        "outputId": "300b8525-6b6b-4ddf-deaa-99037174c835"
      },
      "execution_count": null,
      "outputs": [
        {
          "output_type": "execute_result",
          "data": {
            "text/plain": [
              "(630, 16)"
            ]
          },
          "metadata": {},
          "execution_count": 95
        }
      ]
    },
    {
      "cell_type": "code",
      "source": [
        "data.dtypes"
      ],
      "metadata": {
        "colab": {
          "base_uri": "https://localhost:8080/"
        },
        "id": "aRR0Pt8x41Z_",
        "outputId": "a1bacb60-89eb-4d36-9fda-d7a2a2484c81"
      },
      "execution_count": null,
      "outputs": [
        {
          "output_type": "execute_result",
          "data": {
            "text/plain": [
              "job_title                     object\n",
              "switch_carrer                  int64\n",
              "industry                      object\n",
              "salary_satisfaction          float64\n",
              "life_balance_satisfaction    float64\n",
              "coworker_satisfaction        float64\n",
              "management_satisfaction      float64\n",
              "upward_satisfaction          float64\n",
              "difficulty_feeling             int64\n",
              "sex                            int64\n",
              "age                            int64\n",
              "country                       object\n",
              "education_level               object\n",
              "ethnicity                     object\n",
              "yearly_salary_range           object\n",
              "yearly_salary_average          int64\n",
              "dtype: object"
            ]
          },
          "metadata": {},
          "execution_count": 96
        }
      ]
    },
    {
      "cell_type": "code",
      "source": [
        "path = '/content/drive/My Drive/MyFolder/'\n",
        "file_name = 'cleaned_data.csv'\n",
        "\n",
        "with open(path+file_name, 'w') as f:\n",
        "    data.to_csv(f, index=False)"
      ],
      "metadata": {
        "id": "bvFAl54K4ap2"
      },
      "execution_count": null,
      "outputs": []
    }
  ]
}