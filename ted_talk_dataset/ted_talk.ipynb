{
  "cells": [
    {
      "cell_type": "code",
      "source": [
        "import pandas as pd\n",
        "import numpy as np\n",
        "import matplotlib.pyplot as plt"
      ],
      "metadata": {
        "id": "fwkmZKl_cvEg"
      },
      "execution_count": null,
      "outputs": []
    },
    {
      "cell_type": "code",
      "execution_count": null,
      "metadata": {
        "id": "7lnJLs1apJoS"
      },
      "outputs": [],
      "source": [
        "# Import dữ liệu\n",
        "dataset = pd.read_csv('ted.csv')"
      ]
    },
    {
      "cell_type": "code",
      "execution_count": null,
      "metadata": {
        "id": "VHS5BJVApJoU",
        "colab": {
          "base_uri": "https://localhost:8080/",
          "height": 652
        },
        "outputId": "d3532f80-a076-417f-da2e-da0ff638e984"
      },
      "outputs": [
        {
          "output_type": "execute_result",
          "data": {
            "text/plain": [
              "   comments                                        description  duration  \\\n",
              "0      4553  Sir Ken Robinson makes an entertaining and pro...      1164   \n",
              "1       265  With the same humor and humanity he exuded in ...       977   \n",
              "2       124  New York Times columnist David Pogue takes aim...      1286   \n",
              "3       200  In an emotionally charged talk, MacArthur-winn...      1116   \n",
              "4       593  You've never seen data presented like this. Wi...      1190   \n",
              "\n",
              "     event   film_date  languages   main_speaker  \\\n",
              "0  TED2006  1140825600         60   Ken Robinson   \n",
              "1  TED2006  1140825600         43        Al Gore   \n",
              "2  TED2006  1140739200         26    David Pogue   \n",
              "3  TED2006  1140912000         35  Majora Carter   \n",
              "4  TED2006  1140566400         48   Hans Rosling   \n",
              "\n",
              "                                            name  num_speaker  published_date  \\\n",
              "0      Ken Robinson: Do schools kill creativity?            1      1151367060   \n",
              "1           Al Gore: Averting the climate crisis            1      1151367060   \n",
              "2                  David Pogue: Simplicity sells            1      1151367060   \n",
              "3             Majora Carter: Greening the ghetto            1      1151367060   \n",
              "4  Hans Rosling: The best stats you've ever seen            1      1151440680   \n",
              "\n",
              "                                             ratings  \\\n",
              "0  [{'id': 7, 'name': 'Funny', 'count': 19645}, {...   \n",
              "1  [{'id': 7, 'name': 'Funny', 'count': 544}, {'i...   \n",
              "2  [{'id': 7, 'name': 'Funny', 'count': 964}, {'i...   \n",
              "3  [{'id': 3, 'name': 'Courageous', 'count': 760}...   \n",
              "4  [{'id': 9, 'name': 'Ingenious', 'count': 3202}...   \n",
              "\n",
              "                                       related_talks  \\\n",
              "0  [{'id': 865, 'hero': 'https://pe.tedcdn.com/im...   \n",
              "1  [{'id': 243, 'hero': 'https://pe.tedcdn.com/im...   \n",
              "2  [{'id': 1725, 'hero': 'https://pe.tedcdn.com/i...   \n",
              "3  [{'id': 1041, 'hero': 'https://pe.tedcdn.com/i...   \n",
              "4  [{'id': 2056, 'hero': 'https://pe.tedcdn.com/i...   \n",
              "\n",
              "                     speaker_occupation  \\\n",
              "0                       Author/educator   \n",
              "1                      Climate advocate   \n",
              "2                  Technology columnist   \n",
              "3    Activist for environmental justice   \n",
              "4  Global health expert; data visionary   \n",
              "\n",
              "                                                tags  \\\n",
              "0  ['children', 'creativity', 'culture', 'dance',...   \n",
              "1  ['alternative energy', 'cars', 'climate change...   \n",
              "2  ['computers', 'entertainment', 'interface desi...   \n",
              "3  ['MacArthur grant', 'activism', 'business', 'c...   \n",
              "4  ['Africa', 'Asia', 'Google', 'demo', 'economic...   \n",
              "\n",
              "                             title  \\\n",
              "0      Do schools kill creativity?   \n",
              "1      Averting the climate crisis   \n",
              "2                 Simplicity sells   \n",
              "3              Greening the ghetto   \n",
              "4  The best stats you've ever seen   \n",
              "\n",
              "                                                 url     views  \n",
              "0  https://www.ted.com/talks/ken_robinson_says_sc...  47227110  \n",
              "1  https://www.ted.com/talks/al_gore_on_averting_...   3200520  \n",
              "2  https://www.ted.com/talks/david_pogue_says_sim...   1636292  \n",
              "3  https://www.ted.com/talks/majora_carter_s_tale...   1697550  \n",
              "4  https://www.ted.com/talks/hans_rosling_shows_t...  12005869  "
            ],
            "text/html": [
              "\n",
              "\n",
              "  <div id=\"df-6f385218-815a-4e1b-ba55-d8120ba875fa\">\n",
              "    <div class=\"colab-df-container\">\n",
              "      <div>\n",
              "<style scoped>\n",
              "    .dataframe tbody tr th:only-of-type {\n",
              "        vertical-align: middle;\n",
              "    }\n",
              "\n",
              "    .dataframe tbody tr th {\n",
              "        vertical-align: top;\n",
              "    }\n",
              "\n",
              "    .dataframe thead th {\n",
              "        text-align: right;\n",
              "    }\n",
              "</style>\n",
              "<table border=\"1\" class=\"dataframe\">\n",
              "  <thead>\n",
              "    <tr style=\"text-align: right;\">\n",
              "      <th></th>\n",
              "      <th>comments</th>\n",
              "      <th>description</th>\n",
              "      <th>duration</th>\n",
              "      <th>event</th>\n",
              "      <th>film_date</th>\n",
              "      <th>languages</th>\n",
              "      <th>main_speaker</th>\n",
              "      <th>name</th>\n",
              "      <th>num_speaker</th>\n",
              "      <th>published_date</th>\n",
              "      <th>ratings</th>\n",
              "      <th>related_talks</th>\n",
              "      <th>speaker_occupation</th>\n",
              "      <th>tags</th>\n",
              "      <th>title</th>\n",
              "      <th>url</th>\n",
              "      <th>views</th>\n",
              "    </tr>\n",
              "  </thead>\n",
              "  <tbody>\n",
              "    <tr>\n",
              "      <th>0</th>\n",
              "      <td>4553</td>\n",
              "      <td>Sir Ken Robinson makes an entertaining and pro...</td>\n",
              "      <td>1164</td>\n",
              "      <td>TED2006</td>\n",
              "      <td>1140825600</td>\n",
              "      <td>60</td>\n",
              "      <td>Ken Robinson</td>\n",
              "      <td>Ken Robinson: Do schools kill creativity?</td>\n",
              "      <td>1</td>\n",
              "      <td>1151367060</td>\n",
              "      <td>[{'id': 7, 'name': 'Funny', 'count': 19645}, {...</td>\n",
              "      <td>[{'id': 865, 'hero': 'https://pe.tedcdn.com/im...</td>\n",
              "      <td>Author/educator</td>\n",
              "      <td>['children', 'creativity', 'culture', 'dance',...</td>\n",
              "      <td>Do schools kill creativity?</td>\n",
              "      <td>https://www.ted.com/talks/ken_robinson_says_sc...</td>\n",
              "      <td>47227110</td>\n",
              "    </tr>\n",
              "    <tr>\n",
              "      <th>1</th>\n",
              "      <td>265</td>\n",
              "      <td>With the same humor and humanity he exuded in ...</td>\n",
              "      <td>977</td>\n",
              "      <td>TED2006</td>\n",
              "      <td>1140825600</td>\n",
              "      <td>43</td>\n",
              "      <td>Al Gore</td>\n",
              "      <td>Al Gore: Averting the climate crisis</td>\n",
              "      <td>1</td>\n",
              "      <td>1151367060</td>\n",
              "      <td>[{'id': 7, 'name': 'Funny', 'count': 544}, {'i...</td>\n",
              "      <td>[{'id': 243, 'hero': 'https://pe.tedcdn.com/im...</td>\n",
              "      <td>Climate advocate</td>\n",
              "      <td>['alternative energy', 'cars', 'climate change...</td>\n",
              "      <td>Averting the climate crisis</td>\n",
              "      <td>https://www.ted.com/talks/al_gore_on_averting_...</td>\n",
              "      <td>3200520</td>\n",
              "    </tr>\n",
              "    <tr>\n",
              "      <th>2</th>\n",
              "      <td>124</td>\n",
              "      <td>New York Times columnist David Pogue takes aim...</td>\n",
              "      <td>1286</td>\n",
              "      <td>TED2006</td>\n",
              "      <td>1140739200</td>\n",
              "      <td>26</td>\n",
              "      <td>David Pogue</td>\n",
              "      <td>David Pogue: Simplicity sells</td>\n",
              "      <td>1</td>\n",
              "      <td>1151367060</td>\n",
              "      <td>[{'id': 7, 'name': 'Funny', 'count': 964}, {'i...</td>\n",
              "      <td>[{'id': 1725, 'hero': 'https://pe.tedcdn.com/i...</td>\n",
              "      <td>Technology columnist</td>\n",
              "      <td>['computers', 'entertainment', 'interface desi...</td>\n",
              "      <td>Simplicity sells</td>\n",
              "      <td>https://www.ted.com/talks/david_pogue_says_sim...</td>\n",
              "      <td>1636292</td>\n",
              "    </tr>\n",
              "    <tr>\n",
              "      <th>3</th>\n",
              "      <td>200</td>\n",
              "      <td>In an emotionally charged talk, MacArthur-winn...</td>\n",
              "      <td>1116</td>\n",
              "      <td>TED2006</td>\n",
              "      <td>1140912000</td>\n",
              "      <td>35</td>\n",
              "      <td>Majora Carter</td>\n",
              "      <td>Majora Carter: Greening the ghetto</td>\n",
              "      <td>1</td>\n",
              "      <td>1151367060</td>\n",
              "      <td>[{'id': 3, 'name': 'Courageous', 'count': 760}...</td>\n",
              "      <td>[{'id': 1041, 'hero': 'https://pe.tedcdn.com/i...</td>\n",
              "      <td>Activist for environmental justice</td>\n",
              "      <td>['MacArthur grant', 'activism', 'business', 'c...</td>\n",
              "      <td>Greening the ghetto</td>\n",
              "      <td>https://www.ted.com/talks/majora_carter_s_tale...</td>\n",
              "      <td>1697550</td>\n",
              "    </tr>\n",
              "    <tr>\n",
              "      <th>4</th>\n",
              "      <td>593</td>\n",
              "      <td>You've never seen data presented like this. Wi...</td>\n",
              "      <td>1190</td>\n",
              "      <td>TED2006</td>\n",
              "      <td>1140566400</td>\n",
              "      <td>48</td>\n",
              "      <td>Hans Rosling</td>\n",
              "      <td>Hans Rosling: The best stats you've ever seen</td>\n",
              "      <td>1</td>\n",
              "      <td>1151440680</td>\n",
              "      <td>[{'id': 9, 'name': 'Ingenious', 'count': 3202}...</td>\n",
              "      <td>[{'id': 2056, 'hero': 'https://pe.tedcdn.com/i...</td>\n",
              "      <td>Global health expert; data visionary</td>\n",
              "      <td>['Africa', 'Asia', 'Google', 'demo', 'economic...</td>\n",
              "      <td>The best stats you've ever seen</td>\n",
              "      <td>https://www.ted.com/talks/hans_rosling_shows_t...</td>\n",
              "      <td>12005869</td>\n",
              "    </tr>\n",
              "  </tbody>\n",
              "</table>\n",
              "</div>\n",
              "      <button class=\"colab-df-convert\" onclick=\"convertToInteractive('df-6f385218-815a-4e1b-ba55-d8120ba875fa')\"\n",
              "              title=\"Convert this dataframe to an interactive table.\"\n",
              "              style=\"display:none;\">\n",
              "\n",
              "  <svg xmlns=\"http://www.w3.org/2000/svg\" height=\"24px\"viewBox=\"0 0 24 24\"\n",
              "       width=\"24px\">\n",
              "    <path d=\"M0 0h24v24H0V0z\" fill=\"none\"/>\n",
              "    <path d=\"M18.56 5.44l.94 2.06.94-2.06 2.06-.94-2.06-.94-.94-2.06-.94 2.06-2.06.94zm-11 1L8.5 8.5l.94-2.06 2.06-.94-2.06-.94L8.5 2.5l-.94 2.06-2.06.94zm10 10l.94 2.06.94-2.06 2.06-.94-2.06-.94-.94-2.06-.94 2.06-2.06.94z\"/><path d=\"M17.41 7.96l-1.37-1.37c-.4-.4-.92-.59-1.43-.59-.52 0-1.04.2-1.43.59L10.3 9.45l-7.72 7.72c-.78.78-.78 2.05 0 2.83L4 21.41c.39.39.9.59 1.41.59.51 0 1.02-.2 1.41-.59l7.78-7.78 2.81-2.81c.8-.78.8-2.07 0-2.86zM5.41 20L4 18.59l7.72-7.72 1.47 1.35L5.41 20z\"/>\n",
              "  </svg>\n",
              "      </button>\n",
              "\n",
              "\n",
              "\n",
              "    <div id=\"df-6e3cdb57-99b6-4d23-9cc8-a024c70e89c1\">\n",
              "      <button class=\"colab-df-quickchart\" onclick=\"quickchart('df-6e3cdb57-99b6-4d23-9cc8-a024c70e89c1')\"\n",
              "              title=\"Suggest charts.\"\n",
              "              style=\"display:none;\">\n",
              "\n",
              "<svg xmlns=\"http://www.w3.org/2000/svg\" height=\"24px\"viewBox=\"0 0 24 24\"\n",
              "     width=\"24px\">\n",
              "    <g>\n",
              "        <path d=\"M19 3H5c-1.1 0-2 .9-2 2v14c0 1.1.9 2 2 2h14c1.1 0 2-.9 2-2V5c0-1.1-.9-2-2-2zM9 17H7v-7h2v7zm4 0h-2V7h2v10zm4 0h-2v-4h2v4z\"/>\n",
              "    </g>\n",
              "</svg>\n",
              "      </button>\n",
              "    </div>\n",
              "\n",
              "<style>\n",
              "  .colab-df-quickchart {\n",
              "    background-color: #E8F0FE;\n",
              "    border: none;\n",
              "    border-radius: 50%;\n",
              "    cursor: pointer;\n",
              "    display: none;\n",
              "    fill: #1967D2;\n",
              "    height: 32px;\n",
              "    padding: 0 0 0 0;\n",
              "    width: 32px;\n",
              "  }\n",
              "\n",
              "  .colab-df-quickchart:hover {\n",
              "    background-color: #E2EBFA;\n",
              "    box-shadow: 0px 1px 2px rgba(60, 64, 67, 0.3), 0px 1px 3px 1px rgba(60, 64, 67, 0.15);\n",
              "    fill: #174EA6;\n",
              "  }\n",
              "\n",
              "  [theme=dark] .colab-df-quickchart {\n",
              "    background-color: #3B4455;\n",
              "    fill: #D2E3FC;\n",
              "  }\n",
              "\n",
              "  [theme=dark] .colab-df-quickchart:hover {\n",
              "    background-color: #434B5C;\n",
              "    box-shadow: 0px 1px 3px 1px rgba(0, 0, 0, 0.15);\n",
              "    filter: drop-shadow(0px 1px 2px rgba(0, 0, 0, 0.3));\n",
              "    fill: #FFFFFF;\n",
              "  }\n",
              "</style>\n",
              "\n",
              "    <script>\n",
              "      async function quickchart(key) {\n",
              "        const containerElement = document.querySelector('#' + key);\n",
              "        const charts = await google.colab.kernel.invokeFunction(\n",
              "            'suggestCharts', [key], {});\n",
              "      }\n",
              "    </script>\n",
              "\n",
              "      <script>\n",
              "\n",
              "function displayQuickchartButton(domScope) {\n",
              "  let quickchartButtonEl =\n",
              "    domScope.querySelector('#df-6e3cdb57-99b6-4d23-9cc8-a024c70e89c1 button.colab-df-quickchart');\n",
              "  quickchartButtonEl.style.display =\n",
              "    google.colab.kernel.accessAllowed ? 'block' : 'none';\n",
              "}\n",
              "\n",
              "        displayQuickchartButton(document);\n",
              "      </script>\n",
              "      <style>\n",
              "    .colab-df-container {\n",
              "      display:flex;\n",
              "      flex-wrap:wrap;\n",
              "      gap: 12px;\n",
              "    }\n",
              "\n",
              "    .colab-df-convert {\n",
              "      background-color: #E8F0FE;\n",
              "      border: none;\n",
              "      border-radius: 50%;\n",
              "      cursor: pointer;\n",
              "      display: none;\n",
              "      fill: #1967D2;\n",
              "      height: 32px;\n",
              "      padding: 0 0 0 0;\n",
              "      width: 32px;\n",
              "    }\n",
              "\n",
              "    .colab-df-convert:hover {\n",
              "      background-color: #E2EBFA;\n",
              "      box-shadow: 0px 1px 2px rgba(60, 64, 67, 0.3), 0px 1px 3px 1px rgba(60, 64, 67, 0.15);\n",
              "      fill: #174EA6;\n",
              "    }\n",
              "\n",
              "    [theme=dark] .colab-df-convert {\n",
              "      background-color: #3B4455;\n",
              "      fill: #D2E3FC;\n",
              "    }\n",
              "\n",
              "    [theme=dark] .colab-df-convert:hover {\n",
              "      background-color: #434B5C;\n",
              "      box-shadow: 0px 1px 3px 1px rgba(0, 0, 0, 0.15);\n",
              "      filter: drop-shadow(0px 1px 2px rgba(0, 0, 0, 0.3));\n",
              "      fill: #FFFFFF;\n",
              "    }\n",
              "  </style>\n",
              "\n",
              "      <script>\n",
              "        const buttonEl =\n",
              "          document.querySelector('#df-6f385218-815a-4e1b-ba55-d8120ba875fa button.colab-df-convert');\n",
              "        buttonEl.style.display =\n",
              "          google.colab.kernel.accessAllowed ? 'block' : 'none';\n",
              "\n",
              "        async function convertToInteractive(key) {\n",
              "          const element = document.querySelector('#df-6f385218-815a-4e1b-ba55-d8120ba875fa');\n",
              "          const dataTable =\n",
              "            await google.colab.kernel.invokeFunction('convertToInteractive',\n",
              "                                                     [key], {});\n",
              "          if (!dataTable) return;\n",
              "\n",
              "          const docLinkHtml = 'Like what you see? Visit the ' +\n",
              "            '<a target=\"_blank\" href=https://colab.research.google.com/notebooks/data_table.ipynb>data table notebook</a>'\n",
              "            + ' to learn more about interactive tables.';\n",
              "          element.innerHTML = '';\n",
              "          dataTable['output_type'] = 'display_data';\n",
              "          await google.colab.output.renderOutput(dataTable, element);\n",
              "          const docLink = document.createElement('div');\n",
              "          docLink.innerHTML = docLinkHtml;\n",
              "          element.appendChild(docLink);\n",
              "        }\n",
              "      </script>\n",
              "    </div>\n",
              "  </div>\n"
            ]
          },
          "metadata": {},
          "execution_count": 3
        }
      ],
      "source": [
        "# Biểu diễn dữ liệu\n",
        "dataset.head(5)"
      ]
    },
    {
      "cell_type": "code",
      "execution_count": null,
      "metadata": {
        "id": "lBfwQkpXpJoU",
        "colab": {
          "base_uri": "https://localhost:8080/"
        },
        "outputId": "40266a42-6580-4605-d34b-f3bb2811d19a"
      },
      "outputs": [
        {
          "output_type": "execute_result",
          "data": {
            "text/plain": [
              "(2550, 17)"
            ]
          },
          "metadata": {},
          "execution_count": 4
        }
      ],
      "source": [
        "# Biểu diễn số chiều của bộ dữ liệu (shape)\n",
        "dataset.shape"
      ]
    },
    {
      "cell_type": "code",
      "execution_count": null,
      "metadata": {
        "id": "D7CRKme8pJoU",
        "colab": {
          "base_uri": "https://localhost:8080/"
        },
        "outputId": "95cb7e88-8028-433f-9985-e5413124fa00"
      },
      "outputs": [
        {
          "output_type": "execute_result",
          "data": {
            "text/plain": [
              "comments               int64\n",
              "description           object\n",
              "duration               int64\n",
              "event                 object\n",
              "film_date              int64\n",
              "languages              int64\n",
              "main_speaker          object\n",
              "name                  object\n",
              "num_speaker            int64\n",
              "published_date         int64\n",
              "ratings               object\n",
              "related_talks         object\n",
              "speaker_occupation    object\n",
              "tags                  object\n",
              "title                 object\n",
              "url                   object\n",
              "views                  int64\n",
              "dtype: object"
            ]
          },
          "metadata": {},
          "execution_count": 5
        }
      ],
      "source": [
        "# Kiểm tra kiểu dữ liệu của các trường trong data\n",
        "dataset.dtypes"
      ]
    },
    {
      "cell_type": "code",
      "execution_count": null,
      "metadata": {
        "id": "_Nz-_wIPpJoU",
        "colab": {
          "base_uri": "https://localhost:8080/"
        },
        "outputId": "a1956988-15e0-407d-83c2-432728661a18"
      },
      "outputs": [
        {
          "output_type": "execute_result",
          "data": {
            "text/plain": [
              "comments              0\n",
              "description           0\n",
              "duration              0\n",
              "event                 0\n",
              "film_date             0\n",
              "languages             0\n",
              "main_speaker          0\n",
              "name                  0\n",
              "num_speaker           0\n",
              "published_date        0\n",
              "ratings               0\n",
              "related_talks         0\n",
              "speaker_occupation    6\n",
              "tags                  0\n",
              "title                 0\n",
              "url                   0\n",
              "views                 0\n",
              "dtype: int64"
            ]
          },
          "metadata": {},
          "execution_count": 6
        }
      ],
      "source": [
        "#check the null value for each column\n",
        "dataset.isna().sum()"
      ]
    },
    {
      "cell_type": "code",
      "source": [
        "dataset_backup = dataset.copy(deep=True)\n",
        "# dataset = dataset_backup.copy(deep=True)"
      ],
      "metadata": {
        "id": "WFnv9lkn2vDN"
      },
      "execution_count": null,
      "outputs": []
    },
    {
      "cell_type": "code",
      "source": [
        "dataset['ratings'][0]"
      ],
      "metadata": {
        "colab": {
          "base_uri": "https://localhost:8080/",
          "height": 88
        },
        "id": "BmzdaPKzlP6n",
        "outputId": "bb6e7687-70e2-4875-e526-883bb2198811"
      },
      "execution_count": null,
      "outputs": [
        {
          "output_type": "execute_result",
          "data": {
            "text/plain": [
              "\"[{'id': 7, 'name': 'Funny', 'count': 19645}, {'id': 1, 'name': 'Beautiful', 'count': 4573}, {'id': 9, 'name': 'Ingenious', 'count': 6073}, {'id': 3, 'name': 'Courageous', 'count': 3253}, {'id': 11, 'name': 'Longwinded', 'count': 387}, {'id': 2, 'name': 'Confusing', 'count': 242}, {'id': 8, 'name': 'Informative', 'count': 7346}, {'id': 22, 'name': 'Fascinating', 'count': 10581}, {'id': 21, 'name': 'Unconvincing', 'count': 300}, {'id': 24, 'name': 'Persuasive', 'count': 10704}, {'id': 23, 'name': 'Jaw-dropping', 'count': 4439}, {'id': 25, 'name': 'OK', 'count': 1174}, {'id': 26, 'name': 'Obnoxious', 'count': 209}, {'id': 10, 'name': 'Inspiring', 'count': 24924}]\""
            ],
            "application/vnd.google.colaboratory.intrinsic+json": {
              "type": "string"
            }
          },
          "metadata": {},
          "execution_count": 8
        }
      ]
    },
    {
      "cell_type": "code",
      "source": [
        "# dive into ratings column\n",
        "test_ratings = dataset['ratings'].copy(deep=True)\n",
        "for i in range(len(test_ratings)):\n",
        "    test_ratings[i] = eval(test_ratings[i])\n",
        "    test_ratings[i] = [list(item.keys()) for item in test_ratings[i]]\n",
        "print(test_ratings[:10])"
      ],
      "metadata": {
        "colab": {
          "base_uri": "https://localhost:8080/"
        },
        "id": "PF3TriPhd8FQ",
        "outputId": "5e17f50b-9bb1-4ce0-b651-5572d4c3094d"
      },
      "execution_count": null,
      "outputs": [
        {
          "output_type": "stream",
          "name": "stdout",
          "text": [
            "0    [[id, name, count], [id, name, count], [id, na...\n",
            "1    [[id, name, count], [id, name, count], [id, na...\n",
            "2    [[id, name, count], [id, name, count], [id, na...\n",
            "3    [[id, name, count], [id, name, count], [id, na...\n",
            "4    [[id, name, count], [id, name, count], [id, na...\n",
            "5    [[id, name, count], [id, name, count], [id, na...\n",
            "6    [[id, name, count], [id, name, count], [id, na...\n",
            "7    [[id, name, count], [id, name, count], [id, na...\n",
            "8    [[id, name, count], [id, name, count], [id, na...\n",
            "9    [[id, name, count], [id, name, count], [id, na...\n",
            "Name: ratings, dtype: object\n"
          ]
        }
      ]
    },
    {
      "cell_type": "code",
      "source": [
        "test_warnings = np.array([rate for rate in test_ratings]) # no warning returns, it's mean all elements has same shape"
      ],
      "metadata": {
        "id": "vM926vLIlyD1"
      },
      "execution_count": null,
      "outputs": []
    },
    {
      "cell_type": "code",
      "source": [
        "test_warnings.shape # every ratings's values has 14 dicts with 3 items of each"
      ],
      "metadata": {
        "colab": {
          "base_uri": "https://localhost:8080/"
        },
        "id": "doMnzcmYmUum",
        "outputId": "0f16d706-d6d4-45bf-d769-8f7e8c0772f2"
      },
      "execution_count": null,
      "outputs": [
        {
          "output_type": "execute_result",
          "data": {
            "text/plain": [
              "(2550, 14, 3)"
            ]
          },
          "metadata": {},
          "execution_count": 14
        }
      ]
    },
    {
      "cell_type": "code",
      "source": [
        "test_keys = []\n",
        "keys = [['id', 'name', 'count']] * 14\n",
        "for i in range(len(test_ratings)):\n",
        "    if test_ratings[i] == keys:\n",
        "        test_keys.append(1)\n",
        "    else:\n",
        "        test_keys.append(0)\n",
        "print(sum(test_keys) - len(test_ratings)) # return 0, all rows have same dictionary's structure"
      ],
      "metadata": {
        "colab": {
          "base_uri": "https://localhost:8080/"
        },
        "id": "y28FMnWUmC3j",
        "outputId": "15259aab-aea2-438a-947b-3f1d7d6c4be5"
      },
      "execution_count": null,
      "outputs": [
        {
          "output_type": "stream",
          "name": "stdout",
          "text": [
            "0\n"
          ]
        }
      ]
    },
    {
      "cell_type": "code",
      "source": [
        "# find the relation among dictionaries\n",
        "test_ratings = dataset['ratings'].copy(deep=True) # re-create test object\n",
        "\n",
        "def extract_id(row):\n",
        "    row = eval(row)\n",
        "    result = [d['id'] for d in row]\n",
        "    return sorted(result)\n",
        "\n",
        "id_only = test_ratings.apply(extract_id)\n",
        "id_only = id_only.apply(str)\n",
        "\n",
        "set(id_only) # only one value returned, all dictionaries have same 'id' set without duplication"
      ],
      "metadata": {
        "colab": {
          "base_uri": "https://localhost:8080/"
        },
        "id": "tbcVA9SooiQ2",
        "outputId": "50dd7ca9-4834-49cc-99a3-9b29c8f37942"
      },
      "execution_count": null,
      "outputs": [
        {
          "output_type": "execute_result",
          "data": {
            "text/plain": [
              "{'[1, 2, 3, 7, 8, 9, 10, 11, 21, 22, 23, 24, 25, 26]'}"
            ]
          },
          "metadata": {},
          "execution_count": 31
        }
      ]
    },
    {
      "cell_type": "code",
      "source": [
        "# similar checking for 'name' keys\n",
        "def extract_name(row):\n",
        "    row = eval(row)\n",
        "    result = [d['name'] for d in row]\n",
        "    return sorted(result)\n",
        "\n",
        "name_only = test_ratings.apply(extract_name).apply(str)\n",
        "\n",
        "set(name_only) # nothing surprise"
      ],
      "metadata": {
        "colab": {
          "base_uri": "https://localhost:8080/"
        },
        "id": "4vkSgZpVrkjU",
        "outputId": "f8a9627c-9fea-43c7-fa07-a294221620fb"
      },
      "execution_count": null,
      "outputs": [
        {
          "output_type": "execute_result",
          "data": {
            "text/plain": [
              "{\"['Beautiful', 'Confusing', 'Courageous', 'Fascinating', 'Funny', 'Informative', 'Ingenious', 'Inspiring', 'Jaw-dropping', 'Longwinded', 'OK', 'Obnoxious', 'Persuasive', 'Unconvincing']\"}"
            ]
          },
          "metadata": {},
          "execution_count": 33
        }
      ]
    },
    {
      "cell_type": "code",
      "source": [
        "# find the relation between 'id' and 'name'\n",
        "def extract_id_and_name(row):\n",
        "    row = eval(row)\n",
        "    result = [[d['id'], d['name']] for d in row]\n",
        "    return sorted(result, key=lambda x: x[0])\n",
        "\n",
        "id_and_name = test_ratings.apply(extract_id_and_name).apply(str)\n",
        "\n",
        "set(id_and_name) # truly exist the map from 'id' values to 'name' category"
      ],
      "metadata": {
        "colab": {
          "base_uri": "https://localhost:8080/"
        },
        "id": "O7OdZ-ywsFc9",
        "outputId": "f35559b6-3653-4428-812f-6aa66b2003f2"
      },
      "execution_count": null,
      "outputs": [
        {
          "output_type": "execute_result",
          "data": {
            "text/plain": [
              "{\"[[1, 'Beautiful'], [2, 'Confusing'], [3, 'Courageous'], [7, 'Funny'], [8, 'Informative'], [9, 'Ingenious'], [10, 'Inspiring'], [11, 'Longwinded'], [21, 'Unconvincing'], [22, 'Fascinating'], [23, 'Jaw-dropping'], [24, 'Persuasive'], [25, 'OK'], [26, 'Obnoxious']]\"}"
            ]
          },
          "metadata": {},
          "execution_count": 34
        }
      ]
    },
    {
      "cell_type": "code",
      "source": [
        "# store this map\n",
        "id_name_map = dict(eval(id_and_name[0]))\n",
        "# and we clean 'ratings' column for better storage\n",
        "def clean_ratings(row):\n",
        "    row = eval(row)\n",
        "    result = [{d['id']: d['count']} for d in row]\n",
        "    return result\n",
        "\n",
        "dataset['ratings'] = dataset['ratings'].apply(clean_ratings)"
      ],
      "metadata": {
        "id": "5f_n_Bm_tSC0"
      },
      "execution_count": null,
      "outputs": []
    },
    {
      "cell_type": "code",
      "source": [
        "# go next to 'related_talks' field\n",
        "test_related = dataset['related_talks'].copy(deep=True)\n",
        "for i in range(len(test_related)):\n",
        "    test_related[i] = eval(test_related[i])\n",
        "    keys = [list(d.keys()) for d in test_related[i]]\n",
        "    test_related[i] = keys\n",
        "test_related"
      ],
      "metadata": {
        "colab": {
          "base_uri": "https://localhost:8080/"
        },
        "id": "yG3hn452vF3n",
        "outputId": "bc2a2354-32fb-45bf-c114-d8bb84c7bee0"
      },
      "execution_count": null,
      "outputs": [
        {
          "output_type": "execute_result",
          "data": {
            "text/plain": [
              "0       [[id, hero, speaker, title, duration, slug, vi...\n",
              "1       [[id, hero, speaker, title, duration, slug, vi...\n",
              "2       [[id, hero, speaker, title, duration, slug, vi...\n",
              "3       [[id, hero, speaker, title, duration, slug, vi...\n",
              "4       [[id, hero, speaker, title, duration, slug, vi...\n",
              "                              ...                        \n",
              "2545    [[id, hero, speaker, title, duration, slug, vi...\n",
              "2546    [[id, hero, speaker, title, duration, slug, vi...\n",
              "2547    [[id, hero, speaker, title, duration, slug, vi...\n",
              "2548    [[id, hero, speaker, title, duration, slug, vi...\n",
              "2549    [[id, hero, speaker, title, duration, slug, vi...\n",
              "Name: related_talks, Length: 2550, dtype: object"
            ]
          },
          "metadata": {},
          "execution_count": 43
        }
      ]
    },
    {
      "cell_type": "code",
      "source": [
        "keys_set = test_related[0][0]\n",
        "test_keys = []\n",
        "for rela in test_related:\n",
        "    if rela == [keys_set] * len(rela):\n",
        "        test_keys.append(1)\n",
        "    else:\n",
        "        test_keys.append(0)\n",
        "\n",
        "print(sum(test_keys) - len(test_related)) # all dictionaries in all rows have same structure"
      ],
      "metadata": {
        "colab": {
          "base_uri": "https://localhost:8080/"
        },
        "id": "_tqhCONvwy9o",
        "outputId": "f3b35740-2b5a-40f4-9db6-c0c567f46021"
      },
      "execution_count": null,
      "outputs": [
        {
          "output_type": "stream",
          "name": "stdout",
          "text": [
            "0\n"
          ]
        }
      ]
    },
    {
      "cell_type": "code",
      "source": [
        "# run this cell in need\n",
        "\n",
        "# dataset['related_talks'] = dataset['related_talks'].apply(eval)"
      ],
      "metadata": {
        "id": "yRsph-DLzD52"
      },
      "execution_count": null,
      "outputs": []
    },
    {
      "cell_type": "code",
      "source": [
        "# find the relation among 'main_speaker', 'name' and 'title'\n",
        "speaker_and_title = dataset['main_speaker'].apply(lambda x: x + ': ') + dataset['title']"
      ],
      "metadata": {
        "id": "pJzaxaFrzcO_"
      },
      "execution_count": null,
      "outputs": []
    },
    {
      "cell_type": "code",
      "source": [
        "speaker_and_title.compare(dataset['name'])\n",
        "# there're 15 rows with difference betwwen 2 series\n",
        "# in these rows, 'speaker_and_title' always has more detail than 'name' field\n",
        "# so we can drop 'name', 'cause it's information can be extract from speaker and title\n",
        "dataset.pop('name')"
      ],
      "metadata": {
        "id": "t5IsVrAu0bCV"
      },
      "execution_count": null,
      "outputs": []
    },
    {
      "cell_type": "code",
      "source": [
        "dataset_backup = dataset.copy(deep=True)"
      ],
      "metadata": {
        "id": "g3BE85NB4-2m"
      },
      "execution_count": null,
      "outputs": []
    },
    {
      "cell_type": "markdown",
      "metadata": {
        "id": "jp5XpUDbpJoU"
      },
      "source": [
        "# 1. Which talks provoke the most online discussion?"
      ]
    },
    {
      "cell_type": "code",
      "source": [
        "dataset.columns"
      ],
      "metadata": {
        "colab": {
          "base_uri": "https://localhost:8080/"
        },
        "id": "INLW_V7x5VSl",
        "outputId": "5ca376cc-befe-4e1f-83c1-036120beb91d"
      },
      "execution_count": null,
      "outputs": [
        {
          "output_type": "execute_result",
          "data": {
            "text/plain": [
              "Index(['comments', 'description', 'duration', 'event', 'film_date',\n",
              "       'languages', 'main_speaker', 'num_speaker', 'published_date', 'ratings',\n",
              "       'related_talks', 'speaker_occupation', 'tags', 'title', 'url', 'views'],\n",
              "      dtype='object')"
            ]
          },
          "metadata": {},
          "execution_count": 82
        }
      ]
    },
    {
      "cell_type": "code",
      "execution_count": null,
      "metadata": {
        "id": "62g_6oHRpJoV"
      },
      "outputs": [],
      "source": [
        "# Lấy ra 5 đơn hàng và sắp xếp chúng theo thứ tự tăng dần của mã comments id\n",
        "dataset[:5].sort_values(['comments'], ascending=False)"
      ]
    },
    {
      "cell_type": "code",
      "source": [
        "dataset.dtypes"
      ],
      "metadata": {
        "colab": {
          "base_uri": "https://localhost:8080/"
        },
        "id": "sOGPaofR6MME",
        "outputId": "37008209-438e-4516-b85e-831829340e79"
      },
      "execution_count": null,
      "outputs": [
        {
          "output_type": "execute_result",
          "data": {
            "text/plain": [
              "comments               int64\n",
              "description           object\n",
              "duration               int64\n",
              "event                 object\n",
              "film_date              int64\n",
              "languages              int64\n",
              "main_speaker          object\n",
              "num_speaker            int64\n",
              "published_date         int64\n",
              "ratings               object\n",
              "related_talks         object\n",
              "speaker_occupation    object\n",
              "tags                  object\n",
              "title                 object\n",
              "url                   object\n",
              "views                  int64\n",
              "dtype: object"
            ]
          },
          "metadata": {},
          "execution_count": 86
        }
      ]
    },
    {
      "cell_type": "code",
      "execution_count": null,
      "metadata": {
        "id": "Fu06X6wHpJoV"
      },
      "outputs": [],
      "source": [
        "# Tính tỉ lệ comment trên số lượng view và sắp xếp dữ liệu ted theo tỉ lệ vừa được sắp xếp\n",
        "dataset['comment_per_view'] = dataset['comments'] / dataset['views']\n",
        "\n",
        "# dataset = dataset.sort_values(['comment_per_view'])"
      ]
    },
    {
      "cell_type": "code",
      "execution_count": null,
      "metadata": {
        "id": "lJ8ITw9npJoW",
        "colab": {
          "base_uri": "https://localhost:8080/"
        },
        "outputId": "655448f6-c447-4315-9579-7bf30cc49d1f"
      },
      "outputs": [
        {
          "output_type": "execute_result",
          "data": {
            "text/plain": [
              "comments                int64\n",
              "description            object\n",
              "duration                int64\n",
              "event                  object\n",
              "film_date               int64\n",
              "languages               int64\n",
              "main_speaker           object\n",
              "num_speaker             int64\n",
              "published_date          int64\n",
              "ratings                object\n",
              "related_talks          object\n",
              "speaker_occupation     object\n",
              "tags                   object\n",
              "title                  object\n",
              "url                    object\n",
              "views                   int64\n",
              "comment_per_view      float64\n",
              "dtype: object"
            ]
          },
          "metadata": {},
          "execution_count": 90
        }
      ],
      "source": [
        "# Chuẩn hóa dữ liệu, xóa những dữ liệu rác và null, đổi những kiểu dữ liệu hiện có sang những kiêu dữ liệu phù hợp hơn\n",
        "dataset.dtypes"
      ]
    },
    {
      "cell_type": "code",
      "source": [
        "dataset.iloc[0]"
      ],
      "metadata": {
        "colab": {
          "base_uri": "https://localhost:8080/"
        },
        "id": "JFkPeOrk6_k1",
        "outputId": "07a34bfa-e678-4d81-b7ac-7464a406a6f1"
      },
      "execution_count": null,
      "outputs": [
        {
          "output_type": "execute_result",
          "data": {
            "text/plain": [
              "comments                                                           4553\n",
              "description           Sir Ken Robinson makes an entertaining and pro...\n",
              "duration                                                           1164\n",
              "event                                                           TED2006\n",
              "film_date                                                    1140825600\n",
              "languages                                                            60\n",
              "main_speaker                                               Ken Robinson\n",
              "num_speaker                                                           1\n",
              "published_date                                               1151367060\n",
              "ratings               [{7: 19645}, {1: 4573}, {9: 6073}, {3: 3253}, ...\n",
              "related_talks         [{'id': 865, 'hero': 'https://pe.tedcdn.com/im...\n",
              "speaker_occupation                                      Author/educator\n",
              "tags                  ['children', 'creativity', 'culture', 'dance',...\n",
              "title                                       Do schools kill creativity?\n",
              "url                   https://www.ted.com/talks/ken_robinson_says_sc...\n",
              "views                                                          47227110\n",
              "comment_per_view                                               0.000096\n",
              "Name: 0, dtype: object"
            ]
          },
          "metadata": {},
          "execution_count": 92
        }
      ]
    },
    {
      "cell_type": "code",
      "source": [
        "# 'tag' and 'related_talks' can be converted to list\n",
        "# dataset['related_talks'].apply(eval, inplace=True)\n",
        "# dataset['tags'].apply(eval, inplace=True)\n",
        "\n",
        "# convert time field to datetime format, include 'duration', 'film_date', 'published_date'\n",
        "dataset['duration'] = pd.to_timedelta(dataset['duration'], unit='s')\n",
        "dataset['duration']"
      ],
      "metadata": {
        "colab": {
          "base_uri": "https://localhost:8080/"
        },
        "id": "qmCUfNLt7L9n",
        "outputId": "24e869e7-b7a7-403d-bdac-32fbce550785"
      },
      "execution_count": null,
      "outputs": [
        {
          "output_type": "execute_result",
          "data": {
            "text/plain": [
              "0      0 days 00:19:24\n",
              "1      0 days 00:16:17\n",
              "2      0 days 00:21:26\n",
              "3      0 days 00:18:36\n",
              "4      0 days 00:19:50\n",
              "             ...      \n",
              "2545   0 days 00:07:56\n",
              "2546   0 days 00:04:50\n",
              "2547   0 days 00:10:51\n",
              "2548   0 days 00:18:20\n",
              "2549   0 days 00:08:39\n",
              "Name: duration, Length: 2550, dtype: timedelta64[ns]"
            ]
          },
          "metadata": {},
          "execution_count": 107
        }
      ]
    },
    {
      "cell_type": "code",
      "source": [
        "dataset['film_date'] = pd.to_datetime(dataset['film_date'], unit='s')\n",
        "dataset['film_date']"
      ],
      "metadata": {
        "colab": {
          "base_uri": "https://localhost:8080/"
        },
        "id": "d869OE5a-oqT",
        "outputId": "b325eaec-ce4b-4175-a41b-ffff521b0b1c"
      },
      "execution_count": null,
      "outputs": [
        {
          "output_type": "execute_result",
          "data": {
            "text/plain": [
              "0      2006-02-25\n",
              "1      2006-02-25\n",
              "2      2006-02-24\n",
              "3      2006-02-26\n",
              "4      2006-02-22\n",
              "          ...    \n",
              "2545   2017-06-06\n",
              "2546   2017-04-24\n",
              "2547   2017-04-24\n",
              "2548   2017-07-08\n",
              "2549   2017-04-24\n",
              "Name: film_date, Length: 2550, dtype: datetime64[ns]"
            ]
          },
          "metadata": {},
          "execution_count": 108
        }
      ]
    },
    {
      "cell_type": "code",
      "source": [
        "dataset['published_date'] = pd.to_datetime(dataset['published_date'], unit='s')\n",
        "dataset['published_date']"
      ],
      "metadata": {
        "colab": {
          "base_uri": "https://localhost:8080/"
        },
        "id": "t015-oxU-20P",
        "outputId": "7d5db920-3072-4a75-89c1-6e8f334add37"
      },
      "execution_count": null,
      "outputs": [
        {
          "output_type": "execute_result",
          "data": {
            "text/plain": [
              "0      2006-06-27 00:11:00\n",
              "1      2006-06-27 00:11:00\n",
              "2      2006-06-27 00:11:00\n",
              "3      2006-06-27 00:11:00\n",
              "4      2006-06-27 20:38:00\n",
              "               ...        \n",
              "2545   2017-09-19 20:00:16\n",
              "2546   2017-09-20 15:02:17\n",
              "2547   2017-09-21 15:01:35\n",
              "2548   2017-09-21 20:00:42\n",
              "2549   2017-09-22 15:00:22\n",
              "Name: published_date, Length: 2550, dtype: datetime64[ns]"
            ]
          },
          "metadata": {},
          "execution_count": 109
        }
      ]
    },
    {
      "cell_type": "code",
      "source": [
        "dataset_backup = dataset.copy(deep=True)"
      ],
      "metadata": {
        "id": "Dmo7x7PX_QDc"
      },
      "execution_count": null,
      "outputs": []
    },
    {
      "cell_type": "markdown",
      "metadata": {
        "id": "NXazItiQpJoW"
      },
      "source": [
        "# 2. Visualize the distribution of the comments"
      ]
    },
    {
      "cell_type": "code",
      "execution_count": null,
      "metadata": {
        "id": "EOdkf_YypJoW",
        "colab": {
          "base_uri": "https://localhost:8080/"
        },
        "outputId": "9b3981c7-49f5-4025-f088-b89472c3e318"
      },
      "outputs": [
        {
          "output_type": "execute_result",
          "data": {
            "text/plain": [
              "(32, 17)"
            ]
          },
          "metadata": {},
          "execution_count": 112
        }
      ],
      "source": [
        "# Tính sô lượng data shape dựa trên điều kiện lọc với những comments >= 1000\n",
        "dataset[dataset['comments'] >= 999].shape"
      ]
    },
    {
      "cell_type": "code",
      "execution_count": null,
      "metadata": {
        "id": "AAYFS62YpJoW",
        "outputId": "8c46c65e-4516-41d0-c68d-0b38585cf214"
      },
      "outputs": [
        {
          "data": {
            "text/plain": [
              "<matplotlib.axes._subplots.AxesSubplot at 0x17e2508c508>"
            ]
          },
          "execution_count": 10,
          "metadata": {},
          "output_type": "execute_result"
        },
        {
          "data": {
            "image/png": "[encoded data removed]",
            "text/plain": [
              "<Figure size 432x288 with 1 Axes>"
            ]
          },
          "metadata": {
            "needs_background": "light"
          },
          "output_type": "display_data"
        }
      ],
      "source": [
        "# Thực hiện lất ra những dữ liệu có comments < 1000 và thể hiện nó dưới dạng biểu đồ với kind là hist"
      ]
    },
    {
      "cell_type": "code",
      "source": [
        "sample = dataset[dataset['comments'] < 1000]['comments']\n",
        "sample.plot(kind='hist', figsize=(4, 3))"
      ],
      "metadata": {
        "id": "rqgTybYUAVX1"
      },
      "execution_count": null,
      "outputs": []
    },
    {
      "cell_type": "code",
      "execution_count": null,
      "metadata": {
        "id": "AfdTpz1rpJoW",
        "outputId": "2f155d2c-4ea9-43c9-935f-c4e9ed8db8aa"
      },
      "outputs": [
        {
          "data": {
            "text/plain": [
              "<matplotlib.axes._subplots.AxesSubplot at 0x17e2507fd48>"
            ]
          },
          "execution_count": 11,
          "metadata": {},
          "output_type": "execute_result"
        },
        {
          "data": {
            "image/png": "[encoded data removed]",
            "text/plain": [
              "<Figure size 432x288 with 1 Axes>"
            ]
          },
          "metadata": {
            "needs_background": "light"
          },
          "output_type": "display_data"
        }
      ],
      "source": [
        "# Lựa chọn loc method với comments > 150 và < 1000 và plot dữ liệu với kind là hist"
      ]
    },
    {
      "cell_type": "code",
      "source": [
        "filter = ((dataset['comments'] < 1000) & (dataset['comments'] > 150))\n",
        "sample = dataset[filter]['comments']\n",
        "sample.plot(kind='hist', figsize=(4, 3))"
      ],
      "metadata": {
        "id": "tttJOs1eAcDY"
      },
      "execution_count": null,
      "outputs": []
    },
    {
      "cell_type": "code",
      "execution_count": null,
      "metadata": {
        "id": "fLmuTnhUpJoW",
        "outputId": "081108db-da10-4b51-fe49-0ca255396933"
      },
      "outputs": [
        {
          "data": {
            "text/plain": [
              "<matplotlib.axes._subplots.AxesSubplot at 0x17e251c4dc8>"
            ]
          },
          "execution_count": 12,
          "metadata": {},
          "output_type": "execute_result"
        },
        {
          "data": {
            "image/png": "[encoded data removed]",
            "text/plain": [
              "<Figure size 432x288 with 1 Axes>"
            ]
          },
          "metadata": {
            "needs_background": "light"
          },
          "output_type": "display_data"
        }
      ],
      "source": [
        "# Thể hiện dữ liệu trên và với số lượng bins(ngăn xếp) là 13"
      ]
    },
    {
      "cell_type": "code",
      "source": [
        "sample.plot(kind='hist', bins=13, figsize=(4, 3))"
      ],
      "metadata": {
        "id": "GWWH1tARA6iM"
      },
      "execution_count": null,
      "outputs": []
    },
    {
      "cell_type": "code",
      "execution_count": null,
      "metadata": {
        "id": "n9k125U7pJoX",
        "outputId": "36ce38a8-e7a9-48cb-fd91-0b5c73d95e5d"
      },
      "outputs": [
        {
          "data": {
            "text/plain": [
              "<matplotlib.axes._subplots.AxesSubplot at 0x17e25260208>"
            ]
          },
          "execution_count": 13,
          "metadata": {},
          "output_type": "execute_result"
        },
        {
          "data": {
            "image/png": "[encoded data removed]",
            "text/plain": [
              "<Figure size 432x288 with 1 Axes>"
            ]
          },
          "metadata": {
            "needs_background": "light"
          },
          "output_type": "display_data"
        }
      ],
      "source": [
        "# Biểu diễn dữ liệu dưới dạng chart box"
      ]
    },
    {
      "cell_type": "code",
      "source": [
        "sample.plot.box(figsize=(4, 3))"
      ],
      "metadata": {
        "id": "f8MNEld7BQLk"
      },
      "execution_count": null,
      "outputs": []
    },
    {
      "cell_type": "code",
      "execution_count": null,
      "metadata": {
        "id": "I1s7gEumpJoX"
      },
      "outputs": [],
      "source": [
        "# Histogram for frequency distribution\n",
        "# boxplot for frequency distribution\n",
        "# Line plot for time series\n",
        "# Bar plot for comparing categories\n",
        "# Scatter plot for multiple variables"
      ]
    },
    {
      "cell_type": "code",
      "source": [
        "dataset.columns"
      ],
      "metadata": {
        "colab": {
          "base_uri": "https://localhost:8080/"
        },
        "id": "tk2F7SyDB7AT",
        "outputId": "e7a983d5-9bcc-457f-9811-c3c86bf80895"
      },
      "execution_count": null,
      "outputs": [
        {
          "output_type": "execute_result",
          "data": {
            "text/plain": [
              "Index(['comments', 'description', 'duration', 'event', 'film_date',\n",
              "       'languages', 'main_speaker', 'num_speaker', 'published_date', 'ratings',\n",
              "       'related_talks', 'speaker_occupation', 'tags', 'title', 'url', 'views',\n",
              "       'comment_per_view'],\n",
              "      dtype='object')"
            ]
          },
          "metadata": {},
          "execution_count": 121
        }
      ]
    },
    {
      "cell_type": "markdown",
      "metadata": {
        "id": "sokjCY2UpJoX"
      },
      "source": [
        "# 3. Plot the numbers of talks that took place each year"
      ]
    },
    {
      "cell_type": "code",
      "execution_count": null,
      "metadata": {
        "id": "1xUqeoLJpJoX",
        "colab": {
          "base_uri": "https://localhost:8080/"
        },
        "outputId": "5adb3324-e169-4094-a41a-c76862b5b0b3"
      },
      "outputs": [
        {
          "output_type": "execute_result",
          "data": {
            "text/plain": [
              "(2550, 17)"
            ]
          },
          "metadata": {},
          "execution_count": 125
        }
      ],
      "source": [
        "# Lấy ra ngẫu nhiên ra 20 giá trị\n",
        "dataset.shape"
      ]
    },
    {
      "cell_type": "code",
      "source": [
        "dataset.index[-20:] # index is range from 0 to 2549 contiguously"
      ],
      "metadata": {
        "colab": {
          "base_uri": "https://localhost:8080/"
        },
        "id": "2zXusNgqCzmD",
        "outputId": "64c5fc5e-3fe9-42a5-d7cb-067cb5bbc433"
      },
      "execution_count": null,
      "outputs": [
        {
          "output_type": "execute_result",
          "data": {
            "text/plain": [
              "RangeIndex(start=2530, stop=2550, step=1)"
            ]
          },
          "metadata": {},
          "execution_count": 128
        }
      ]
    },
    {
      "cell_type": "code",
      "source": [
        "choices = np.random.randint(0, 2549, size=20)\n",
        "choices = np.sort(choices)\n",
        "choices"
      ],
      "metadata": {
        "colab": {
          "base_uri": "https://localhost:8080/"
        },
        "id": "z3E1xHcXDV_x",
        "outputId": "2a2f0734-af92-4bc3-e21a-19acdc56d34c"
      },
      "execution_count": null,
      "outputs": [
        {
          "output_type": "execute_result",
          "data": {
            "text/plain": [
              "array([  69,  268,  396,  472,  568,  617,  745, 1165, 1440, 1452, 1453,\n",
              "       1612, 1884, 1921, 2064, 2075, 2089, 2289, 2374, 2430])"
            ]
          },
          "metadata": {},
          "execution_count": 134
        }
      ]
    },
    {
      "cell_type": "code",
      "execution_count": null,
      "metadata": {
        "id": "LOJbg4nMpJoX"
      },
      "outputs": [],
      "source": [
        "# Lấy ra tên của các event và các giá trị này là duy nhất\n",
        "# Lấy ra 4 chữ cuối của tên các event kể trên\n",
        "dataset['event'][choices]\n",
        "# if 4 tailed characters isn't unique, we will do random again"
      ]
    },
    {
      "cell_type": "code",
      "execution_count": null,
      "metadata": {
        "id": "Xua4zRs5pJoX"
      },
      "outputs": [],
      "source": [
        "# Lấy ra giá trị film_date\n",
        "# Tạo ra một cột mới là year từ dữ liệu film_date và thể hiện 5 dòng dữ liệu đầu tiên\n",
        "dataset['film_date'].dt.strftime('%Y').head(5)"
      ]
    },
    {
      "cell_type": "code",
      "execution_count": null,
      "metadata": {
        "id": "CrndYVo6pJoX"
      },
      "outputs": [],
      "source": [
        "# Sắp xếp dữ liệu theo index"
      ]
    },
    {
      "cell_type": "code",
      "execution_count": null,
      "metadata": {
        "id": "s7I68MiYpJoX",
        "outputId": "f08a0528-e4d8-43a5-ca16-6ccf6e7b5dfb"
      },
      "outputs": [
        {
          "data": {
            "text/plain": [
              "<matplotlib.axes._subplots.AxesSubplot at 0x17e252eab88>"
            ]
          },
          "execution_count": 22,
          "metadata": {},
          "output_type": "execute_result"
        },
        {
          "data": {
            "image/png": "[encoded data removed]",
            "text/plain": [
              "<Figure size 432x288 with 1 Axes>"
            ]
          },
          "metadata": {
            "needs_background": "light"
          },
          "output_type": "display_data"
        }
      ],
      "source": [
        "# Thể hiện dữ liệu biểu đồ bar và cột x sẽ là tên các năm"
      ]
    },
    {
      "cell_type": "code",
      "execution_count": null,
      "metadata": {
        "id": "LTCKqPdvpJoY",
        "outputId": "10e19e92-94b6-45cc-e49c-93e2c5a6a612"
      },
      "outputs": [
        {
          "data": {
            "text/plain": [
              "<matplotlib.axes._subplots.AxesSubplot at 0x17e252f7508>"
            ]
          },
          "execution_count": 23,
          "metadata": {},
          "output_type": "execute_result"
        },
        {
          "data": {
            "image/png": "[encoded data removed]",
            "text/plain": [
              "<Figure size 432x288 with 1 Axes>"
            ]
          },
          "metadata": {
            "needs_background": "light"
          },
          "output_type": "display_data"
        }
      ],
      "source": [
        "# time series better with line plot"
      ]
    },
    {
      "cell_type": "code",
      "execution_count": null,
      "metadata": {
        "id": "HOnjUsSjpJoY"
      },
      "outputs": [],
      "source": [
        "# Tạo ra một cột new date time và điền vào đó là time lớn nhất\n",
        "\n",
        "# new_date_time = max()"
      ]
    },
    {
      "cell_type": "markdown",
      "metadata": {
        "id": "C4V795U_pJoY"
      },
      "source": [
        "# 4. What were the \"best\" events in  TED history to attend?"
      ]
    },
    {
      "cell_type": "code",
      "execution_count": null,
      "metadata": {
        "id": "6GQbEmUmpJoY",
        "colab": {
          "base_uri": "https://localhost:8080/"
        },
        "outputId": "632be0f4-d3b8-4e2b-a422-7393be565db6"
      },
      "outputs": [
        {
          "output_type": "execute_result",
          "data": {
            "text/plain": [
              "TED2014              84\n",
              "TED2009              83\n",
              "TED2016              77\n",
              "TED2013              77\n",
              "TED2015              75\n",
              "                     ..\n",
              "NextGen:Charity       1\n",
              "TEDxBG                1\n",
              "TEDxNorthwesternU     1\n",
              "TEDxSiliconValley     1\n",
              "TEDxZurich            1\n",
              "Name: event, Length: 355, dtype: int64"
            ]
          },
          "metadata": {},
          "execution_count": 141
        }
      ],
      "source": [
        "# Đếm số lượng các event theo tên\n",
        "dataset['event'].value_counts()"
      ]
    },
    {
      "cell_type": "code",
      "execution_count": null,
      "metadata": {
        "id": "6msnrbyEpJoY",
        "colab": {
          "base_uri": "https://localhost:8080/",
          "height": 455
        },
        "outputId": "3eb91ffd-a972-4c17-ad5f-e0ac69542706"
      },
      "outputs": [
        {
          "output_type": "execute_result",
          "data": {
            "text/plain": [
              "                             count      sum       mean\n",
              "event                                                 \n",
              "AORN Congress                    1   149818   149818.0\n",
              "Arbejdsglaede Live               1   971594   971594.0\n",
              "BBC TV                           1   521974   521974.0\n",
              "Bowery Poetry Club               1   676741   676741.0\n",
              "Business Innovation Factory      3   912258   304086.0\n",
              "...                            ...      ...        ...\n",
              "The Do Lectures                  1   112321   112321.0\n",
              "Toronto Youth Corps              1  1028630  1028630.0\n",
              "University of California         2   523663   261831.5\n",
              "Web 2.0 Expo 2008                1   757791   757791.0\n",
              "World Science Festival           1  3302312  3302312.0\n",
              "\n",
              "[355 rows x 3 columns]"
            ],
            "text/html": [
              "\n",
              "\n",
              "  <div id=\"df-00e7bec3-df6a-4930-ac8a-c8400e3f8fa6\">\n",
              "    <div class=\"colab-df-container\">\n",
              "      <div>\n",
              "<style scoped>\n",
              "    .dataframe tbody tr th:only-of-type {\n",
              "        vertical-align: middle;\n",
              "    }\n",
              "\n",
              "    .dataframe tbody tr th {\n",
              "        vertical-align: top;\n",
              "    }\n",
              "\n",
              "    .dataframe thead th {\n",
              "        text-align: right;\n",
              "    }\n",
              "</style>\n",
              "<table border=\"1\" class=\"dataframe\">\n",
              "  <thead>\n",
              "    <tr style=\"text-align: right;\">\n",
              "      <th></th>\n",
              "      <th>count</th>\n",
              "      <th>sum</th>\n",
              "      <th>mean</th>\n",
              "    </tr>\n",
              "    <tr>\n",
              "      <th>event</th>\n",
              "      <th></th>\n",
              "      <th></th>\n",
              "      <th></th>\n",
              "    </tr>\n",
              "  </thead>\n",
              "  <tbody>\n",
              "    <tr>\n",
              "      <th>AORN Congress</th>\n",
              "      <td>1</td>\n",
              "      <td>149818</td>\n",
              "      <td>149818.0</td>\n",
              "    </tr>\n",
              "    <tr>\n",
              "      <th>Arbejdsglaede Live</th>\n",
              "      <td>1</td>\n",
              "      <td>971594</td>\n",
              "      <td>971594.0</td>\n",
              "    </tr>\n",
              "    <tr>\n",
              "      <th>BBC TV</th>\n",
              "      <td>1</td>\n",
              "      <td>521974</td>\n",
              "      <td>521974.0</td>\n",
              "    </tr>\n",
              "    <tr>\n",
              "      <th>Bowery Poetry Club</th>\n",
              "      <td>1</td>\n",
              "      <td>676741</td>\n",
              "      <td>676741.0</td>\n",
              "    </tr>\n",
              "    <tr>\n",
              "      <th>Business Innovation Factory</th>\n",
              "      <td>3</td>\n",
              "      <td>912258</td>\n",
              "      <td>304086.0</td>\n",
              "    </tr>\n",
              "    <tr>\n",
              "      <th>...</th>\n",
              "      <td>...</td>\n",
              "      <td>...</td>\n",
              "      <td>...</td>\n",
              "    </tr>\n",
              "    <tr>\n",
              "      <th>The Do Lectures</th>\n",
              "      <td>1</td>\n",
              "      <td>112321</td>\n",
              "      <td>112321.0</td>\n",
              "    </tr>\n",
              "    <tr>\n",
              "      <th>Toronto Youth Corps</th>\n",
              "      <td>1</td>\n",
              "      <td>1028630</td>\n",
              "      <td>1028630.0</td>\n",
              "    </tr>\n",
              "    <tr>\n",
              "      <th>University of California</th>\n",
              "      <td>2</td>\n",
              "      <td>523663</td>\n",
              "      <td>261831.5</td>\n",
              "    </tr>\n",
              "    <tr>\n",
              "      <th>Web 2.0 Expo 2008</th>\n",
              "      <td>1</td>\n",
              "      <td>757791</td>\n",
              "      <td>757791.0</td>\n",
              "    </tr>\n",
              "    <tr>\n",
              "      <th>World Science Festival</th>\n",
              "      <td>1</td>\n",
              "      <td>3302312</td>\n",
              "      <td>3302312.0</td>\n",
              "    </tr>\n",
              "  </tbody>\n",
              "</table>\n",
              "<p>355 rows × 3 columns</p>\n",
              "</div>\n",
              "      <button class=\"colab-df-convert\" onclick=\"convertToInteractive('df-00e7bec3-df6a-4930-ac8a-c8400e3f8fa6')\"\n",
              "              title=\"Convert this dataframe to an interactive table.\"\n",
              "              style=\"display:none;\">\n",
              "\n",
              "  <svg xmlns=\"http://www.w3.org/2000/svg\" height=\"24px\"viewBox=\"0 0 24 24\"\n",
              "       width=\"24px\">\n",
              "    <path d=\"M0 0h24v24H0V0z\" fill=\"none\"/>\n",
              "    <path d=\"M18.56 5.44l.94 2.06.94-2.06 2.06-.94-2.06-.94-.94-2.06-.94 2.06-2.06.94zm-11 1L8.5 8.5l.94-2.06 2.06-.94-2.06-.94L8.5 2.5l-.94 2.06-2.06.94zm10 10l.94 2.06.94-2.06 2.06-.94-2.06-.94-.94-2.06-.94 2.06-2.06.94z\"/><path d=\"M17.41 7.96l-1.37-1.37c-.4-.4-.92-.59-1.43-.59-.52 0-1.04.2-1.43.59L10.3 9.45l-7.72 7.72c-.78.78-.78 2.05 0 2.83L4 21.41c.39.39.9.59 1.41.59.51 0 1.02-.2 1.41-.59l7.78-7.78 2.81-2.81c.8-.78.8-2.07 0-2.86zM5.41 20L4 18.59l7.72-7.72 1.47 1.35L5.41 20z\"/>\n",
              "  </svg>\n",
              "      </button>\n",
              "\n",
              "\n",
              "\n",
              "    <div id=\"df-6ad56105-1db3-4b1e-b937-b30c6c75e4e8\">\n",
              "      <button class=\"colab-df-quickchart\" onclick=\"quickchart('df-6ad56105-1db3-4b1e-b937-b30c6c75e4e8')\"\n",
              "              title=\"Suggest charts.\"\n",
              "              style=\"display:none;\">\n",
              "\n",
              "<svg xmlns=\"http://www.w3.org/2000/svg\" height=\"24px\"viewBox=\"0 0 24 24\"\n",
              "     width=\"24px\">\n",
              "    <g>\n",
              "        <path d=\"M19 3H5c-1.1 0-2 .9-2 2v14c0 1.1.9 2 2 2h14c1.1 0 2-.9 2-2V5c0-1.1-.9-2-2-2zM9 17H7v-7h2v7zm4 0h-2V7h2v10zm4 0h-2v-4h2v4z\"/>\n",
              "    </g>\n",
              "</svg>\n",
              "      </button>\n",
              "    </div>\n",
              "\n",
              "<style>\n",
              "  .colab-df-quickchart {\n",
              "    background-color: #E8F0FE;\n",
              "    border: none;\n",
              "    border-radius: 50%;\n",
              "    cursor: pointer;\n",
              "    display: none;\n",
              "    fill: #1967D2;\n",
              "    height: 32px;\n",
              "    padding: 0 0 0 0;\n",
              "    width: 32px;\n",
              "  }\n",
              "\n",
              "  .colab-df-quickchart:hover {\n",
              "    background-color: #E2EBFA;\n",
              "    box-shadow: 0px 1px 2px rgba(60, 64, 67, 0.3), 0px 1px 3px 1px rgba(60, 64, 67, 0.15);\n",
              "    fill: #174EA6;\n",
              "  }\n",
              "\n",
              "  [theme=dark] .colab-df-quickchart {\n",
              "    background-color: #3B4455;\n",
              "    fill: #D2E3FC;\n",
              "  }\n",
              "\n",
              "  [theme=dark] .colab-df-quickchart:hover {\n",
              "    background-color: #434B5C;\n",
              "    box-shadow: 0px 1px 3px 1px rgba(0, 0, 0, 0.15);\n",
              "    filter: drop-shadow(0px 1px 2px rgba(0, 0, 0, 0.3));\n",
              "    fill: #FFFFFF;\n",
              "  }\n",
              "</style>\n",
              "\n",
              "    <script>\n",
              "      async function quickchart(key) {\n",
              "        const containerElement = document.querySelector('#' + key);\n",
              "        const charts = await google.colab.kernel.invokeFunction(\n",
              "            'suggestCharts', [key], {});\n",
              "      }\n",
              "    </script>\n",
              "\n",
              "      <script>\n",
              "\n",
              "function displayQuickchartButton(domScope) {\n",
              "  let quickchartButtonEl =\n",
              "    domScope.querySelector('#df-6ad56105-1db3-4b1e-b937-b30c6c75e4e8 button.colab-df-quickchart');\n",
              "  quickchartButtonEl.style.display =\n",
              "    google.colab.kernel.accessAllowed ? 'block' : 'none';\n",
              "}\n",
              "\n",
              "        displayQuickchartButton(document);\n",
              "      </script>\n",
              "      <style>\n",
              "    .colab-df-container {\n",
              "      display:flex;\n",
              "      flex-wrap:wrap;\n",
              "      gap: 12px;\n",
              "    }\n",
              "\n",
              "    .colab-df-convert {\n",
              "      background-color: #E8F0FE;\n",
              "      border: none;\n",
              "      border-radius: 50%;\n",
              "      cursor: pointer;\n",
              "      display: none;\n",
              "      fill: #1967D2;\n",
              "      height: 32px;\n",
              "      padding: 0 0 0 0;\n",
              "      width: 32px;\n",
              "    }\n",
              "\n",
              "    .colab-df-convert:hover {\n",
              "      background-color: #E2EBFA;\n",
              "      box-shadow: 0px 1px 2px rgba(60, 64, 67, 0.3), 0px 1px 3px 1px rgba(60, 64, 67, 0.15);\n",
              "      fill: #174EA6;\n",
              "    }\n",
              "\n",
              "    [theme=dark] .colab-df-convert {\n",
              "      background-color: #3B4455;\n",
              "      fill: #D2E3FC;\n",
              "    }\n",
              "\n",
              "    [theme=dark] .colab-df-convert:hover {\n",
              "      background-color: #434B5C;\n",
              "      box-shadow: 0px 1px 3px 1px rgba(0, 0, 0, 0.15);\n",
              "      filter: drop-shadow(0px 1px 2px rgba(0, 0, 0, 0.3));\n",
              "      fill: #FFFFFF;\n",
              "    }\n",
              "  </style>\n",
              "\n",
              "      <script>\n",
              "        const buttonEl =\n",
              "          document.querySelector('#df-00e7bec3-df6a-4930-ac8a-c8400e3f8fa6 button.colab-df-convert');\n",
              "        buttonEl.style.display =\n",
              "          google.colab.kernel.accessAllowed ? 'block' : 'none';\n",
              "\n",
              "        async function convertToInteractive(key) {\n",
              "          const element = document.querySelector('#df-00e7bec3-df6a-4930-ac8a-c8400e3f8fa6');\n",
              "          const dataTable =\n",
              "            await google.colab.kernel.invokeFunction('convertToInteractive',\n",
              "                                                     [key], {});\n",
              "          if (!dataTable) return;\n",
              "\n",
              "          const docLinkHtml = 'Like what you see? Visit the ' +\n",
              "            '<a target=\"_blank\" href=https://colab.research.google.com/notebooks/data_table.ipynb>data table notebook</a>'\n",
              "            + ' to learn more about interactive tables.';\n",
              "          element.innerHTML = '';\n",
              "          dataTable['output_type'] = 'display_data';\n",
              "          await google.colab.output.renderOutput(dataTable, element);\n",
              "          const docLink = document.createElement('div');\n",
              "          docLink.innerHTML = docLinkHtml;\n",
              "          element.appendChild(docLink);\n",
              "        }\n",
              "      </script>\n",
              "    </div>\n",
              "  </div>\n"
            ]
          },
          "metadata": {},
          "execution_count": 144
        }
      ],
      "source": [
        "# Nhóm dữ liệu theo event và view sau đó thể hiện thành 3 cột mean, count, sum\n",
        "dataset.groupby('event')['views'].agg(['count', 'sum', 'mean'])"
      ]
    },
    {
      "cell_type": "code",
      "execution_count": null,
      "metadata": {
        "id": "jQsgJX2EpJoY",
        "colab": {
          "base_uri": "https://localhost:8080/",
          "height": 455
        },
        "outputId": "9d47490b-3937-4661-b16f-063481fa69ac"
      },
      "outputs": [
        {
          "output_type": "execute_result",
          "data": {
            "text/plain": [
              "                        count        sum          mean\n",
              "event                                                 \n",
              "TED2013                    77  177307937  2.302700e+06\n",
              "TED2014                    84  174121423  2.072874e+06\n",
              "TEDGlobal 2013             66  170554736  2.584163e+06\n",
              "TED2015                    75  150826305  2.011017e+06\n",
              "TED2006                    45  147345533  3.274345e+06\n",
              "...                       ...        ...           ...\n",
              "TEDxNASA@SiliconValley      1     155895  1.558950e+05\n",
              "AORN Congress               1     149818  1.498180e+05\n",
              "TEDxWaterloo                1     138812  1.388120e+05\n",
              "TEDxIslay                   1     120274  1.202740e+05\n",
              "The Do Lectures             1     112321  1.123210e+05\n",
              "\n",
              "[355 rows x 3 columns]"
            ],
            "text/html": [
              "\n",
              "\n",
              "  <div id=\"df-7717c578-918d-497c-b47b-7fa68756e253\">\n",
              "    <div class=\"colab-df-container\">\n",
              "      <div>\n",
              "<style scoped>\n",
              "    .dataframe tbody tr th:only-of-type {\n",
              "        vertical-align: middle;\n",
              "    }\n",
              "\n",
              "    .dataframe tbody tr th {\n",
              "        vertical-align: top;\n",
              "    }\n",
              "\n",
              "    .dataframe thead th {\n",
              "        text-align: right;\n",
              "    }\n",
              "</style>\n",
              "<table border=\"1\" class=\"dataframe\">\n",
              "  <thead>\n",
              "    <tr style=\"text-align: right;\">\n",
              "      <th></th>\n",
              "      <th>count</th>\n",
              "      <th>sum</th>\n",
              "      <th>mean</th>\n",
              "    </tr>\n",
              "    <tr>\n",
              "      <th>event</th>\n",
              "      <th></th>\n",
              "      <th></th>\n",
              "      <th></th>\n",
              "    </tr>\n",
              "  </thead>\n",
              "  <tbody>\n",
              "    <tr>\n",
              "      <th>TED2013</th>\n",
              "      <td>77</td>\n",
              "      <td>177307937</td>\n",
              "      <td>2.302700e+06</td>\n",
              "    </tr>\n",
              "    <tr>\n",
              "      <th>TED2014</th>\n",
              "      <td>84</td>\n",
              "      <td>174121423</td>\n",
              "      <td>2.072874e+06</td>\n",
              "    </tr>\n",
              "    <tr>\n",
              "      <th>TEDGlobal 2013</th>\n",
              "      <td>66</td>\n",
              "      <td>170554736</td>\n",
              "      <td>2.584163e+06</td>\n",
              "    </tr>\n",
              "    <tr>\n",
              "      <th>TED2015</th>\n",
              "      <td>75</td>\n",
              "      <td>150826305</td>\n",
              "      <td>2.011017e+06</td>\n",
              "    </tr>\n",
              "    <tr>\n",
              "      <th>TED2006</th>\n",
              "      <td>45</td>\n",
              "      <td>147345533</td>\n",
              "      <td>3.274345e+06</td>\n",
              "    </tr>\n",
              "    <tr>\n",
              "      <th>...</th>\n",
              "      <td>...</td>\n",
              "      <td>...</td>\n",
              "      <td>...</td>\n",
              "    </tr>\n",
              "    <tr>\n",
              "      <th>TEDxNASA@SiliconValley</th>\n",
              "      <td>1</td>\n",
              "      <td>155895</td>\n",
              "      <td>1.558950e+05</td>\n",
              "    </tr>\n",
              "    <tr>\n",
              "      <th>AORN Congress</th>\n",
              "      <td>1</td>\n",
              "      <td>149818</td>\n",
              "      <td>1.498180e+05</td>\n",
              "    </tr>\n",
              "    <tr>\n",
              "      <th>TEDxWaterloo</th>\n",
              "      <td>1</td>\n",
              "      <td>138812</td>\n",
              "      <td>1.388120e+05</td>\n",
              "    </tr>\n",
              "    <tr>\n",
              "      <th>TEDxIslay</th>\n",
              "      <td>1</td>\n",
              "      <td>120274</td>\n",
              "      <td>1.202740e+05</td>\n",
              "    </tr>\n",
              "    <tr>\n",
              "      <th>The Do Lectures</th>\n",
              "      <td>1</td>\n",
              "      <td>112321</td>\n",
              "      <td>1.123210e+05</td>\n",
              "    </tr>\n",
              "  </tbody>\n",
              "</table>\n",
              "<p>355 rows × 3 columns</p>\n",
              "</div>\n",
              "      <button class=\"colab-df-convert\" onclick=\"convertToInteractive('df-7717c578-918d-497c-b47b-7fa68756e253')\"\n",
              "              title=\"Convert this dataframe to an interactive table.\"\n",
              "              style=\"display:none;\">\n",
              "\n",
              "  <svg xmlns=\"http://www.w3.org/2000/svg\" height=\"24px\"viewBox=\"0 0 24 24\"\n",
              "       width=\"24px\">\n",
              "    <path d=\"M0 0h24v24H0V0z\" fill=\"none\"/>\n",
              "    <path d=\"M18.56 5.44l.94 2.06.94-2.06 2.06-.94-2.06-.94-.94-2.06-.94 2.06-2.06.94zm-11 1L8.5 8.5l.94-2.06 2.06-.94-2.06-.94L8.5 2.5l-.94 2.06-2.06.94zm10 10l.94 2.06.94-2.06 2.06-.94-2.06-.94-.94-2.06-.94 2.06-2.06.94z\"/><path d=\"M17.41 7.96l-1.37-1.37c-.4-.4-.92-.59-1.43-.59-.52 0-1.04.2-1.43.59L10.3 9.45l-7.72 7.72c-.78.78-.78 2.05 0 2.83L4 21.41c.39.39.9.59 1.41.59.51 0 1.02-.2 1.41-.59l7.78-7.78 2.81-2.81c.8-.78.8-2.07 0-2.86zM5.41 20L4 18.59l7.72-7.72 1.47 1.35L5.41 20z\"/>\n",
              "  </svg>\n",
              "      </button>\n",
              "\n",
              "\n",
              "\n",
              "    <div id=\"df-3a2ebe1a-b639-43b8-91e0-fd507638e704\">\n",
              "      <button class=\"colab-df-quickchart\" onclick=\"quickchart('df-3a2ebe1a-b639-43b8-91e0-fd507638e704')\"\n",
              "              title=\"Suggest charts.\"\n",
              "              style=\"display:none;\">\n",
              "\n",
              "<svg xmlns=\"http://www.w3.org/2000/svg\" height=\"24px\"viewBox=\"0 0 24 24\"\n",
              "     width=\"24px\">\n",
              "    <g>\n",
              "        <path d=\"M19 3H5c-1.1 0-2 .9-2 2v14c0 1.1.9 2 2 2h14c1.1 0 2-.9 2-2V5c0-1.1-.9-2-2-2zM9 17H7v-7h2v7zm4 0h-2V7h2v10zm4 0h-2v-4h2v4z\"/>\n",
              "    </g>\n",
              "</svg>\n",
              "      </button>\n",
              "    </div>\n",
              "\n",
              "<style>\n",
              "  .colab-df-quickchart {\n",
              "    background-color: #E8F0FE;\n",
              "    border: none;\n",
              "    border-radius: 50%;\n",
              "    cursor: pointer;\n",
              "    display: none;\n",
              "    fill: #1967D2;\n",
              "    height: 32px;\n",
              "    padding: 0 0 0 0;\n",
              "    width: 32px;\n",
              "  }\n",
              "\n",
              "  .colab-df-quickchart:hover {\n",
              "    background-color: #E2EBFA;\n",
              "    box-shadow: 0px 1px 2px rgba(60, 64, 67, 0.3), 0px 1px 3px 1px rgba(60, 64, 67, 0.15);\n",
              "    fill: #174EA6;\n",
              "  }\n",
              "\n",
              "  [theme=dark] .colab-df-quickchart {\n",
              "    background-color: #3B4455;\n",
              "    fill: #D2E3FC;\n",
              "  }\n",
              "\n",
              "  [theme=dark] .colab-df-quickchart:hover {\n",
              "    background-color: #434B5C;\n",
              "    box-shadow: 0px 1px 3px 1px rgba(0, 0, 0, 0.15);\n",
              "    filter: drop-shadow(0px 1px 2px rgba(0, 0, 0, 0.3));\n",
              "    fill: #FFFFFF;\n",
              "  }\n",
              "</style>\n",
              "\n",
              "    <script>\n",
              "      async function quickchart(key) {\n",
              "        const containerElement = document.querySelector('#' + key);\n",
              "        const charts = await google.colab.kernel.invokeFunction(\n",
              "            'suggestCharts', [key], {});\n",
              "      }\n",
              "    </script>\n",
              "\n",
              "      <script>\n",
              "\n",
              "function displayQuickchartButton(domScope) {\n",
              "  let quickchartButtonEl =\n",
              "    domScope.querySelector('#df-3a2ebe1a-b639-43b8-91e0-fd507638e704 button.colab-df-quickchart');\n",
              "  quickchartButtonEl.style.display =\n",
              "    google.colab.kernel.accessAllowed ? 'block' : 'none';\n",
              "}\n",
              "\n",
              "        displayQuickchartButton(document);\n",
              "      </script>\n",
              "      <style>\n",
              "    .colab-df-container {\n",
              "      display:flex;\n",
              "      flex-wrap:wrap;\n",
              "      gap: 12px;\n",
              "    }\n",
              "\n",
              "    .colab-df-convert {\n",
              "      background-color: #E8F0FE;\n",
              "      border: none;\n",
              "      border-radius: 50%;\n",
              "      cursor: pointer;\n",
              "      display: none;\n",
              "      fill: #1967D2;\n",
              "      height: 32px;\n",
              "      padding: 0 0 0 0;\n",
              "      width: 32px;\n",
              "    }\n",
              "\n",
              "    .colab-df-convert:hover {\n",
              "      background-color: #E2EBFA;\n",
              "      box-shadow: 0px 1px 2px rgba(60, 64, 67, 0.3), 0px 1px 3px 1px rgba(60, 64, 67, 0.15);\n",
              "      fill: #174EA6;\n",
              "    }\n",
              "\n",
              "    [theme=dark] .colab-df-convert {\n",
              "      background-color: #3B4455;\n",
              "      fill: #D2E3FC;\n",
              "    }\n",
              "\n",
              "    [theme=dark] .colab-df-convert:hover {\n",
              "      background-color: #434B5C;\n",
              "      box-shadow: 0px 1px 3px 1px rgba(0, 0, 0, 0.15);\n",
              "      filter: drop-shadow(0px 1px 2px rgba(0, 0, 0, 0.3));\n",
              "      fill: #FFFFFF;\n",
              "    }\n",
              "  </style>\n",
              "\n",
              "      <script>\n",
              "        const buttonEl =\n",
              "          document.querySelector('#df-7717c578-918d-497c-b47b-7fa68756e253 button.colab-df-convert');\n",
              "        buttonEl.style.display =\n",
              "          google.colab.kernel.accessAllowed ? 'block' : 'none';\n",
              "\n",
              "        async function convertToInteractive(key) {\n",
              "          const element = document.querySelector('#df-7717c578-918d-497c-b47b-7fa68756e253');\n",
              "          const dataTable =\n",
              "            await google.colab.kernel.invokeFunction('convertToInteractive',\n",
              "                                                     [key], {});\n",
              "          if (!dataTable) return;\n",
              "\n",
              "          const docLinkHtml = 'Like what you see? Visit the ' +\n",
              "            '<a target=\"_blank\" href=https://colab.research.google.com/notebooks/data_table.ipynb>data table notebook</a>'\n",
              "            + ' to learn more about interactive tables.';\n",
              "          element.innerHTML = '';\n",
              "          dataTable['output_type'] = 'display_data';\n",
              "          await google.colab.output.renderOutput(dataTable, element);\n",
              "          const docLink = document.createElement('div');\n",
              "          docLink.innerHTML = docLinkHtml;\n",
              "          element.appendChild(docLink);\n",
              "        }\n",
              "      </script>\n",
              "    </div>\n",
              "  </div>\n"
            ]
          },
          "metadata": {},
          "execution_count": 145
        }
      ],
      "source": [
        "# Sắp xếp giá trị trên theo cột sum và giảm dần\n",
        "dataset.groupby('event')['views'].agg(['count', 'sum', 'mean']).sort_values(['sum'], ascending=False)"
      ]
    },
    {
      "cell_type": "markdown",
      "metadata": {
        "id": "0anEKHAypJoY"
      },
      "source": [
        "# 5. Unpack the ratings data"
      ]
    },
    {
      "cell_type": "code",
      "execution_count": null,
      "metadata": {
        "id": "gtAMSXjxpJoY"
      },
      "outputs": [],
      "source": [
        "# Biểu diễn giá trị cột rating\n",
        "# Lấy ra giá trị cột rating cột thứ nhất\n",
        "# Thể hiện kiểu dữ liệu của ratings\n",
        "# Chuyển đổi dữ liệu ratings thành kiểu dữ liệu python\n",
        "# Biến đổi kiểu dữ liệu từ string thành list\n",
        "# rating_list is a list\n",
        "\n",
        "# all are done in the above cells"
      ]
    },
    {
      "cell_type": "markdown",
      "metadata": {
        "id": "lLtvy-WUpJoh"
      },
      "source": [
        "# 6. Count the total numbers of ratings received by each talk\n",
        "\n",
        "- new column called num_ratings"
      ]
    },
    {
      "cell_type": "code",
      "execution_count": null,
      "metadata": {
        "id": "zwltxPD0pJoh",
        "colab": {
          "base_uri": "https://localhost:8080/",
          "height": 363
        },
        "outputId": "f4b97e8d-e5e1-494d-fa11-44a70f7bfe0b"
      },
      "outputs": [
        {
          "output_type": "execute_result",
          "data": {
            "text/plain": [
              "                                             ratings  num_ratings\n",
              "0  [{7: 19645}, {1: 4573}, {9: 6073}, {3: 3253}, ...        93850\n",
              "1  [{7: 544}, {3: 139}, {2: 62}, {1: 58}, {21: 25...         2936\n",
              "2  [{7: 964}, {3: 45}, {9: 183}, {1: 60}, {21: 10...         2824\n",
              "3  [{3: 760}, {1: 291}, {2: 32}, {7: 59}, {9: 105...         3728\n",
              "4  [{9: 3202}, {7: 1390}, {1: 942}, {3: 318}, {11...        25620\n",
              "5  [{7: 1102}, {3: 721}, {21: 377}, {2: 301}, {1:...        15356\n",
              "6  [{3: 477}, {7: 2484}, {9: 320}, {21: 225}, {1:...         5998\n",
              "7  [{9: 195}, {1: 98}, {11: 26}, {3: 34}, {21: 26...         1024\n",
              "8  [{3: 562}, {2: 70}, {21: 283}, {7: 60}, {11: 1...         3946\n",
              "9  [{21: 838}, {1: 767}, {3: 476}, {9: 116}, {11:...         8327"
            ],
            "text/html": [
              "\n",
              "\n",
              "  <div id=\"df-83f7a430-2add-4d28-9e72-d0bda1ea2645\">\n",
              "    <div class=\"colab-df-container\">\n",
              "      <div>\n",
              "<style scoped>\n",
              "    .dataframe tbody tr th:only-of-type {\n",
              "        vertical-align: middle;\n",
              "    }\n",
              "\n",
              "    .dataframe tbody tr th {\n",
              "        vertical-align: top;\n",
              "    }\n",
              "\n",
              "    .dataframe thead th {\n",
              "        text-align: right;\n",
              "    }\n",
              "</style>\n",
              "<table border=\"1\" class=\"dataframe\">\n",
              "  <thead>\n",
              "    <tr style=\"text-align: right;\">\n",
              "      <th></th>\n",
              "      <th>ratings</th>\n",
              "      <th>num_ratings</th>\n",
              "    </tr>\n",
              "  </thead>\n",
              "  <tbody>\n",
              "    <tr>\n",
              "      <th>0</th>\n",
              "      <td>[{7: 19645}, {1: 4573}, {9: 6073}, {3: 3253}, ...</td>\n",
              "      <td>93850</td>\n",
              "    </tr>\n",
              "    <tr>\n",
              "      <th>1</th>\n",
              "      <td>[{7: 544}, {3: 139}, {2: 62}, {1: 58}, {21: 25...</td>\n",
              "      <td>2936</td>\n",
              "    </tr>\n",
              "    <tr>\n",
              "      <th>2</th>\n",
              "      <td>[{7: 964}, {3: 45}, {9: 183}, {1: 60}, {21: 10...</td>\n",
              "      <td>2824</td>\n",
              "    </tr>\n",
              "    <tr>\n",
              "      <th>3</th>\n",
              "      <td>[{3: 760}, {1: 291}, {2: 32}, {7: 59}, {9: 105...</td>\n",
              "      <td>3728</td>\n",
              "    </tr>\n",
              "    <tr>\n",
              "      <th>4</th>\n",
              "      <td>[{9: 3202}, {7: 1390}, {1: 942}, {3: 318}, {11...</td>\n",
              "      <td>25620</td>\n",
              "    </tr>\n",
              "    <tr>\n",
              "      <th>5</th>\n",
              "      <td>[{7: 1102}, {3: 721}, {21: 377}, {2: 301}, {1:...</td>\n",
              "      <td>15356</td>\n",
              "    </tr>\n",
              "    <tr>\n",
              "      <th>6</th>\n",
              "      <td>[{3: 477}, {7: 2484}, {9: 320}, {21: 225}, {1:...</td>\n",
              "      <td>5998</td>\n",
              "    </tr>\n",
              "    <tr>\n",
              "      <th>7</th>\n",
              "      <td>[{9: 195}, {1: 98}, {11: 26}, {3: 34}, {21: 26...</td>\n",
              "      <td>1024</td>\n",
              "    </tr>\n",
              "    <tr>\n",
              "      <th>8</th>\n",
              "      <td>[{3: 562}, {2: 70}, {21: 283}, {7: 60}, {11: 1...</td>\n",
              "      <td>3946</td>\n",
              "    </tr>\n",
              "    <tr>\n",
              "      <th>9</th>\n",
              "      <td>[{21: 838}, {1: 767}, {3: 476}, {9: 116}, {11:...</td>\n",
              "      <td>8327</td>\n",
              "    </tr>\n",
              "  </tbody>\n",
              "</table>\n",
              "</div>\n",
              "      <button class=\"colab-df-convert\" onclick=\"convertToInteractive('df-83f7a430-2add-4d28-9e72-d0bda1ea2645')\"\n",
              "              title=\"Convert this dataframe to an interactive table.\"\n",
              "              style=\"display:none;\">\n",
              "\n",
              "  <svg xmlns=\"http://www.w3.org/2000/svg\" height=\"24px\"viewBox=\"0 0 24 24\"\n",
              "       width=\"24px\">\n",
              "    <path d=\"M0 0h24v24H0V0z\" fill=\"none\"/>\n",
              "    <path d=\"M18.56 5.44l.94 2.06.94-2.06 2.06-.94-2.06-.94-.94-2.06-.94 2.06-2.06.94zm-11 1L8.5 8.5l.94-2.06 2.06-.94-2.06-.94L8.5 2.5l-.94 2.06-2.06.94zm10 10l.94 2.06.94-2.06 2.06-.94-2.06-.94-.94-2.06-.94 2.06-2.06.94z\"/><path d=\"M17.41 7.96l-1.37-1.37c-.4-.4-.92-.59-1.43-.59-.52 0-1.04.2-1.43.59L10.3 9.45l-7.72 7.72c-.78.78-.78 2.05 0 2.83L4 21.41c.39.39.9.59 1.41.59.51 0 1.02-.2 1.41-.59l7.78-7.78 2.81-2.81c.8-.78.8-2.07 0-2.86zM5.41 20L4 18.59l7.72-7.72 1.47 1.35L5.41 20z\"/>\n",
              "  </svg>\n",
              "      </button>\n",
              "\n",
              "\n",
              "\n",
              "    <div id=\"df-58d4458f-8cc5-4467-8934-f1fa9c5d9ab7\">\n",
              "      <button class=\"colab-df-quickchart\" onclick=\"quickchart('df-58d4458f-8cc5-4467-8934-f1fa9c5d9ab7')\"\n",
              "              title=\"Suggest charts.\"\n",
              "              style=\"display:none;\">\n",
              "\n",
              "<svg xmlns=\"http://www.w3.org/2000/svg\" height=\"24px\"viewBox=\"0 0 24 24\"\n",
              "     width=\"24px\">\n",
              "    <g>\n",
              "        <path d=\"M19 3H5c-1.1 0-2 .9-2 2v14c0 1.1.9 2 2 2h14c1.1 0 2-.9 2-2V5c0-1.1-.9-2-2-2zM9 17H7v-7h2v7zm4 0h-2V7h2v10zm4 0h-2v-4h2v4z\"/>\n",
              "    </g>\n",
              "</svg>\n",
              "      </button>\n",
              "    </div>\n",
              "\n",
              "<style>\n",
              "  .colab-df-quickchart {\n",
              "    background-color: #E8F0FE;\n",
              "    border: none;\n",
              "    border-radius: 50%;\n",
              "    cursor: pointer;\n",
              "    display: none;\n",
              "    fill: #1967D2;\n",
              "    height: 32px;\n",
              "    padding: 0 0 0 0;\n",
              "    width: 32px;\n",
              "  }\n",
              "\n",
              "  .colab-df-quickchart:hover {\n",
              "    background-color: #E2EBFA;\n",
              "    box-shadow: 0px 1px 2px rgba(60, 64, 67, 0.3), 0px 1px 3px 1px rgba(60, 64, 67, 0.15);\n",
              "    fill: #174EA6;\n",
              "  }\n",
              "\n",
              "  [theme=dark] .colab-df-quickchart {\n",
              "    background-color: #3B4455;\n",
              "    fill: #D2E3FC;\n",
              "  }\n",
              "\n",
              "  [theme=dark] .colab-df-quickchart:hover {\n",
              "    background-color: #434B5C;\n",
              "    box-shadow: 0px 1px 3px 1px rgba(0, 0, 0, 0.15);\n",
              "    filter: drop-shadow(0px 1px 2px rgba(0, 0, 0, 0.3));\n",
              "    fill: #FFFFFF;\n",
              "  }\n",
              "</style>\n",
              "\n",
              "    <script>\n",
              "      async function quickchart(key) {\n",
              "        const containerElement = document.querySelector('#' + key);\n",
              "        const charts = await google.colab.kernel.invokeFunction(\n",
              "            'suggestCharts', [key], {});\n",
              "      }\n",
              "    </script>\n",
              "\n",
              "      <script>\n",
              "\n",
              "function displayQuickchartButton(domScope) {\n",
              "  let quickchartButtonEl =\n",
              "    domScope.querySelector('#df-58d4458f-8cc5-4467-8934-f1fa9c5d9ab7 button.colab-df-quickchart');\n",
              "  quickchartButtonEl.style.display =\n",
              "    google.colab.kernel.accessAllowed ? 'block' : 'none';\n",
              "}\n",
              "\n",
              "        displayQuickchartButton(document);\n",
              "      </script>\n",
              "      <style>\n",
              "    .colab-df-container {\n",
              "      display:flex;\n",
              "      flex-wrap:wrap;\n",
              "      gap: 12px;\n",
              "    }\n",
              "\n",
              "    .colab-df-convert {\n",
              "      background-color: #E8F0FE;\n",
              "      border: none;\n",
              "      border-radius: 50%;\n",
              "      cursor: pointer;\n",
              "      display: none;\n",
              "      fill: #1967D2;\n",
              "      height: 32px;\n",
              "      padding: 0 0 0 0;\n",
              "      width: 32px;\n",
              "    }\n",
              "\n",
              "    .colab-df-convert:hover {\n",
              "      background-color: #E2EBFA;\n",
              "      box-shadow: 0px 1px 2px rgba(60, 64, 67, 0.3), 0px 1px 3px 1px rgba(60, 64, 67, 0.15);\n",
              "      fill: #174EA6;\n",
              "    }\n",
              "\n",
              "    [theme=dark] .colab-df-convert {\n",
              "      background-color: #3B4455;\n",
              "      fill: #D2E3FC;\n",
              "    }\n",
              "\n",
              "    [theme=dark] .colab-df-convert:hover {\n",
              "      background-color: #434B5C;\n",
              "      box-shadow: 0px 1px 3px 1px rgba(0, 0, 0, 0.15);\n",
              "      filter: drop-shadow(0px 1px 2px rgba(0, 0, 0, 0.3));\n",
              "      fill: #FFFFFF;\n",
              "    }\n",
              "  </style>\n",
              "\n",
              "      <script>\n",
              "        const buttonEl =\n",
              "          document.querySelector('#df-83f7a430-2add-4d28-9e72-d0bda1ea2645 button.colab-df-convert');\n",
              "        buttonEl.style.display =\n",
              "          google.colab.kernel.accessAllowed ? 'block' : 'none';\n",
              "\n",
              "        async function convertToInteractive(key) {\n",
              "          const element = document.querySelector('#df-83f7a430-2add-4d28-9e72-d0bda1ea2645');\n",
              "          const dataTable =\n",
              "            await google.colab.kernel.invokeFunction('convertToInteractive',\n",
              "                                                     [key], {});\n",
              "          if (!dataTable) return;\n",
              "\n",
              "          const docLinkHtml = 'Like what you see? Visit the ' +\n",
              "            '<a target=\"_blank\" href=https://colab.research.google.com/notebooks/data_table.ipynb>data table notebook</a>'\n",
              "            + ' to learn more about interactive tables.';\n",
              "          element.innerHTML = '';\n",
              "          dataTable['output_type'] = 'display_data';\n",
              "          await google.colab.output.renderOutput(dataTable, element);\n",
              "          const docLink = document.createElement('div');\n",
              "          docLink.innerHTML = docLinkHtml;\n",
              "          element.appendChild(docLink);\n",
              "        }\n",
              "      </script>\n",
              "    </div>\n",
              "  </div>\n"
            ]
          },
          "metadata": {},
          "execution_count": 171
        }
      ],
      "source": [
        "# Lấy ra giá trị ratings và in ra cột count\n",
        "# Tạo ra cột num_ratings và lấy giá trị từ count số lượng đánh giá\n",
        "dataset['num_ratings'] = dataset['ratings'].copy(deep=True)\n",
        "# use summation as a statistic of all ratings\n",
        "def num_ratings(row):\n",
        "    counts = []\n",
        "    for rate in row:\n",
        "        count = int(list(rate.values())[0])\n",
        "        counts.append(count)\n",
        "    return sum(counts)\n",
        "\n",
        "dataset['num_ratings'] = dataset['num_ratings'].apply(num_ratings)\n",
        "dataset[['ratings', 'num_ratings']].head(10)"
      ]
    }
  ],
  "metadata": {
    "kernelspec": {
      "display_name": "Python 3",
      "language": "python",
      "name": "python3"
    },
    "language_info": {
      "codemirror_mode": {
        "name": "ipython",
        "version": 3
      },
      "file_extension": ".py",
      "mimetype": "text/x-python",
      "name": "python",
      "nbconvert_exporter": "python",
      "pygments_lexer": "ipython3",
      "version": "3.7.4"
    },
    "colab": {
      "provenance": []
    }
  },
  "nbformat": 4,
  "nbformat_minor": 0
}