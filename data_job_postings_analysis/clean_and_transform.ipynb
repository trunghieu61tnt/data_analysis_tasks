{
  "nbformat": 4,
  "nbformat_minor": 0,
  "metadata": {
    "colab": {
      "provenance": []
    },
    "kernelspec": {
      "name": "python3",
      "display_name": "Python 3"
    },
    "language_info": {
      "name": "python"
    }
  },
  "cells": [
    {
      "cell_type": "code",
      "execution_count": null,
      "metadata": {
        "id": "7K2htKjZGV3S"
      },
      "outputs": [],
      "source": [
        "import numpy as np\n",
        "import pandas as pd"
      ]
    },
    {
      "cell_type": "code",
      "source": [
        "data = pd.read_csv('job_postings.csv')"
      ],
      "metadata": {
        "id": "NT-DuFbaG3r-"
      },
      "execution_count": null,
      "outputs": []
    },
    {
      "cell_type": "code",
      "source": [
        "data"
      ],
      "metadata": {
        "id": "gTFH_EiNMFaD"
      },
      "execution_count": null,
      "outputs": []
    },
    {
      "cell_type": "code",
      "source": [
        "data.columns"
      ],
      "metadata": {
        "colab": {
          "base_uri": "https://localhost:8080/"
        },
        "id": "JeT9-9MdHH2e",
        "outputId": "1154778a-0263-459c-9859-e62392adc0f9"
      },
      "execution_count": null,
      "outputs": [
        {
          "output_type": "execute_result",
          "data": {
            "text/plain": [
              "Index(['Unnamed: 0', 'Job Posting ID', 'Job Posting Date', 'Job Title',\n",
              "       'Job Title Full', 'Job Title Additional Info', 'Job Position Type',\n",
              "       'Job Position Level', 'Years of Experience', 'Job Skills',\n",
              "       'Job Location', 'Minimum Pay', 'Maximum Pay', 'Pay Rate',\n",
              "       'Number of Applicants', 'Company Name', 'Company Industry',\n",
              "       'Company Size'],\n",
              "      dtype='object')"
            ]
          },
          "metadata": {},
          "execution_count": 5
        }
      ]
    },
    {
      "cell_type": "code",
      "source": [
        "drop_list = ['Unnamed: 0', 'Job Posting ID']"
      ],
      "metadata": {
        "id": "7oM2IkMpHYUx"
      },
      "execution_count": null,
      "outputs": []
    },
    {
      "cell_type": "code",
      "source": [
        "data.info()"
      ],
      "metadata": {
        "colab": {
          "base_uri": "https://localhost:8080/"
        },
        "id": "ApeLQvmkH135",
        "outputId": "f7e4a101-e34e-48e3-9cec-1b7a927ebca8"
      },
      "execution_count": null,
      "outputs": [
        {
          "output_type": "stream",
          "name": "stdout",
          "text": [
            "<class 'pandas.core.frame.DataFrame'>\n",
            "RangeIndex: 25114 entries, 0 to 25113\n",
            "Data columns (total 16 columns):\n",
            " #   Column                     Non-Null Count  Dtype  \n",
            "---  ------                     --------------  -----  \n",
            " 0   Job Posting Date           25114 non-null  object \n",
            " 1   Job Title                  25114 non-null  object \n",
            " 2   Job Title Full             25114 non-null  object \n",
            " 3   Job Title Additional Info  8187 non-null   object \n",
            " 4   Job Position Type          25114 non-null  object \n",
            " 5   Job Position Level         25114 non-null  object \n",
            " 6   Years of Experience        25114 non-null  int64  \n",
            " 7   Job Skills                 25114 non-null  object \n",
            " 8   Job Location               25114 non-null  object \n",
            " 9   Minimum Pay                1812 non-null   float64\n",
            " 10  Maximum Pay                1812 non-null   float64\n",
            " 11  Pay Rate                   1812 non-null   object \n",
            " 12  Number of Applicants       17529 non-null  float64\n",
            " 13  Company Name               25053 non-null  object \n",
            " 14  Company Industry           24895 non-null  object \n",
            " 15  Company Size               24892 non-null  object \n",
            "dtypes: float64(3), int64(1), object(12)\n",
            "memory usage: 3.1+ MB\n"
          ]
        }
      ]
    },
    {
      "cell_type": "code",
      "source": [
        "drop_list += ['Job Title Additional Info', 'Minimum Pay', 'Maximum Pay', 'Pay Rate']\n",
        "data.drop(drop_list, axis=1, inplace=True)"
      ],
      "metadata": {
        "id": "-irtZWMWH9VF"
      },
      "execution_count": null,
      "outputs": []
    },
    {
      "cell_type": "code",
      "source": [
        "data.rename(lambda x: x.replace(' ', '_').lower(), axis=1, inplace=True)\n",
        "data.rename(lambda x: x.replace('job_', ''), axis=1, inplace=True)\n",
        "data.rename({'years_of_experience': 'yoe'}, axis=1, inplace=True)"
      ],
      "metadata": {
        "id": "6260DZRyK_Tk"
      },
      "execution_count": null,
      "outputs": []
    },
    {
      "cell_type": "code",
      "source": [
        "data.info()"
      ],
      "metadata": {
        "colab": {
          "base_uri": "https://localhost:8080/"
        },
        "id": "0A7V6lTGMe9U",
        "outputId": "3aa5191e-a407-4f86-bf18-8af128c21c51"
      },
      "execution_count": null,
      "outputs": [
        {
          "output_type": "stream",
          "name": "stdout",
          "text": [
            "<class 'pandas.core.frame.DataFrame'>\n",
            "RangeIndex: 25114 entries, 0 to 25113\n",
            "Data columns (total 12 columns):\n",
            " #   Column                Non-Null Count  Dtype  \n",
            "---  ------                --------------  -----  \n",
            " 0   posting_date          25114 non-null  object \n",
            " 1   title                 25114 non-null  object \n",
            " 2   title_full            25114 non-null  object \n",
            " 3   position_type         25114 non-null  object \n",
            " 4   position_level        25114 non-null  object \n",
            " 5   yoe                   25114 non-null  int64  \n",
            " 6   skills                25114 non-null  object \n",
            " 7   location              25114 non-null  object \n",
            " 8   number_of_applicants  17529 non-null  float64\n",
            " 9   company_name          25053 non-null  object \n",
            " 10  company_industry      24895 non-null  object \n",
            " 11  company_size          24892 non-null  object \n",
            "dtypes: float64(1), int64(1), object(10)\n",
            "memory usage: 2.3+ MB\n"
          ]
        }
      ]
    },
    {
      "cell_type": "code",
      "source": [
        "data['posting_date'] = pd.to_datetime(data['posting_date'])\n",
        "data['posting_date'].sort_values()"
      ],
      "metadata": {
        "colab": {
          "base_uri": "https://localhost:8080/"
        },
        "id": "QOhLs2VmMzQg",
        "outputId": "43c0edb7-a137-422e-eb04-3c5bfe66e97b"
      },
      "execution_count": null,
      "outputs": [
        {
          "output_type": "execute_result",
          "data": {
            "text/plain": [
              "0       2017-01-01\n",
              "1       2017-01-01\n",
              "2       2017-01-01\n",
              "3       2017-01-01\n",
              "4       2017-01-01\n",
              "           ...    \n",
              "25099   2021-12-31\n",
              "25098   2021-12-31\n",
              "25112   2021-12-31\n",
              "25104   2021-12-31\n",
              "25113   2021-12-31\n",
              "Name: posting_date, Length: 25114, dtype: datetime64[ns]"
            ]
          },
          "metadata": {},
          "execution_count": 21
        }
      ]
    },
    {
      "cell_type": "code",
      "source": [
        "data['title'].value_counts()"
      ],
      "metadata": {
        "colab": {
          "base_uri": "https://localhost:8080/"
        },
        "id": "Uy_nejyLNXK4",
        "outputId": "8431b5cd-d85b-4e1e-8df2-c20fe0334be7"
      },
      "execution_count": null,
      "outputs": [
        {
          "output_type": "execute_result",
          "data": {
            "text/plain": [
              "Software Engineer                  8112\n",
              "Data Engineer                      3462\n",
              "Business Analyst                   2009\n",
              "Data Scientist                     1999\n",
              "Developer                          1502\n",
              "Data Analyst                       1485\n",
              "Ux Researcher                       897\n",
              "Software Development Engineer       506\n",
              "Product Manager                     481\n",
              "Senior Analyst                      463\n",
              "Software Developer                  459\n",
              "Systems Analyst                     416\n",
              "Machine Learning Engineer           283\n",
              "Financial Analyst                   237\n",
              "Operations Analyst                  234\n",
              "Data Architect                      215\n",
              "Business Intelligence Analyst       184\n",
              "Analytics Engineer                  135\n",
              "User Experience Researcher          132\n",
              "Product Analyst                     126\n",
              "Marketing Analyst                   126\n",
              "Sales Engineer                      102\n",
              "Quality Assurance Analyst           101\n",
              "Product Owner                       100\n",
              "Business System Analyst              98\n",
              "Compensation Analyst                 85\n",
              "System Engineer                      81\n",
              "Solutions Engineer                   81\n",
              "Research Scientist                   80\n",
              "Quality Engineer                     74\n",
              "Research Analyst                     60\n",
              "Operations Manager                   60\n",
              "Data Infrastructure Engineer         58\n",
              "Database Engineer                    56\n",
              "Business Process Analyst             56\n",
              "Digital Analyst                      50\n",
              "Compliance Analyst                   49\n",
              "Devops Engineer                      43\n",
              "Business Consultant                  39\n",
              "Pricing Analyst                      39\n",
              "Financial Planning Analyst           38\n",
              "Data Warehouse Engineer              36\n",
              "Full Stack Engineer                  34\n",
              "Senior Compensation Consultant       30\n",
              "Analytics Manager                    29\n",
              "Network Analyst                      25\n",
              "Data Quality Analyst                 24\n",
              "Compliance Engineer                  23\n",
              "Data Science Manager                 23\n",
              "Credit Analyst                       21\n",
              "Sales Analyst                        21\n",
              "Business Intelligence Developer      19\n",
              "Data Science Engineer                16\n",
              "Name: title, dtype: int64"
            ]
          },
          "metadata": {},
          "execution_count": 26
        }
      ]
    },
    {
      "cell_type": "code",
      "source": [
        "filter = data['title'].str.contains('Data')\n",
        "data = data[filter]"
      ],
      "metadata": {
        "id": "IDdFs7BiNkht"
      },
      "execution_count": null,
      "outputs": []
    },
    {
      "cell_type": "code",
      "source": [
        "data['title'].value_counts()"
      ],
      "metadata": {
        "colab": {
          "base_uri": "https://localhost:8080/"
        },
        "id": "CwNt2K0UOmYw",
        "outputId": "d3ff0dbf-65db-43a3-84b5-ab40c242b622"
      },
      "execution_count": null,
      "outputs": [
        {
          "output_type": "execute_result",
          "data": {
            "text/plain": [
              "Data Engineer                   3462\n",
              "Data Scientist                  1999\n",
              "Data Analyst                    1485\n",
              "Data Architect                   215\n",
              "Data Infrastructure Engineer      58\n",
              "Database Engineer                 56\n",
              "Data Warehouse Engineer           36\n",
              "Data Quality Analyst              24\n",
              "Data Science Manager              23\n",
              "Data Science Engineer             16\n",
              "Name: title, dtype: int64"
            ]
          },
          "metadata": {},
          "execution_count": 35
        }
      ]
    },
    {
      "cell_type": "code",
      "source": [
        "replace_dict = {'Infrastructure ': '', 'base Engineer': ' Engineer', 'Warehouse ': '',\n",
        "                'Quality ': '', 'Science Manager': 'Scientist', 'Science Engineer': 'Scientist'}\n",
        "\n",
        "for old, new in replace_dict.items():\n",
        "    data['title'] = data['title'].str.replace(old, new)"
      ],
      "metadata": {
        "id": "h48-wChEO4pP"
      },
      "execution_count": null,
      "outputs": []
    },
    {
      "cell_type": "code",
      "source": [
        "data['title'].value_counts()"
      ],
      "metadata": {
        "colab": {
          "base_uri": "https://localhost:8080/"
        },
        "id": "rcrdsPvhQu6M",
        "outputId": "0baa1438-366d-4c84-980c-6f271a5e281a"
      },
      "execution_count": null,
      "outputs": [
        {
          "output_type": "execute_result",
          "data": {
            "text/plain": [
              "Data Engineer     3612\n",
              "Data Scientist    2038\n",
              "Data Analyst      1509\n",
              "Data Architect     215\n",
              "Name: title, dtype: int64"
            ]
          },
          "metadata": {},
          "execution_count": 24
        }
      ]
    },
    {
      "cell_type": "code",
      "source": [
        "subset = data[['title', 'title_full']].copy()\n",
        "subset = subset.query('title != title_full')\n",
        "subset"
      ],
      "metadata": {
        "colab": {
          "base_uri": "https://localhost:8080/",
          "height": 423
        },
        "id": "rkBGfbNnQ71I",
        "outputId": "2f6b2dd6-2af6-41b2-af4a-00379359e261"
      },
      "execution_count": null,
      "outputs": [
        {
          "output_type": "execute_result",
          "data": {
            "text/plain": [
              "                title                                     title_full\n",
              "1       Data Engineer                            Azure Data Engineer\n",
              "5       Data Engineer                              Aws Data Engineer\n",
              "7        Data Analyst                  Healthcare Payer Data Analyst\n",
              "17       Data Analyst                          Business Data Analyst\n",
              "31       Data Analyst                                Hr Data Analyst\n",
              "...               ...                                            ...\n",
              "25052   Data Engineer                           Data Engineer Senior\n",
              "25077    Data Analyst  Data Analyst- Gdit National Assistance Center\n",
              "25079   Data Engineer                            Graph Data Engineer\n",
              "25092  Data Scientist                       Principal Data Scientist\n",
              "25112  Data Architect         Remote Job Opportunity: Data Architect\n",
              "\n",
              "[2640 rows x 2 columns]"
            ],
            "text/html": [
              "\n",
              "  <div id=\"df-e642ca52-0786-446e-9a97-2cf87a0913d6\" class=\"colab-df-container\">\n",
              "    <div>\n",
              "<style scoped>\n",
              "    .dataframe tbody tr th:only-of-type {\n",
              "        vertical-align: middle;\n",
              "    }\n",
              "\n",
              "    .dataframe tbody tr th {\n",
              "        vertical-align: top;\n",
              "    }\n",
              "\n",
              "    .dataframe thead th {\n",
              "        text-align: right;\n",
              "    }\n",
              "</style>\n",
              "<table border=\"1\" class=\"dataframe\">\n",
              "  <thead>\n",
              "    <tr style=\"text-align: right;\">\n",
              "      <th></th>\n",
              "      <th>title</th>\n",
              "      <th>title_full</th>\n",
              "    </tr>\n",
              "  </thead>\n",
              "  <tbody>\n",
              "    <tr>\n",
              "      <th>1</th>\n",
              "      <td>Data Engineer</td>\n",
              "      <td>Azure Data Engineer</td>\n",
              "    </tr>\n",
              "    <tr>\n",
              "      <th>5</th>\n",
              "      <td>Data Engineer</td>\n",
              "      <td>Aws Data Engineer</td>\n",
              "    </tr>\n",
              "    <tr>\n",
              "      <th>7</th>\n",
              "      <td>Data Analyst</td>\n",
              "      <td>Healthcare Payer Data Analyst</td>\n",
              "    </tr>\n",
              "    <tr>\n",
              "      <th>17</th>\n",
              "      <td>Data Analyst</td>\n",
              "      <td>Business Data Analyst</td>\n",
              "    </tr>\n",
              "    <tr>\n",
              "      <th>31</th>\n",
              "      <td>Data Analyst</td>\n",
              "      <td>Hr Data Analyst</td>\n",
              "    </tr>\n",
              "    <tr>\n",
              "      <th>...</th>\n",
              "      <td>...</td>\n",
              "      <td>...</td>\n",
              "    </tr>\n",
              "    <tr>\n",
              "      <th>25052</th>\n",
              "      <td>Data Engineer</td>\n",
              "      <td>Data Engineer Senior</td>\n",
              "    </tr>\n",
              "    <tr>\n",
              "      <th>25077</th>\n",
              "      <td>Data Analyst</td>\n",
              "      <td>Data Analyst- Gdit National Assistance Center</td>\n",
              "    </tr>\n",
              "    <tr>\n",
              "      <th>25079</th>\n",
              "      <td>Data Engineer</td>\n",
              "      <td>Graph Data Engineer</td>\n",
              "    </tr>\n",
              "    <tr>\n",
              "      <th>25092</th>\n",
              "      <td>Data Scientist</td>\n",
              "      <td>Principal Data Scientist</td>\n",
              "    </tr>\n",
              "    <tr>\n",
              "      <th>25112</th>\n",
              "      <td>Data Architect</td>\n",
              "      <td>Remote Job Opportunity: Data Architect</td>\n",
              "    </tr>\n",
              "  </tbody>\n",
              "</table>\n",
              "<p>2640 rows × 2 columns</p>\n",
              "</div>\n",
              "    <div class=\"colab-df-buttons\">\n",
              "\n",
              "  <div class=\"colab-df-container\">\n",
              "    <button class=\"colab-df-convert\" onclick=\"convertToInteractive('df-e642ca52-0786-446e-9a97-2cf87a0913d6')\"\n",
              "            title=\"Convert this dataframe to an interactive table.\"\n",
              "            style=\"display:none;\">\n",
              "\n",
              "  <svg xmlns=\"http://www.w3.org/2000/svg\" height=\"24px\" viewBox=\"0 -960 960 960\">\n",
              "    <path d=\"M120-120v-720h720v720H120Zm60-500h600v-160H180v160Zm220 220h160v-160H400v160Zm0 220h160v-160H400v160ZM180-400h160v-160H180v160Zm440 0h160v-160H620v160ZM180-180h160v-160H180v160Zm440 0h160v-160H620v160Z\"/>\n",
              "  </svg>\n",
              "    </button>\n",
              "\n",
              "  <style>\n",
              "    .colab-df-container {\n",
              "      display:flex;\n",
              "      gap: 12px;\n",
              "    }\n",
              "\n",
              "    .colab-df-convert {\n",
              "      background-color: #E8F0FE;\n",
              "      border: none;\n",
              "      border-radius: 50%;\n",
              "      cursor: pointer;\n",
              "      display: none;\n",
              "      fill: #1967D2;\n",
              "      height: 32px;\n",
              "      padding: 0 0 0 0;\n",
              "      width: 32px;\n",
              "    }\n",
              "\n",
              "    .colab-df-convert:hover {\n",
              "      background-color: #E2EBFA;\n",
              "      box-shadow: 0px 1px 2px rgba(60, 64, 67, 0.3), 0px 1px 3px 1px rgba(60, 64, 67, 0.15);\n",
              "      fill: #174EA6;\n",
              "    }\n",
              "\n",
              "    .colab-df-buttons div {\n",
              "      margin-bottom: 4px;\n",
              "    }\n",
              "\n",
              "    [theme=dark] .colab-df-convert {\n",
              "      background-color: #3B4455;\n",
              "      fill: #D2E3FC;\n",
              "    }\n",
              "\n",
              "    [theme=dark] .colab-df-convert:hover {\n",
              "      background-color: #434B5C;\n",
              "      box-shadow: 0px 1px 3px 1px rgba(0, 0, 0, 0.15);\n",
              "      filter: drop-shadow(0px 1px 2px rgba(0, 0, 0, 0.3));\n",
              "      fill: #FFFFFF;\n",
              "    }\n",
              "  </style>\n",
              "\n",
              "    <script>\n",
              "      const buttonEl =\n",
              "        document.querySelector('#df-e642ca52-0786-446e-9a97-2cf87a0913d6 button.colab-df-convert');\n",
              "      buttonEl.style.display =\n",
              "        google.colab.kernel.accessAllowed ? 'block' : 'none';\n",
              "\n",
              "      async function convertToInteractive(key) {\n",
              "        const element = document.querySelector('#df-e642ca52-0786-446e-9a97-2cf87a0913d6');\n",
              "        const dataTable =\n",
              "          await google.colab.kernel.invokeFunction('convertToInteractive',\n",
              "                                                    [key], {});\n",
              "        if (!dataTable) return;\n",
              "\n",
              "        const docLinkHtml = 'Like what you see? Visit the ' +\n",
              "          '<a target=\"_blank\" href=https://colab.research.google.com/notebooks/data_table.ipynb>data table notebook</a>'\n",
              "          + ' to learn more about interactive tables.';\n",
              "        element.innerHTML = '';\n",
              "        dataTable['output_type'] = 'display_data';\n",
              "        await google.colab.output.renderOutput(dataTable, element);\n",
              "        const docLink = document.createElement('div');\n",
              "        docLink.innerHTML = docLinkHtml;\n",
              "        element.appendChild(docLink);\n",
              "      }\n",
              "    </script>\n",
              "  </div>\n",
              "\n",
              "\n",
              "<div id=\"df-199d53ac-c28f-452a-971e-d3b2cdf7fc12\">\n",
              "  <button class=\"colab-df-quickchart\" onclick=\"quickchart('df-199d53ac-c28f-452a-971e-d3b2cdf7fc12')\"\n",
              "            title=\"Suggest charts.\"\n",
              "            style=\"display:none;\">\n",
              "\n",
              "<svg xmlns=\"http://www.w3.org/2000/svg\" height=\"24px\"viewBox=\"0 0 24 24\"\n",
              "     width=\"24px\">\n",
              "    <g>\n",
              "        <path d=\"M19 3H5c-1.1 0-2 .9-2 2v14c0 1.1.9 2 2 2h14c1.1 0 2-.9 2-2V5c0-1.1-.9-2-2-2zM9 17H7v-7h2v7zm4 0h-2V7h2v10zm4 0h-2v-4h2v4z\"/>\n",
              "    </g>\n",
              "</svg>\n",
              "  </button>\n",
              "\n",
              "<style>\n",
              "  .colab-df-quickchart {\n",
              "      --bg-color: #E8F0FE;\n",
              "      --fill-color: #1967D2;\n",
              "      --hover-bg-color: #E2EBFA;\n",
              "      --hover-fill-color: #174EA6;\n",
              "      --disabled-fill-color: #AAA;\n",
              "      --disabled-bg-color: #DDD;\n",
              "  }\n",
              "\n",
              "  [theme=dark] .colab-df-quickchart {\n",
              "      --bg-color: #3B4455;\n",
              "      --fill-color: #D2E3FC;\n",
              "      --hover-bg-color: #434B5C;\n",
              "      --hover-fill-color: #FFFFFF;\n",
              "      --disabled-bg-color: #3B4455;\n",
              "      --disabled-fill-color: #666;\n",
              "  }\n",
              "\n",
              "  .colab-df-quickchart {\n",
              "    background-color: var(--bg-color);\n",
              "    border: none;\n",
              "    border-radius: 50%;\n",
              "    cursor: pointer;\n",
              "    display: none;\n",
              "    fill: var(--fill-color);\n",
              "    height: 32px;\n",
              "    padding: 0;\n",
              "    width: 32px;\n",
              "  }\n",
              "\n",
              "  .colab-df-quickchart:hover {\n",
              "    background-color: var(--hover-bg-color);\n",
              "    box-shadow: 0 1px 2px rgba(60, 64, 67, 0.3), 0 1px 3px 1px rgba(60, 64, 67, 0.15);\n",
              "    fill: var(--button-hover-fill-color);\n",
              "  }\n",
              "\n",
              "  .colab-df-quickchart-complete:disabled,\n",
              "  .colab-df-quickchart-complete:disabled:hover {\n",
              "    background-color: var(--disabled-bg-color);\n",
              "    fill: var(--disabled-fill-color);\n",
              "    box-shadow: none;\n",
              "  }\n",
              "\n",
              "  .colab-df-spinner {\n",
              "    border: 2px solid var(--fill-color);\n",
              "    border-color: transparent;\n",
              "    border-bottom-color: var(--fill-color);\n",
              "    animation:\n",
              "      spin 1s steps(1) infinite;\n",
              "  }\n",
              "\n",
              "  @keyframes spin {\n",
              "    0% {\n",
              "      border-color: transparent;\n",
              "      border-bottom-color: var(--fill-color);\n",
              "      border-left-color: var(--fill-color);\n",
              "    }\n",
              "    20% {\n",
              "      border-color: transparent;\n",
              "      border-left-color: var(--fill-color);\n",
              "      border-top-color: var(--fill-color);\n",
              "    }\n",
              "    30% {\n",
              "      border-color: transparent;\n",
              "      border-left-color: var(--fill-color);\n",
              "      border-top-color: var(--fill-color);\n",
              "      border-right-color: var(--fill-color);\n",
              "    }\n",
              "    40% {\n",
              "      border-color: transparent;\n",
              "      border-right-color: var(--fill-color);\n",
              "      border-top-color: var(--fill-color);\n",
              "    }\n",
              "    60% {\n",
              "      border-color: transparent;\n",
              "      border-right-color: var(--fill-color);\n",
              "    }\n",
              "    80% {\n",
              "      border-color: transparent;\n",
              "      border-right-color: var(--fill-color);\n",
              "      border-bottom-color: var(--fill-color);\n",
              "    }\n",
              "    90% {\n",
              "      border-color: transparent;\n",
              "      border-bottom-color: var(--fill-color);\n",
              "    }\n",
              "  }\n",
              "</style>\n",
              "\n",
              "  <script>\n",
              "    async function quickchart(key) {\n",
              "      const quickchartButtonEl =\n",
              "        document.querySelector('#' + key + ' button');\n",
              "      quickchartButtonEl.disabled = true;  // To prevent multiple clicks.\n",
              "      quickchartButtonEl.classList.add('colab-df-spinner');\n",
              "      try {\n",
              "        const charts = await google.colab.kernel.invokeFunction(\n",
              "            'suggestCharts', [key], {});\n",
              "      } catch (error) {\n",
              "        console.error('Error during call to suggestCharts:', error);\n",
              "      }\n",
              "      quickchartButtonEl.classList.remove('colab-df-spinner');\n",
              "      quickchartButtonEl.classList.add('colab-df-quickchart-complete');\n",
              "    }\n",
              "    (() => {\n",
              "      let quickchartButtonEl =\n",
              "        document.querySelector('#df-199d53ac-c28f-452a-971e-d3b2cdf7fc12 button');\n",
              "      quickchartButtonEl.style.display =\n",
              "        google.colab.kernel.accessAllowed ? 'block' : 'none';\n",
              "    })();\n",
              "  </script>\n",
              "</div>\n",
              "    </div>\n",
              "  </div>\n"
            ]
          },
          "metadata": {},
          "execution_count": 45
        }
      ]
    },
    {
      "cell_type": "code",
      "source": [
        "data.drop('title_full', axis=1, inplace=True)"
      ],
      "metadata": {
        "id": "moMkLYGMSRdv"
      },
      "execution_count": null,
      "outputs": []
    },
    {
      "cell_type": "code",
      "source": [
        "data['position_type'].value_counts()"
      ],
      "metadata": {
        "colab": {
          "base_uri": "https://localhost:8080/"
        },
        "id": "L0DSLcvZSlf0",
        "outputId": "3cba8af4-d54f-44f5-8737-6fd57abedaea"
      },
      "execution_count": null,
      "outputs": [
        {
          "output_type": "execute_result",
          "data": {
            "text/plain": [
              "Full-time     4913\n",
              "Contract      2429\n",
              "Part-time       12\n",
              "Internship      11\n",
              "Temporary        9\n",
              "Name: position_type, dtype: int64"
            ]
          },
          "metadata": {},
          "execution_count": 51
        }
      ]
    },
    {
      "cell_type": "code",
      "source": [
        "data['position_level'].value_counts()"
      ],
      "metadata": {
        "colab": {
          "base_uri": "https://localhost:8080/"
        },
        "id": "kw3fadTiSt_t",
        "outputId": "863c4526-f11c-45e0-e747-9b560a7df160"
      },
      "execution_count": null,
      "outputs": [
        {
          "output_type": "execute_result",
          "data": {
            "text/plain": [
              "Mid-Senior level    4653\n",
              "Associate           1492\n",
              "Entry level         1146\n",
              "Director              56\n",
              "Internship            16\n",
              "Executive             11\n",
              "Name: position_level, dtype: int64"
            ]
          },
          "metadata": {},
          "execution_count": 52
        }
      ]
    },
    {
      "cell_type": "code",
      "source": [
        "data['yoe'].sort_values()"
      ],
      "metadata": {
        "colab": {
          "base_uri": "https://localhost:8080/"
        },
        "id": "EACnCsZWS0EI",
        "outputId": "b48bcde4-1946-46d3-e1d8-47eae4c2dc77"
      },
      "execution_count": null,
      "outputs": [
        {
          "output_type": "execute_result",
          "data": {
            "text/plain": [
              "23044     0\n",
              "2344      0\n",
              "7011      0\n",
              "1681      0\n",
              "20338     0\n",
              "         ..\n",
              "20878    15\n",
              "9588     15\n",
              "10575    15\n",
              "4045     20\n",
              "24921    20\n",
              "Name: yoe, Length: 7374, dtype: int64"
            ]
          },
          "metadata": {},
          "execution_count": 53
        }
      ]
    },
    {
      "cell_type": "code",
      "source": [
        "data['skills'].head()"
      ],
      "metadata": {
        "colab": {
          "base_uri": "https://localhost:8080/"
        },
        "id": "01o58JWpS6DE",
        "outputId": "6d0ce363-2067-4ca7-a8ee-3831fbf671ed"
      },
      "execution_count": null,
      "outputs": [
        {
          "output_type": "execute_result",
          "data": {
            "text/plain": [
              "1     ['data_lake', 'cloud', 'python', 'spark', 'git...\n",
              "5     ['data_lake', 'cloud', 'data_lakes', 'python',...\n",
              "7     ['data_lake', 'database', 'python', 'hadoop', ...\n",
              "8     ['python', 'programming', 'etl', 'postgresql',...\n",
              "13    ['cloud', 'power_bi', 'python', 'gcp', 'progra...\n",
              "Name: skills, dtype: object"
            ]
          },
          "metadata": {},
          "execution_count": 54
        }
      ]
    },
    {
      "cell_type": "code",
      "source": [
        "data['location'].value_counts()"
      ],
      "metadata": {
        "colab": {
          "base_uri": "https://localhost:8080/"
        },
        "id": "aFa634P-TC5M",
        "outputId": "7c5dc7df-3c4f-4f02-f043-f397d4d7fd67"
      },
      "execution_count": null,
      "outputs": [
        {
          "output_type": "execute_result",
          "data": {
            "text/plain": [
              "United States           1482\n",
              "New York, NY             235\n",
              "San Francisco, CA        225\n",
              "Chicago, IL              142\n",
              "Seattle, WA              123\n",
              "                        ... \n",
              "Dexter, MI                 1\n",
              "Alamo, CA                  1\n",
              "America, AL                1\n",
              "Greater Asheville          1\n",
              "Plymouth Meeting, PA       1\n",
              "Name: location, Length: 695, dtype: int64"
            ]
          },
          "metadata": {},
          "execution_count": 55
        }
      ]
    },
    {
      "cell_type": "code",
      "source": [
        "data['company_industry'].value_counts()"
      ],
      "metadata": {
        "colab": {
          "base_uri": "https://localhost:8080/"
        },
        "id": "eQe9qx7hV7e4",
        "outputId": "f4303851-6f66-48ac-e623-1f9c84241af0"
      },
      "execution_count": null,
      "outputs": [
        {
          "output_type": "execute_result",
          "data": {
            "text/plain": [
              "Internet                             2233\n",
              "Staffing & Recruiting                1255\n",
              "Information Technology & Services    1246\n",
              "Computer Software                     776\n",
              "Financial Services                    296\n",
              "                                     ... \n",
              "Business Supplies & Equipment           1\n",
              "Events Services                         1\n",
              "Veterinary                              1\n",
              "Investment Management                   1\n",
              "International Trade & Development       1\n",
              "Name: company_industry, Length: 93, dtype: int64"
            ]
          },
          "metadata": {},
          "execution_count": 57
        }
      ]
    },
    {
      "cell_type": "code",
      "source": [
        "data['company_size'].value_counts()"
      ],
      "metadata": {
        "colab": {
          "base_uri": "https://localhost:8080/"
        },
        "id": "JeBslxcdW2Hr",
        "outputId": "e4964ee5-c609-4bb8-f7db-a1233b20a9be"
      },
      "execution_count": null,
      "outputs": [
        {
          "output_type": "execute_result",
          "data": {
            "text/plain": [
              "1,001-5,000 employees     3187\n",
              "51-200 employees          1064\n",
              "201-500 employees         1031\n",
              "10,001+ employees          611\n",
              "501-1,000 employees        548\n",
              "11-50 employees            468\n",
              "1-10 employees             222\n",
              "5,001-10,000 employees     164\n",
              "Name: company_size, dtype: int64"
            ]
          },
          "metadata": {},
          "execution_count": 58
        }
      ]
    },
    {
      "cell_type": "code",
      "source": [
        "data['company_size'] = data['company_size'].str.replace(' employees', '')"
      ],
      "metadata": {
        "id": "KTlUh2K7W7Wv"
      },
      "execution_count": null,
      "outputs": []
    },
    {
      "cell_type": "code",
      "source": [
        "job_info = data.copy()\n",
        "job_skills = data['skills'].copy()\n",
        "job_info.drop('skills', axis=1, inplace=True)"
      ],
      "metadata": {
        "id": "xKumcCzKXflX"
      },
      "execution_count": null,
      "outputs": []
    },
    {
      "cell_type": "code",
      "source": [
        "job_skills"
      ],
      "metadata": {
        "colab": {
          "base_uri": "https://localhost:8080/"
        },
        "id": "ydfI4UuzXwvC",
        "outputId": "e452801e-8615-4ba0-d36e-811a6ab7ad47"
      },
      "execution_count": null,
      "outputs": [
        {
          "output_type": "execute_result",
          "data": {
            "text/plain": [
              "1        ['data_lake', 'cloud', 'python', 'spark', 'git...\n",
              "5        ['data_lake', 'cloud', 'data_lakes', 'python',...\n",
              "7        ['data_lake', 'database', 'python', 'hadoop', ...\n",
              "8        ['python', 'programming', 'etl', 'postgresql',...\n",
              "13       ['cloud', 'power_bi', 'python', 'gcp', 'progra...\n",
              "                               ...                        \n",
              "25092    ['python', 'r', 'outlook', 'machine_learning',...\n",
              "25107    ['python', 'programming', 'aws', 'tableau', 'p...\n",
              "25109    ['python', 'hadoop', 'r', 'powerpoint', 'progr...\n",
              "25112    ['excel', 'database', 'ssis', 't-sql', 'ci/cd'...\n",
              "25113    ['numpy', 'warehousing', 'database', 'pandas',...\n",
              "Name: skills, Length: 7374, dtype: object"
            ]
          },
          "metadata": {},
          "execution_count": 64
        }
      ]
    },
    {
      "cell_type": "code",
      "source": [
        "job_info_backup = job_info.copy()\n",
        "job_skills_backup = job_skills.copy()\n",
        "# job_info = job_info_backup.copy()\n",
        "# job_skills = job_skills_backup.copy()"
      ],
      "metadata": {
        "id": "ZTWdQeS7pcS8"
      },
      "execution_count": null,
      "outputs": []
    },
    {
      "cell_type": "code",
      "source": [
        "job_skills = job_skills.apply(eval)\n",
        "job_skills = job_skills.reset_index()\n",
        "job_skills.rename({'index': 'job_id'}, axis=1, inplace=True)"
      ],
      "metadata": {
        "id": "FY-8txVUX9ko"
      },
      "execution_count": null,
      "outputs": []
    },
    {
      "cell_type": "code",
      "source": [
        "job_skills"
      ],
      "metadata": {
        "colab": {
          "base_uri": "https://localhost:8080/",
          "height": 423
        },
        "id": "UeCoTKGRY1ki",
        "outputId": "ae2581f5-19f0-4618-af3e-9c2ecdb8db69"
      },
      "execution_count": null,
      "outputs": [
        {
          "output_type": "execute_result",
          "data": {
            "text/plain": [
              "      job_id                                             skills\n",
              "0          1  [data_lake, cloud, python, spark, github, ware...\n",
              "1          5  [data_lake, cloud, data_lakes, python, hadoop,...\n",
              "2          7  [data_lake, database, python, hadoop, ibm, ora...\n",
              "3          8  [python, programming, etl, postgresql, linux, ...\n",
              "4         13  [cloud, power_bi, python, gcp, programming, aw...\n",
              "...      ...                                                ...\n",
              "7369   25092  [python, r, outlook, machine_learning, go, scala]\n",
              "7370   25107  [python, programming, aws, tableau, postgresql...\n",
              "7371   25109  [python, hadoop, r, powerpoint, programming, s...\n",
              "7372   25112  [excel, database, ssis, t-sql, ci/cd, coding, ...\n",
              "7373   25113  [numpy, warehousing, database, pandas, aws, my...\n",
              "\n",
              "[7374 rows x 2 columns]"
            ],
            "text/html": [
              "\n",
              "  <div id=\"df-dd5a4568-bca1-4144-af49-ddf508280a90\" class=\"colab-df-container\">\n",
              "    <div>\n",
              "<style scoped>\n",
              "    .dataframe tbody tr th:only-of-type {\n",
              "        vertical-align: middle;\n",
              "    }\n",
              "\n",
              "    .dataframe tbody tr th {\n",
              "        vertical-align: top;\n",
              "    }\n",
              "\n",
              "    .dataframe thead th {\n",
              "        text-align: right;\n",
              "    }\n",
              "</style>\n",
              "<table border=\"1\" class=\"dataframe\">\n",
              "  <thead>\n",
              "    <tr style=\"text-align: right;\">\n",
              "      <th></th>\n",
              "      <th>job_id</th>\n",
              "      <th>skills</th>\n",
              "    </tr>\n",
              "  </thead>\n",
              "  <tbody>\n",
              "    <tr>\n",
              "      <th>0</th>\n",
              "      <td>1</td>\n",
              "      <td>[data_lake, cloud, python, spark, github, ware...</td>\n",
              "    </tr>\n",
              "    <tr>\n",
              "      <th>1</th>\n",
              "      <td>5</td>\n",
              "      <td>[data_lake, cloud, data_lakes, python, hadoop,...</td>\n",
              "    </tr>\n",
              "    <tr>\n",
              "      <th>2</th>\n",
              "      <td>7</td>\n",
              "      <td>[data_lake, database, python, hadoop, ibm, ora...</td>\n",
              "    </tr>\n",
              "    <tr>\n",
              "      <th>3</th>\n",
              "      <td>8</td>\n",
              "      <td>[python, programming, etl, postgresql, linux, ...</td>\n",
              "    </tr>\n",
              "    <tr>\n",
              "      <th>4</th>\n",
              "      <td>13</td>\n",
              "      <td>[cloud, power_bi, python, gcp, programming, aw...</td>\n",
              "    </tr>\n",
              "    <tr>\n",
              "      <th>...</th>\n",
              "      <td>...</td>\n",
              "      <td>...</td>\n",
              "    </tr>\n",
              "    <tr>\n",
              "      <th>7369</th>\n",
              "      <td>25092</td>\n",
              "      <td>[python, r, outlook, machine_learning, go, scala]</td>\n",
              "    </tr>\n",
              "    <tr>\n",
              "      <th>7370</th>\n",
              "      <td>25107</td>\n",
              "      <td>[python, programming, aws, tableau, postgresql...</td>\n",
              "    </tr>\n",
              "    <tr>\n",
              "      <th>7371</th>\n",
              "      <td>25109</td>\n",
              "      <td>[python, hadoop, r, powerpoint, programming, s...</td>\n",
              "    </tr>\n",
              "    <tr>\n",
              "      <th>7372</th>\n",
              "      <td>25112</td>\n",
              "      <td>[excel, database, ssis, t-sql, ci/cd, coding, ...</td>\n",
              "    </tr>\n",
              "    <tr>\n",
              "      <th>7373</th>\n",
              "      <td>25113</td>\n",
              "      <td>[numpy, warehousing, database, pandas, aws, my...</td>\n",
              "    </tr>\n",
              "  </tbody>\n",
              "</table>\n",
              "<p>7374 rows × 2 columns</p>\n",
              "</div>\n",
              "    <div class=\"colab-df-buttons\">\n",
              "\n",
              "  <div class=\"colab-df-container\">\n",
              "    <button class=\"colab-df-convert\" onclick=\"convertToInteractive('df-dd5a4568-bca1-4144-af49-ddf508280a90')\"\n",
              "            title=\"Convert this dataframe to an interactive table.\"\n",
              "            style=\"display:none;\">\n",
              "\n",
              "  <svg xmlns=\"http://www.w3.org/2000/svg\" height=\"24px\" viewBox=\"0 -960 960 960\">\n",
              "    <path d=\"M120-120v-720h720v720H120Zm60-500h600v-160H180v160Zm220 220h160v-160H400v160Zm0 220h160v-160H400v160ZM180-400h160v-160H180v160Zm440 0h160v-160H620v160ZM180-180h160v-160H180v160Zm440 0h160v-160H620v160Z\"/>\n",
              "  </svg>\n",
              "    </button>\n",
              "\n",
              "  <style>\n",
              "    .colab-df-container {\n",
              "      display:flex;\n",
              "      gap: 12px;\n",
              "    }\n",
              "\n",
              "    .colab-df-convert {\n",
              "      background-color: #E8F0FE;\n",
              "      border: none;\n",
              "      border-radius: 50%;\n",
              "      cursor: pointer;\n",
              "      display: none;\n",
              "      fill: #1967D2;\n",
              "      height: 32px;\n",
              "      padding: 0 0 0 0;\n",
              "      width: 32px;\n",
              "    }\n",
              "\n",
              "    .colab-df-convert:hover {\n",
              "      background-color: #E2EBFA;\n",
              "      box-shadow: 0px 1px 2px rgba(60, 64, 67, 0.3), 0px 1px 3px 1px rgba(60, 64, 67, 0.15);\n",
              "      fill: #174EA6;\n",
              "    }\n",
              "\n",
              "    .colab-df-buttons div {\n",
              "      margin-bottom: 4px;\n",
              "    }\n",
              "\n",
              "    [theme=dark] .colab-df-convert {\n",
              "      background-color: #3B4455;\n",
              "      fill: #D2E3FC;\n",
              "    }\n",
              "\n",
              "    [theme=dark] .colab-df-convert:hover {\n",
              "      background-color: #434B5C;\n",
              "      box-shadow: 0px 1px 3px 1px rgba(0, 0, 0, 0.15);\n",
              "      filter: drop-shadow(0px 1px 2px rgba(0, 0, 0, 0.3));\n",
              "      fill: #FFFFFF;\n",
              "    }\n",
              "  </style>\n",
              "\n",
              "    <script>\n",
              "      const buttonEl =\n",
              "        document.querySelector('#df-dd5a4568-bca1-4144-af49-ddf508280a90 button.colab-df-convert');\n",
              "      buttonEl.style.display =\n",
              "        google.colab.kernel.accessAllowed ? 'block' : 'none';\n",
              "\n",
              "      async function convertToInteractive(key) {\n",
              "        const element = document.querySelector('#df-dd5a4568-bca1-4144-af49-ddf508280a90');\n",
              "        const dataTable =\n",
              "          await google.colab.kernel.invokeFunction('convertToInteractive',\n",
              "                                                    [key], {});\n",
              "        if (!dataTable) return;\n",
              "\n",
              "        const docLinkHtml = 'Like what you see? Visit the ' +\n",
              "          '<a target=\"_blank\" href=https://colab.research.google.com/notebooks/data_table.ipynb>data table notebook</a>'\n",
              "          + ' to learn more about interactive tables.';\n",
              "        element.innerHTML = '';\n",
              "        dataTable['output_type'] = 'display_data';\n",
              "        await google.colab.output.renderOutput(dataTable, element);\n",
              "        const docLink = document.createElement('div');\n",
              "        docLink.innerHTML = docLinkHtml;\n",
              "        element.appendChild(docLink);\n",
              "      }\n",
              "    </script>\n",
              "  </div>\n",
              "\n",
              "\n",
              "<div id=\"df-92e37b6b-4c5b-434c-a399-8436706d88fd\">\n",
              "  <button class=\"colab-df-quickchart\" onclick=\"quickchart('df-92e37b6b-4c5b-434c-a399-8436706d88fd')\"\n",
              "            title=\"Suggest charts.\"\n",
              "            style=\"display:none;\">\n",
              "\n",
              "<svg xmlns=\"http://www.w3.org/2000/svg\" height=\"24px\"viewBox=\"0 0 24 24\"\n",
              "     width=\"24px\">\n",
              "    <g>\n",
              "        <path d=\"M19 3H5c-1.1 0-2 .9-2 2v14c0 1.1.9 2 2 2h14c1.1 0 2-.9 2-2V5c0-1.1-.9-2-2-2zM9 17H7v-7h2v7zm4 0h-2V7h2v10zm4 0h-2v-4h2v4z\"/>\n",
              "    </g>\n",
              "</svg>\n",
              "  </button>\n",
              "\n",
              "<style>\n",
              "  .colab-df-quickchart {\n",
              "      --bg-color: #E8F0FE;\n",
              "      --fill-color: #1967D2;\n",
              "      --hover-bg-color: #E2EBFA;\n",
              "      --hover-fill-color: #174EA6;\n",
              "      --disabled-fill-color: #AAA;\n",
              "      --disabled-bg-color: #DDD;\n",
              "  }\n",
              "\n",
              "  [theme=dark] .colab-df-quickchart {\n",
              "      --bg-color: #3B4455;\n",
              "      --fill-color: #D2E3FC;\n",
              "      --hover-bg-color: #434B5C;\n",
              "      --hover-fill-color: #FFFFFF;\n",
              "      --disabled-bg-color: #3B4455;\n",
              "      --disabled-fill-color: #666;\n",
              "  }\n",
              "\n",
              "  .colab-df-quickchart {\n",
              "    background-color: var(--bg-color);\n",
              "    border: none;\n",
              "    border-radius: 50%;\n",
              "    cursor: pointer;\n",
              "    display: none;\n",
              "    fill: var(--fill-color);\n",
              "    height: 32px;\n",
              "    padding: 0;\n",
              "    width: 32px;\n",
              "  }\n",
              "\n",
              "  .colab-df-quickchart:hover {\n",
              "    background-color: var(--hover-bg-color);\n",
              "    box-shadow: 0 1px 2px rgba(60, 64, 67, 0.3), 0 1px 3px 1px rgba(60, 64, 67, 0.15);\n",
              "    fill: var(--button-hover-fill-color);\n",
              "  }\n",
              "\n",
              "  .colab-df-quickchart-complete:disabled,\n",
              "  .colab-df-quickchart-complete:disabled:hover {\n",
              "    background-color: var(--disabled-bg-color);\n",
              "    fill: var(--disabled-fill-color);\n",
              "    box-shadow: none;\n",
              "  }\n",
              "\n",
              "  .colab-df-spinner {\n",
              "    border: 2px solid var(--fill-color);\n",
              "    border-color: transparent;\n",
              "    border-bottom-color: var(--fill-color);\n",
              "    animation:\n",
              "      spin 1s steps(1) infinite;\n",
              "  }\n",
              "\n",
              "  @keyframes spin {\n",
              "    0% {\n",
              "      border-color: transparent;\n",
              "      border-bottom-color: var(--fill-color);\n",
              "      border-left-color: var(--fill-color);\n",
              "    }\n",
              "    20% {\n",
              "      border-color: transparent;\n",
              "      border-left-color: var(--fill-color);\n",
              "      border-top-color: var(--fill-color);\n",
              "    }\n",
              "    30% {\n",
              "      border-color: transparent;\n",
              "      border-left-color: var(--fill-color);\n",
              "      border-top-color: var(--fill-color);\n",
              "      border-right-color: var(--fill-color);\n",
              "    }\n",
              "    40% {\n",
              "      border-color: transparent;\n",
              "      border-right-color: var(--fill-color);\n",
              "      border-top-color: var(--fill-color);\n",
              "    }\n",
              "    60% {\n",
              "      border-color: transparent;\n",
              "      border-right-color: var(--fill-color);\n",
              "    }\n",
              "    80% {\n",
              "      border-color: transparent;\n",
              "      border-right-color: var(--fill-color);\n",
              "      border-bottom-color: var(--fill-color);\n",
              "    }\n",
              "    90% {\n",
              "      border-color: transparent;\n",
              "      border-bottom-color: var(--fill-color);\n",
              "    }\n",
              "  }\n",
              "</style>\n",
              "\n",
              "  <script>\n",
              "    async function quickchart(key) {\n",
              "      const quickchartButtonEl =\n",
              "        document.querySelector('#' + key + ' button');\n",
              "      quickchartButtonEl.disabled = true;  // To prevent multiple clicks.\n",
              "      quickchartButtonEl.classList.add('colab-df-spinner');\n",
              "      try {\n",
              "        const charts = await google.colab.kernel.invokeFunction(\n",
              "            'suggestCharts', [key], {});\n",
              "      } catch (error) {\n",
              "        console.error('Error during call to suggestCharts:', error);\n",
              "      }\n",
              "      quickchartButtonEl.classList.remove('colab-df-spinner');\n",
              "      quickchartButtonEl.classList.add('colab-df-quickchart-complete');\n",
              "    }\n",
              "    (() => {\n",
              "      let quickchartButtonEl =\n",
              "        document.querySelector('#df-92e37b6b-4c5b-434c-a399-8436706d88fd button');\n",
              "      quickchartButtonEl.style.display =\n",
              "        google.colab.kernel.accessAllowed ? 'block' : 'none';\n",
              "    })();\n",
              "  </script>\n",
              "</div>\n",
              "    </div>\n",
              "  </div>\n"
            ]
          },
          "metadata": {},
          "execution_count": 72
        }
      ]
    },
    {
      "cell_type": "code",
      "source": [
        "job_skills['count'] = job_skills['skills'].apply(lambda x: len(x))"
      ],
      "metadata": {
        "id": "Q9qKMb0lWIw5"
      },
      "execution_count": null,
      "outputs": []
    },
    {
      "cell_type": "code",
      "source": [
        "job_skills['count'].value_counts().sort_index()"
      ],
      "metadata": {
        "colab": {
          "base_uri": "https://localhost:8080/"
        },
        "id": "mSGfyE4mW5Jn",
        "outputId": "4393ca5e-ebfb-4bad-9bee-888d524da0ca"
      },
      "execution_count": null,
      "outputs": [
        {
          "output_type": "execute_result",
          "data": {
            "text/plain": [
              "0      755\n",
              "1      139\n",
              "2      196\n",
              "3     1329\n",
              "4      450\n",
              "5      417\n",
              "6      478\n",
              "7      482\n",
              "8      507\n",
              "9      244\n",
              "10     375\n",
              "11     280\n",
              "12     306\n",
              "13     342\n",
              "14     239\n",
              "15     208\n",
              "16     187\n",
              "17      88\n",
              "18      99\n",
              "19      52\n",
              "20      76\n",
              "21      50\n",
              "22      20\n",
              "23      18\n",
              "24      11\n",
              "25       3\n",
              "26      14\n",
              "28       4\n",
              "29       1\n",
              "30       2\n",
              "32       1\n",
              "42       1\n",
              "Name: count, dtype: int64"
            ]
          },
          "metadata": {},
          "execution_count": 31
        }
      ]
    },
    {
      "cell_type": "code",
      "source": [
        "x = job_skills.query('count == 42')\n",
        "x"
      ],
      "metadata": {
        "colab": {
          "base_uri": "https://localhost:8080/",
          "height": 81
        },
        "id": "BYvYD1NGWdPS",
        "outputId": "02639327-055e-4cad-a248-b2603510d9ae"
      },
      "execution_count": null,
      "outputs": [
        {
          "output_type": "execute_result",
          "data": {
            "text/plain": [
              "      job_id                                             skills  count\n",
              "6303   21576  [data_lake, sap, database, power_bi, ruby, agi...     42"
            ],
            "text/html": [
              "\n",
              "  <div id=\"df-6e6fcd45-b7b2-4b77-9115-dbe1fbc1049c\" class=\"colab-df-container\">\n",
              "    <div>\n",
              "<style scoped>\n",
              "    .dataframe tbody tr th:only-of-type {\n",
              "        vertical-align: middle;\n",
              "    }\n",
              "\n",
              "    .dataframe tbody tr th {\n",
              "        vertical-align: top;\n",
              "    }\n",
              "\n",
              "    .dataframe thead th {\n",
              "        text-align: right;\n",
              "    }\n",
              "</style>\n",
              "<table border=\"1\" class=\"dataframe\">\n",
              "  <thead>\n",
              "    <tr style=\"text-align: right;\">\n",
              "      <th></th>\n",
              "      <th>job_id</th>\n",
              "      <th>skills</th>\n",
              "      <th>count</th>\n",
              "    </tr>\n",
              "  </thead>\n",
              "  <tbody>\n",
              "    <tr>\n",
              "      <th>6303</th>\n",
              "      <td>21576</td>\n",
              "      <td>[data_lake, sap, database, power_bi, ruby, agi...</td>\n",
              "      <td>42</td>\n",
              "    </tr>\n",
              "  </tbody>\n",
              "</table>\n",
              "</div>\n",
              "    <div class=\"colab-df-buttons\">\n",
              "\n",
              "  <div class=\"colab-df-container\">\n",
              "    <button class=\"colab-df-convert\" onclick=\"convertToInteractive('df-6e6fcd45-b7b2-4b77-9115-dbe1fbc1049c')\"\n",
              "            title=\"Convert this dataframe to an interactive table.\"\n",
              "            style=\"display:none;\">\n",
              "\n",
              "  <svg xmlns=\"http://www.w3.org/2000/svg\" height=\"24px\" viewBox=\"0 -960 960 960\">\n",
              "    <path d=\"M120-120v-720h720v720H120Zm60-500h600v-160H180v160Zm220 220h160v-160H400v160Zm0 220h160v-160H400v160ZM180-400h160v-160H180v160Zm440 0h160v-160H620v160ZM180-180h160v-160H180v160Zm440 0h160v-160H620v160Z\"/>\n",
              "  </svg>\n",
              "    </button>\n",
              "\n",
              "  <style>\n",
              "    .colab-df-container {\n",
              "      display:flex;\n",
              "      gap: 12px;\n",
              "    }\n",
              "\n",
              "    .colab-df-convert {\n",
              "      background-color: #E8F0FE;\n",
              "      border: none;\n",
              "      border-radius: 50%;\n",
              "      cursor: pointer;\n",
              "      display: none;\n",
              "      fill: #1967D2;\n",
              "      height: 32px;\n",
              "      padding: 0 0 0 0;\n",
              "      width: 32px;\n",
              "    }\n",
              "\n",
              "    .colab-df-convert:hover {\n",
              "      background-color: #E2EBFA;\n",
              "      box-shadow: 0px 1px 2px rgba(60, 64, 67, 0.3), 0px 1px 3px 1px rgba(60, 64, 67, 0.15);\n",
              "      fill: #174EA6;\n",
              "    }\n",
              "\n",
              "    .colab-df-buttons div {\n",
              "      margin-bottom: 4px;\n",
              "    }\n",
              "\n",
              "    [theme=dark] .colab-df-convert {\n",
              "      background-color: #3B4455;\n",
              "      fill: #D2E3FC;\n",
              "    }\n",
              "\n",
              "    [theme=dark] .colab-df-convert:hover {\n",
              "      background-color: #434B5C;\n",
              "      box-shadow: 0px 1px 3px 1px rgba(0, 0, 0, 0.15);\n",
              "      filter: drop-shadow(0px 1px 2px rgba(0, 0, 0, 0.3));\n",
              "      fill: #FFFFFF;\n",
              "    }\n",
              "  </style>\n",
              "\n",
              "    <script>\n",
              "      const buttonEl =\n",
              "        document.querySelector('#df-6e6fcd45-b7b2-4b77-9115-dbe1fbc1049c button.colab-df-convert');\n",
              "      buttonEl.style.display =\n",
              "        google.colab.kernel.accessAllowed ? 'block' : 'none';\n",
              "\n",
              "      async function convertToInteractive(key) {\n",
              "        const element = document.querySelector('#df-6e6fcd45-b7b2-4b77-9115-dbe1fbc1049c');\n",
              "        const dataTable =\n",
              "          await google.colab.kernel.invokeFunction('convertToInteractive',\n",
              "                                                    [key], {});\n",
              "        if (!dataTable) return;\n",
              "\n",
              "        const docLinkHtml = 'Like what you see? Visit the ' +\n",
              "          '<a target=\"_blank\" href=https://colab.research.google.com/notebooks/data_table.ipynb>data table notebook</a>'\n",
              "          + ' to learn more about interactive tables.';\n",
              "        element.innerHTML = '';\n",
              "        dataTable['output_type'] = 'display_data';\n",
              "        await google.colab.output.renderOutput(dataTable, element);\n",
              "        const docLink = document.createElement('div');\n",
              "        docLink.innerHTML = docLinkHtml;\n",
              "        element.appendChild(docLink);\n",
              "      }\n",
              "    </script>\n",
              "  </div>\n",
              "\n",
              "    </div>\n",
              "  </div>\n"
            ]
          },
          "metadata": {},
          "execution_count": 34
        }
      ]
    },
    {
      "cell_type": "code",
      "source": [
        "job_info.loc[21576]"
      ],
      "metadata": {
        "colab": {
          "base_uri": "https://localhost:8080/"
        },
        "id": "HeJ4d9ikbKbi",
        "outputId": "a7c8a3e3-bb6c-45e8-9d32-b0143b635715"
      },
      "execution_count": null,
      "outputs": [
        {
          "output_type": "execute_result",
          "data": {
            "text/plain": [
              "posting_date                          2021-07-09 00:00:00\n",
              "title                                       Data Engineer\n",
              "position_type                                   Full-time\n",
              "position_level                           Mid-Senior level\n",
              "yoe                                                     7\n",
              "location                                    United States\n",
              "number_of_applicants                                 15.0\n",
              "company_name                                     Jenzabar\n",
              "company_industry        Information Technology & Services\n",
              "company_size                                      201-500\n",
              "Name: 21576, dtype: object"
            ]
          },
          "metadata": {},
          "execution_count": 35
        }
      ]
    },
    {
      "cell_type": "code",
      "source": [
        "job_skills = job_skills.explode('skills')[['job_id', 'skills']].reset_index(drop=True)"
      ],
      "metadata": {
        "id": "7h0gcX7_ekUp"
      },
      "execution_count": null,
      "outputs": []
    },
    {
      "cell_type": "code",
      "source": [
        "set(job_skills['skills'])"
      ],
      "metadata": {
        "colab": {
          "base_uri": "https://localhost:8080/"
        },
        "id": "nELjTrHjeqiy",
        "outputId": "393714ae-92c5-42dd-87dc-066eb583d933"
      },
      "execution_count": null,
      "outputs": [
        {
          "output_type": "execute_result",
          "data": {
            "text/plain": [
              "{'agile',\n",
              " 'agile/scrum',\n",
              " 'ai',\n",
              " 'ai/ml',\n",
              " 'airflow',\n",
              " 'ajax',\n",
              " 'alteryx',\n",
              " 'apache',\n",
              " 'asp.net',\n",
              " 'atlassian',\n",
              " 'aurora',\n",
              " 'aws',\n",
              " 'azure',\n",
              " 'back-end',\n",
              " 'backend',\n",
              " 'bash',\n",
              " 'bi',\n",
              " 'bigquery',\n",
              " 'bitbucket',\n",
              " 'bloomberg',\n",
              " 'c',\n",
              " 'c++',\n",
              " 'c/c++',\n",
              " 'ci/cd',\n",
              " 'cicd',\n",
              " 'cloud',\n",
              " 'codebase',\n",
              " 'coding',\n",
              " 'cognos',\n",
              " 'css',\n",
              " 'data_lake',\n",
              " 'data_lakes',\n",
              " 'database',\n",
              " 'datadog',\n",
              " 'dataops',\n",
              " 'datarobot',\n",
              " 'dax',\n",
              " 'devops',\n",
              " 'docker',\n",
              " 'dplyr',\n",
              " 'ember.js',\n",
              " 'etl',\n",
              " 'excel',\n",
              " 'frontend',\n",
              " 'fullstack',\n",
              " 'gcp',\n",
              " 'gdpr',\n",
              " 'ggplot2',\n",
              " 'git',\n",
              " 'github',\n",
              " 'gitlab',\n",
              " 'go',\n",
              " 'golang',\n",
              " 'graphql',\n",
              " 'hadoop',\n",
              " 'html',\n",
              " 'html5',\n",
              " 'iaas',\n",
              " 'ibm',\n",
              " 'ios',\n",
              " 'iot',\n",
              " 'java',\n",
              " 'javascript',\n",
              " 'javascript/typescript',\n",
              " 'jira',\n",
              " 'jquery',\n",
              " 'js',\n",
              " 'json',\n",
              " 'jupyter',\n",
              " 'kanban',\n",
              " 'keras',\n",
              " 'kotlin',\n",
              " 'linux',\n",
              " 'linux/unix',\n",
              " 'looker',\n",
              " 'machine_learning',\n",
              " 'macros',\n",
              " 'matlab',\n",
              " 'matplotlib',\n",
              " 'microsoft',\n",
              " 'microstrategy',\n",
              " 'ml',\n",
              " 'mlops',\n",
              " 'mlr',\n",
              " 'mongo',\n",
              " 'mongodb',\n",
              " 'mssql',\n",
              " 'mxnet',\n",
              " 'mysql',\n",
              " nan,\n",
              " 'nlp',\n",
              " 'nltk',\n",
              " 'no-sql',\n",
              " 'node',\n",
              " 'node.js',\n",
              " 'nosql',\n",
              " 'numpy',\n",
              " 'oracle',\n",
              " 'outlook',\n",
              " 'paas',\n",
              " 'pandas',\n",
              " 'perl',\n",
              " 'php',\n",
              " 'pl/sql',\n",
              " 'plotly',\n",
              " 'postgres',\n",
              " 'postgresql',\n",
              " 'power_bi',\n",
              " 'powerbi',\n",
              " 'powerpoint',\n",
              " 'powerpoints',\n",
              " 'powershell',\n",
              " 'programming',\n",
              " 'pyspark',\n",
              " 'python',\n",
              " 'pytorch',\n",
              " 'qlik',\n",
              " 'r',\n",
              " 'redis',\n",
              " 'redshift',\n",
              " 'rshiny',\n",
              " 'ruby',\n",
              " 'rust',\n",
              " 'saas',\n",
              " 'sap',\n",
              " 'sas',\n",
              " 'sass',\n",
              " 'scala',\n",
              " 'scikit-learn',\n",
              " 'scrum',\n",
              " 'scrum/agile',\n",
              " 'seaborn',\n",
              " 'selenium',\n",
              " 'server',\n",
              " 'sharepoint',\n",
              " 'shell',\n",
              " 'slack',\n",
              " 'snowflake',\n",
              " 'spark',\n",
              " 'splunk',\n",
              " 'spreadsheet',\n",
              " 'spreadsheets',\n",
              " 'spss',\n",
              " 'sql',\n",
              " 'ssas',\n",
              " 'ssis',\n",
              " 'ssrs',\n",
              " 'swift',\n",
              " 't-sql',\n",
              " 'tableau',\n",
              " 'tensorflow',\n",
              " 'terminal',\n",
              " 'theano',\n",
              " 'tidyr',\n",
              " 'twilio',\n",
              " 'ubuntu',\n",
              " 'unix',\n",
              " 'unix/linux',\n",
              " 'vb.net',\n",
              " 'vba',\n",
              " 'visio',\n",
              " 'visual_basic',\n",
              " 'vue',\n",
              " 'vue.js',\n",
              " 'warehousing',\n",
              " 'word',\n",
              " 'xml'}"
            ]
          },
          "metadata": {},
          "execution_count": 40
        }
      ]
    },
    {
      "cell_type": "code",
      "source": [
        "replace_dict = {'back-end': 'backend', 'cicd': 'ci/cd', 'data_lakes': 'data_lake',\n",
        "                'go': 'golang', 'js': 'javascript', 'ml': 'machine_learning',\n",
        "                'mongo': 'mongodb', 'no-sql': 'nosql', 'postgresql': 'postgres',\n",
        "                'power_bi': 'powerbi', 'powerpoints': 'powerpoint',\n",
        "                'spreadsheets': 'spreadsheet', 't-sql': 'mssql', 'vue.js': 'vue',\n",
        "                'scikit-learn': 'machine_learning', 'keras': 'ai', 'nlp': 'ai',\n",
        "                'nltk': 'ai', 'pytorch': 'ai', 'tensorflow': 'ai', 'theano': 'ai',\n",
        "                'matplotlib': 'python', 'numpy': 'python', 'pandas': 'python',\n",
        "                'seaborn': 'python'}\n",
        "\n",
        "job_skills['skills'] = job_skills['skills'].replace(replace_dict)\n",
        "job_skills = job_skills.query('skills != \"coding\"')\n",
        "job_skills = job_skills.query('skills != \"programming\"')"
      ],
      "metadata": {
        "id": "CuQTS3oejU-_"
      },
      "execution_count": null,
      "outputs": []
    },
    {
      "cell_type": "code",
      "source": [
        "filter = job_skills.duplicated()\n",
        "job_skills[filter]"
      ],
      "metadata": {
        "colab": {
          "base_uri": "https://localhost:8080/",
          "height": 423
        },
        "id": "149TxXgbmoPF",
        "outputId": "dc671b00-e363-4730-c5be-b3c14ead8b92"
      },
      "execution_count": null,
      "outputs": [
        {
          "output_type": "execute_result",
          "data": {
            "text/plain": [
              "       job_id            skills\n",
              "15          5         data_lake\n",
              "232       135            python\n",
              "282       157          postgres\n",
              "447       225  machine_learning\n",
              "501       252             mssql\n",
              "...       ...               ...\n",
              "54671   25091                ai\n",
              "54672   25091  machine_learning\n",
              "54701   25109  machine_learning\n",
              "54716   25113            python\n",
              "54720   25113            python\n",
              "\n",
              "[1818 rows x 2 columns]"
            ],
            "text/html": [
              "\n",
              "  <div id=\"df-8cbf03e5-dd4e-4fa6-a8ae-3437aec26587\" class=\"colab-df-container\">\n",
              "    <div>\n",
              "<style scoped>\n",
              "    .dataframe tbody tr th:only-of-type {\n",
              "        vertical-align: middle;\n",
              "    }\n",
              "\n",
              "    .dataframe tbody tr th {\n",
              "        vertical-align: top;\n",
              "    }\n",
              "\n",
              "    .dataframe thead th {\n",
              "        text-align: right;\n",
              "    }\n",
              "</style>\n",
              "<table border=\"1\" class=\"dataframe\">\n",
              "  <thead>\n",
              "    <tr style=\"text-align: right;\">\n",
              "      <th></th>\n",
              "      <th>job_id</th>\n",
              "      <th>skills</th>\n",
              "    </tr>\n",
              "  </thead>\n",
              "  <tbody>\n",
              "    <tr>\n",
              "      <th>15</th>\n",
              "      <td>5</td>\n",
              "      <td>data_lake</td>\n",
              "    </tr>\n",
              "    <tr>\n",
              "      <th>232</th>\n",
              "      <td>135</td>\n",
              "      <td>python</td>\n",
              "    </tr>\n",
              "    <tr>\n",
              "      <th>282</th>\n",
              "      <td>157</td>\n",
              "      <td>postgres</td>\n",
              "    </tr>\n",
              "    <tr>\n",
              "      <th>447</th>\n",
              "      <td>225</td>\n",
              "      <td>machine_learning</td>\n",
              "    </tr>\n",
              "    <tr>\n",
              "      <th>501</th>\n",
              "      <td>252</td>\n",
              "      <td>mssql</td>\n",
              "    </tr>\n",
              "    <tr>\n",
              "      <th>...</th>\n",
              "      <td>...</td>\n",
              "      <td>...</td>\n",
              "    </tr>\n",
              "    <tr>\n",
              "      <th>54671</th>\n",
              "      <td>25091</td>\n",
              "      <td>ai</td>\n",
              "    </tr>\n",
              "    <tr>\n",
              "      <th>54672</th>\n",
              "      <td>25091</td>\n",
              "      <td>machine_learning</td>\n",
              "    </tr>\n",
              "    <tr>\n",
              "      <th>54701</th>\n",
              "      <td>25109</td>\n",
              "      <td>machine_learning</td>\n",
              "    </tr>\n",
              "    <tr>\n",
              "      <th>54716</th>\n",
              "      <td>25113</td>\n",
              "      <td>python</td>\n",
              "    </tr>\n",
              "    <tr>\n",
              "      <th>54720</th>\n",
              "      <td>25113</td>\n",
              "      <td>python</td>\n",
              "    </tr>\n",
              "  </tbody>\n",
              "</table>\n",
              "<p>1818 rows × 2 columns</p>\n",
              "</div>\n",
              "    <div class=\"colab-df-buttons\">\n",
              "\n",
              "  <div class=\"colab-df-container\">\n",
              "    <button class=\"colab-df-convert\" onclick=\"convertToInteractive('df-8cbf03e5-dd4e-4fa6-a8ae-3437aec26587')\"\n",
              "            title=\"Convert this dataframe to an interactive table.\"\n",
              "            style=\"display:none;\">\n",
              "\n",
              "  <svg xmlns=\"http://www.w3.org/2000/svg\" height=\"24px\" viewBox=\"0 -960 960 960\">\n",
              "    <path d=\"M120-120v-720h720v720H120Zm60-500h600v-160H180v160Zm220 220h160v-160H400v160Zm0 220h160v-160H400v160ZM180-400h160v-160H180v160Zm440 0h160v-160H620v160ZM180-180h160v-160H180v160Zm440 0h160v-160H620v160Z\"/>\n",
              "  </svg>\n",
              "    </button>\n",
              "\n",
              "  <style>\n",
              "    .colab-df-container {\n",
              "      display:flex;\n",
              "      gap: 12px;\n",
              "    }\n",
              "\n",
              "    .colab-df-convert {\n",
              "      background-color: #E8F0FE;\n",
              "      border: none;\n",
              "      border-radius: 50%;\n",
              "      cursor: pointer;\n",
              "      display: none;\n",
              "      fill: #1967D2;\n",
              "      height: 32px;\n",
              "      padding: 0 0 0 0;\n",
              "      width: 32px;\n",
              "    }\n",
              "\n",
              "    .colab-df-convert:hover {\n",
              "      background-color: #E2EBFA;\n",
              "      box-shadow: 0px 1px 2px rgba(60, 64, 67, 0.3), 0px 1px 3px 1px rgba(60, 64, 67, 0.15);\n",
              "      fill: #174EA6;\n",
              "    }\n",
              "\n",
              "    .colab-df-buttons div {\n",
              "      margin-bottom: 4px;\n",
              "    }\n",
              "\n",
              "    [theme=dark] .colab-df-convert {\n",
              "      background-color: #3B4455;\n",
              "      fill: #D2E3FC;\n",
              "    }\n",
              "\n",
              "    [theme=dark] .colab-df-convert:hover {\n",
              "      background-color: #434B5C;\n",
              "      box-shadow: 0px 1px 3px 1px rgba(0, 0, 0, 0.15);\n",
              "      filter: drop-shadow(0px 1px 2px rgba(0, 0, 0, 0.3));\n",
              "      fill: #FFFFFF;\n",
              "    }\n",
              "  </style>\n",
              "\n",
              "    <script>\n",
              "      const buttonEl =\n",
              "        document.querySelector('#df-8cbf03e5-dd4e-4fa6-a8ae-3437aec26587 button.colab-df-convert');\n",
              "      buttonEl.style.display =\n",
              "        google.colab.kernel.accessAllowed ? 'block' : 'none';\n",
              "\n",
              "      async function convertToInteractive(key) {\n",
              "        const element = document.querySelector('#df-8cbf03e5-dd4e-4fa6-a8ae-3437aec26587');\n",
              "        const dataTable =\n",
              "          await google.colab.kernel.invokeFunction('convertToInteractive',\n",
              "                                                    [key], {});\n",
              "        if (!dataTable) return;\n",
              "\n",
              "        const docLinkHtml = 'Like what you see? Visit the ' +\n",
              "          '<a target=\"_blank\" href=https://colab.research.google.com/notebooks/data_table.ipynb>data table notebook</a>'\n",
              "          + ' to learn more about interactive tables.';\n",
              "        element.innerHTML = '';\n",
              "        dataTable['output_type'] = 'display_data';\n",
              "        await google.colab.output.renderOutput(dataTable, element);\n",
              "        const docLink = document.createElement('div');\n",
              "        docLink.innerHTML = docLinkHtml;\n",
              "        element.appendChild(docLink);\n",
              "      }\n",
              "    </script>\n",
              "  </div>\n",
              "\n",
              "\n",
              "<div id=\"df-5640cb5a-f25e-4a75-bb6c-879cb24c723e\">\n",
              "  <button class=\"colab-df-quickchart\" onclick=\"quickchart('df-5640cb5a-f25e-4a75-bb6c-879cb24c723e')\"\n",
              "            title=\"Suggest charts.\"\n",
              "            style=\"display:none;\">\n",
              "\n",
              "<svg xmlns=\"http://www.w3.org/2000/svg\" height=\"24px\"viewBox=\"0 0 24 24\"\n",
              "     width=\"24px\">\n",
              "    <g>\n",
              "        <path d=\"M19 3H5c-1.1 0-2 .9-2 2v14c0 1.1.9 2 2 2h14c1.1 0 2-.9 2-2V5c0-1.1-.9-2-2-2zM9 17H7v-7h2v7zm4 0h-2V7h2v10zm4 0h-2v-4h2v4z\"/>\n",
              "    </g>\n",
              "</svg>\n",
              "  </button>\n",
              "\n",
              "<style>\n",
              "  .colab-df-quickchart {\n",
              "      --bg-color: #E8F0FE;\n",
              "      --fill-color: #1967D2;\n",
              "      --hover-bg-color: #E2EBFA;\n",
              "      --hover-fill-color: #174EA6;\n",
              "      --disabled-fill-color: #AAA;\n",
              "      --disabled-bg-color: #DDD;\n",
              "  }\n",
              "\n",
              "  [theme=dark] .colab-df-quickchart {\n",
              "      --bg-color: #3B4455;\n",
              "      --fill-color: #D2E3FC;\n",
              "      --hover-bg-color: #434B5C;\n",
              "      --hover-fill-color: #FFFFFF;\n",
              "      --disabled-bg-color: #3B4455;\n",
              "      --disabled-fill-color: #666;\n",
              "  }\n",
              "\n",
              "  .colab-df-quickchart {\n",
              "    background-color: var(--bg-color);\n",
              "    border: none;\n",
              "    border-radius: 50%;\n",
              "    cursor: pointer;\n",
              "    display: none;\n",
              "    fill: var(--fill-color);\n",
              "    height: 32px;\n",
              "    padding: 0;\n",
              "    width: 32px;\n",
              "  }\n",
              "\n",
              "  .colab-df-quickchart:hover {\n",
              "    background-color: var(--hover-bg-color);\n",
              "    box-shadow: 0 1px 2px rgba(60, 64, 67, 0.3), 0 1px 3px 1px rgba(60, 64, 67, 0.15);\n",
              "    fill: var(--button-hover-fill-color);\n",
              "  }\n",
              "\n",
              "  .colab-df-quickchart-complete:disabled,\n",
              "  .colab-df-quickchart-complete:disabled:hover {\n",
              "    background-color: var(--disabled-bg-color);\n",
              "    fill: var(--disabled-fill-color);\n",
              "    box-shadow: none;\n",
              "  }\n",
              "\n",
              "  .colab-df-spinner {\n",
              "    border: 2px solid var(--fill-color);\n",
              "    border-color: transparent;\n",
              "    border-bottom-color: var(--fill-color);\n",
              "    animation:\n",
              "      spin 1s steps(1) infinite;\n",
              "  }\n",
              "\n",
              "  @keyframes spin {\n",
              "    0% {\n",
              "      border-color: transparent;\n",
              "      border-bottom-color: var(--fill-color);\n",
              "      border-left-color: var(--fill-color);\n",
              "    }\n",
              "    20% {\n",
              "      border-color: transparent;\n",
              "      border-left-color: var(--fill-color);\n",
              "      border-top-color: var(--fill-color);\n",
              "    }\n",
              "    30% {\n",
              "      border-color: transparent;\n",
              "      border-left-color: var(--fill-color);\n",
              "      border-top-color: var(--fill-color);\n",
              "      border-right-color: var(--fill-color);\n",
              "    }\n",
              "    40% {\n",
              "      border-color: transparent;\n",
              "      border-right-color: var(--fill-color);\n",
              "      border-top-color: var(--fill-color);\n",
              "    }\n",
              "    60% {\n",
              "      border-color: transparent;\n",
              "      border-right-color: var(--fill-color);\n",
              "    }\n",
              "    80% {\n",
              "      border-color: transparent;\n",
              "      border-right-color: var(--fill-color);\n",
              "      border-bottom-color: var(--fill-color);\n",
              "    }\n",
              "    90% {\n",
              "      border-color: transparent;\n",
              "      border-bottom-color: var(--fill-color);\n",
              "    }\n",
              "  }\n",
              "</style>\n",
              "\n",
              "  <script>\n",
              "    async function quickchart(key) {\n",
              "      const quickchartButtonEl =\n",
              "        document.querySelector('#' + key + ' button');\n",
              "      quickchartButtonEl.disabled = true;  // To prevent multiple clicks.\n",
              "      quickchartButtonEl.classList.add('colab-df-spinner');\n",
              "      try {\n",
              "        const charts = await google.colab.kernel.invokeFunction(\n",
              "            'suggestCharts', [key], {});\n",
              "      } catch (error) {\n",
              "        console.error('Error during call to suggestCharts:', error);\n",
              "      }\n",
              "      quickchartButtonEl.classList.remove('colab-df-spinner');\n",
              "      quickchartButtonEl.classList.add('colab-df-quickchart-complete');\n",
              "    }\n",
              "    (() => {\n",
              "      let quickchartButtonEl =\n",
              "        document.querySelector('#df-5640cb5a-f25e-4a75-bb6c-879cb24c723e button');\n",
              "      quickchartButtonEl.style.display =\n",
              "        google.colab.kernel.accessAllowed ? 'block' : 'none';\n",
              "    })();\n",
              "  </script>\n",
              "</div>\n",
              "    </div>\n",
              "  </div>\n"
            ]
          },
          "metadata": {},
          "execution_count": 34
        }
      ]
    },
    {
      "cell_type": "code",
      "source": [
        "job_skills = job_skills[~filter]"
      ],
      "metadata": {
        "id": "fuMtNAGImtGm"
      },
      "execution_count": null,
      "outputs": []
    },
    {
      "cell_type": "code",
      "source": [
        "a = set(job_info.index)\n",
        "b = set(job_skills['job_id'])\n",
        "a.difference(b)"
      ],
      "metadata": {
        "colab": {
          "base_uri": "https://localhost:8080/"
        },
        "id": "_XCrNF6lnrpB",
        "outputId": "0c6b132a-1667-4874-af52-1cef8a606b23"
      },
      "execution_count": null,
      "outputs": [
        {
          "output_type": "execute_result",
          "data": {
            "text/plain": [
              "{11841}"
            ]
          },
          "metadata": {},
          "execution_count": 36
        }
      ]
    },
    {
      "cell_type": "code",
      "source": [
        "b.difference(a)"
      ],
      "metadata": {
        "colab": {
          "base_uri": "https://localhost:8080/"
        },
        "id": "nEF2Np8ToA6o",
        "outputId": "413ab1bf-8c43-4f93-b8ac-e7fe4d0b4646"
      },
      "execution_count": null,
      "outputs": [
        {
          "output_type": "execute_result",
          "data": {
            "text/plain": [
              "set()"
            ]
          },
          "metadata": {},
          "execution_count": 37
        }
      ]
    },
    {
      "cell_type": "code",
      "source": [
        "data.loc[11841]"
      ],
      "metadata": {
        "colab": {
          "base_uri": "https://localhost:8080/"
        },
        "id": "9uxALunXoDn4",
        "outputId": "1d1ab740-a5ad-4337-aac8-a69691427c8e"
      },
      "execution_count": null,
      "outputs": [
        {
          "output_type": "execute_result",
          "data": {
            "text/plain": [
              "posting_date            2020-04-30 00:00:00\n",
              "title                          Data Analyst\n",
              "position_type                     Full-time\n",
              "position_level             Mid-Senior level\n",
              "yoe                                       4\n",
              "skills                           ['coding']\n",
              "location                      San Diego, CA\n",
              "number_of_applicants                   12.0\n",
              "company_name                     Cue Health\n",
              "company_industry              Biotechnology\n",
              "company_size                    1,001-5,000\n",
              "Name: 11841, dtype: object"
            ]
          },
          "metadata": {},
          "execution_count": 58
        }
      ]
    },
    {
      "cell_type": "code",
      "source": [
        "new_row = {'job_id': 11841, 'skills': np.nan}\n",
        "job_skills = job_skills.append(new_row, ignore_index=True)"
      ],
      "metadata": {
        "colab": {
          "base_uri": "https://localhost:8080/"
        },
        "id": "v7OWOvQ0obpk",
        "outputId": "6bdd7c27-ed44-4316-e5bf-a5900422cd75"
      },
      "execution_count": null,
      "outputs": [
        {
          "output_type": "stream",
          "name": "stderr",
          "text": [
            "<ipython-input-38-4fd690a562b6>:2: FutureWarning: The frame.append method is deprecated and will be removed from pandas in a future version. Use pandas.concat instead.\n",
            "  job_skills = job_skills.append(new_row, ignore_index=True)\n"
          ]
        }
      ]
    },
    {
      "cell_type": "code",
      "source": [
        "job_info = job_info.reset_index()\n",
        "job_info.rename({'index': 'job_id'}, axis=1, inplace=True)"
      ],
      "metadata": {
        "id": "3bIFtAiMpvSg"
      },
      "execution_count": null,
      "outputs": []
    },
    {
      "cell_type": "code",
      "source": [
        "path = '/content/drive/My Drive/MyFolder/'\n",
        "file_name = 'job_info.csv'\n",
        "\n",
        "with open(path+file_name, 'w') as f:\n",
        "    job_info.to_csv(f, index=False)"
      ],
      "metadata": {
        "id": "TvjmFay9oNeg"
      },
      "execution_count": null,
      "outputs": []
    },
    {
      "cell_type": "code",
      "source": [
        "path = '/content/drive/My Drive/MyFolder/'\n",
        "file_name = 'job_skills.csv'\n",
        "\n",
        "with open(path+file_name, 'w') as f:\n",
        "    job_skills.to_csv(f, index=False)"
      ],
      "metadata": {
        "id": "SJwsKHBEp_Yh"
      },
      "execution_count": null,
      "outputs": []
    }
  ]
}
